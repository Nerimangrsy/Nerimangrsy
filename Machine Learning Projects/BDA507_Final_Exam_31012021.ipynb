{
  "nbformat": 4,
  "nbformat_minor": 0,
  "metadata": {
    "colab": {
      "name": "BDA507_Final_Exam(Take_Home) (3).ipynb",
      "provenance": [],
      "collapsed_sections": []
    },
    "kernelspec": {
      "name": "python3",
      "display_name": "Python 3"
    }
  },
  "cells": [
    {
      "cell_type": "markdown",
      "metadata": {
        "id": "3EAIeyRpCpUV"
      },
      "source": [
        "## 1. Data Acquisition"
      ]
    },
    {
      "cell_type": "markdown",
      "metadata": {
        "id": "5nQub3YyqDCx"
      },
      "source": [
        "The dataset contains the features of the patients who came to the hospital's emergency department. This data is obtained from the [link](https://figshare.com/articles/dataset/Triage_accuracy_and_causes_of_mistriage_using_the_Korean_Triage_and_Acuity_Scale/9779267?file=17515730) in order to make a triage analysis of patients who came to the emergency department.\r\n",
        "\r\n",
        "\r\n",
        "\r\n",
        "Using the demographic and medical symptoms of the patients, we will prioritize them and perform triage, or segmentation, using the clustering method.\r\n",
        "\r\n",
        "Triage is the process of sorting people based on their need for immediate medical treatment as compared to their chance of benefiting from such care."
      ]
    },
    {
      "cell_type": "code",
      "metadata": {
        "id": "ziQyBpkIEWbv"
      },
      "source": [
        "import pandas as pd\r\n",
        "import numpy as np\r\n",
        "import matplotlib.pyplot as plt\r\n",
        "import seaborn as sns\r\n",
        "import plotly.express as px"
      ],
      "execution_count": 1,
      "outputs": []
    },
    {
      "cell_type": "code",
      "metadata": {
        "colab": {
          "base_uri": "https://localhost:8080/",
          "height": 460
        },
        "id": "X7IxVHl8EXco",
        "outputId": "08c448c8-8de2-4f61-e449-730beae57144"
      },
      "source": [
        "file=('/content/pone.0216972.s001.xlsx')\r\n",
        "data=pd.read_excel(file) \r\n",
        "data.head()"
      ],
      "execution_count": 2,
      "outputs": [
        {
          "output_type": "execute_result",
          "data": {
            "text/html": [
              "<div>\n",
              "<style scoped>\n",
              "    .dataframe tbody tr th:only-of-type {\n",
              "        vertical-align: middle;\n",
              "    }\n",
              "\n",
              "    .dataframe tbody tr th {\n",
              "        vertical-align: top;\n",
              "    }\n",
              "\n",
              "    .dataframe thead th {\n",
              "        text-align: right;\n",
              "    }\n",
              "</style>\n",
              "<table border=\"1\" class=\"dataframe\">\n",
              "  <thead>\n",
              "    <tr style=\"text-align: right;\">\n",
              "      <th></th>\n",
              "      <th>Group</th>\n",
              "      <th>Sex</th>\n",
              "      <th>Age</th>\n",
              "      <th>Patients number per hour</th>\n",
              "      <th>Arrival mode</th>\n",
              "      <th>Injury</th>\n",
              "      <th>Chief_complain</th>\n",
              "      <th>Mental</th>\n",
              "      <th>Pain</th>\n",
              "      <th>NRS_pain</th>\n",
              "      <th>SBP</th>\n",
              "      <th>DBP</th>\n",
              "      <th>HR</th>\n",
              "      <th>RR</th>\n",
              "      <th>BT</th>\n",
              "      <th>Saturation</th>\n",
              "      <th>KTAS_RN</th>\n",
              "      <th>Diagnosis in ED</th>\n",
              "      <th>Disposition</th>\n",
              "      <th>KTAS_expert</th>\n",
              "      <th>Error_group</th>\n",
              "      <th>Length of stay_min</th>\n",
              "      <th>KTAS duration_min</th>\n",
              "      <th>mistriage</th>\n",
              "    </tr>\n",
              "  </thead>\n",
              "  <tbody>\n",
              "    <tr>\n",
              "      <th>0</th>\n",
              "      <td>2</td>\n",
              "      <td>2</td>\n",
              "      <td>71.0</td>\n",
              "      <td>3</td>\n",
              "      <td>3</td>\n",
              "      <td>2</td>\n",
              "      <td>right ocular pain</td>\n",
              "      <td>1</td>\n",
              "      <td>1</td>\n",
              "      <td>2.0</td>\n",
              "      <td>160</td>\n",
              "      <td>100</td>\n",
              "      <td>84</td>\n",
              "      <td>18</td>\n",
              "      <td>36.6</td>\n",
              "      <td>100</td>\n",
              "      <td>2</td>\n",
              "      <td>Corneal abrasion</td>\n",
              "      <td>1</td>\n",
              "      <td>4</td>\n",
              "      <td>2</td>\n",
              "      <td>86.0</td>\n",
              "      <td>5.000000</td>\n",
              "      <td>1</td>\n",
              "    </tr>\n",
              "    <tr>\n",
              "      <th>1</th>\n",
              "      <td>1</td>\n",
              "      <td>1</td>\n",
              "      <td>56.0</td>\n",
              "      <td>12</td>\n",
              "      <td>3</td>\n",
              "      <td>2</td>\n",
              "      <td>right forearm burn</td>\n",
              "      <td>1</td>\n",
              "      <td>1</td>\n",
              "      <td>2.0</td>\n",
              "      <td>137</td>\n",
              "      <td>75</td>\n",
              "      <td>60</td>\n",
              "      <td>20</td>\n",
              "      <td>36.5</td>\n",
              "      <td>NaN</td>\n",
              "      <td>4</td>\n",
              "      <td>Burn of hand, firts degree dorsum</td>\n",
              "      <td>1</td>\n",
              "      <td>5</td>\n",
              "      <td>4</td>\n",
              "      <td>64.0</td>\n",
              "      <td>3.950000</td>\n",
              "      <td>1</td>\n",
              "    </tr>\n",
              "    <tr>\n",
              "      <th>2</th>\n",
              "      <td>2</td>\n",
              "      <td>1</td>\n",
              "      <td>67.5</td>\n",
              "      <td>8</td>\n",
              "      <td>2</td>\n",
              "      <td>2</td>\n",
              "      <td>arm pain, Lt</td>\n",
              "      <td>1</td>\n",
              "      <td>1</td>\n",
              "      <td>2.0</td>\n",
              "      <td>130</td>\n",
              "      <td>80</td>\n",
              "      <td>102</td>\n",
              "      <td>20</td>\n",
              "      <td>36.6</td>\n",
              "      <td>98</td>\n",
              "      <td>4</td>\n",
              "      <td>Fracture of surgical neck of humerus, closed</td>\n",
              "      <td>2</td>\n",
              "      <td>5</td>\n",
              "      <td>4</td>\n",
              "      <td>862.0</td>\n",
              "      <td>1.000000</td>\n",
              "      <td>1</td>\n",
              "    </tr>\n",
              "    <tr>\n",
              "      <th>3</th>\n",
              "      <td>1</td>\n",
              "      <td>2</td>\n",
              "      <td>71.0</td>\n",
              "      <td>8</td>\n",
              "      <td>1</td>\n",
              "      <td>1</td>\n",
              "      <td>ascites tapping</td>\n",
              "      <td>1</td>\n",
              "      <td>1</td>\n",
              "      <td>3.0</td>\n",
              "      <td>139</td>\n",
              "      <td>94</td>\n",
              "      <td>88</td>\n",
              "      <td>20</td>\n",
              "      <td>36.5</td>\n",
              "      <td>NaN</td>\n",
              "      <td>4</td>\n",
              "      <td>Alcoholic liver cirrhosis with ascites</td>\n",
              "      <td>1</td>\n",
              "      <td>5</td>\n",
              "      <td>6</td>\n",
              "      <td>108.0</td>\n",
              "      <td>9.833333</td>\n",
              "      <td>1</td>\n",
              "    </tr>\n",
              "    <tr>\n",
              "      <th>4</th>\n",
              "      <td>1</td>\n",
              "      <td>2</td>\n",
              "      <td>58.0</td>\n",
              "      <td>4</td>\n",
              "      <td>3</td>\n",
              "      <td>1</td>\n",
              "      <td>distension, abd</td>\n",
              "      <td>1</td>\n",
              "      <td>1</td>\n",
              "      <td>3.0</td>\n",
              "      <td>91</td>\n",
              "      <td>67</td>\n",
              "      <td>93</td>\n",
              "      <td>18</td>\n",
              "      <td>36.5</td>\n",
              "      <td>NaN</td>\n",
              "      <td>4</td>\n",
              "      <td>Ascites</td>\n",
              "      <td>1</td>\n",
              "      <td>5</td>\n",
              "      <td>8</td>\n",
              "      <td>109.0</td>\n",
              "      <td>6.600000</td>\n",
              "      <td>1</td>\n",
              "    </tr>\n",
              "  </tbody>\n",
              "</table>\n",
              "</div>"
            ],
            "text/plain": [
              "   Group  Sex   Age  ...  Length of stay_min  KTAS duration_min  mistriage\n",
              "0      2    2  71.0  ...                86.0           5.000000          1\n",
              "1      1    1  56.0  ...                64.0           3.950000          1\n",
              "2      2    1  67.5  ...               862.0           1.000000          1\n",
              "3      1    2  71.0  ...               108.0           9.833333          1\n",
              "4      1    2  58.0  ...               109.0           6.600000          1\n",
              "\n",
              "[5 rows x 24 columns]"
            ]
          },
          "metadata": {
            "tags": []
          },
          "execution_count": 2
        }
      ]
    },
    {
      "cell_type": "markdown",
      "metadata": {
        "id": "0ojKlJbBC3Lp"
      },
      "source": [
        "## 2. Data Exploration"
      ]
    },
    {
      "cell_type": "markdown",
      "metadata": {
        "id": "P-VI2vx-ydYV"
      },
      "source": [
        "The dataset consists of 1267 observations (patients) with 24 features.The main goal of this study is to determine the real-time status priority correctly and to group the patients based on their vital signs and demographic features\r\n",
        "\r\n",
        "Also this dataset is used to identify emergency department triage accuracy using the Korean Triage and Acuity Scale (KTAS) and evaluate the causes of mistriage."
      ]
    },
    {
      "cell_type": "code",
      "metadata": {
        "colab": {
          "base_uri": "https://localhost:8080/"
        },
        "id": "x5NPEZQCynCR",
        "outputId": "a995f9d5-ec13-47ed-a497-276ee3a12b1b"
      },
      "source": [
        "data.info()"
      ],
      "execution_count": 3,
      "outputs": [
        {
          "output_type": "stream",
          "text": [
            "<class 'pandas.core.frame.DataFrame'>\n",
            "RangeIndex: 1267 entries, 0 to 1266\n",
            "Data columns (total 24 columns):\n",
            " #   Column                    Non-Null Count  Dtype  \n",
            "---  ------                    --------------  -----  \n",
            " 0   Group                     1267 non-null   int64  \n",
            " 1   Sex                       1267 non-null   int64  \n",
            " 2   Age                       1267 non-null   float64\n",
            " 3   Patients number per hour  1267 non-null   int64  \n",
            " 4   Arrival mode              1267 non-null   int64  \n",
            " 5   Injury                    1267 non-null   int64  \n",
            " 6   Chief_complain            1267 non-null   object \n",
            " 7   Mental                    1267 non-null   int64  \n",
            " 8   Pain                      1267 non-null   int64  \n",
            " 9   NRS_pain                  711 non-null    float64\n",
            " 10  SBP                       1267 non-null   object \n",
            " 11  DBP                       1267 non-null   object \n",
            " 12  HR                        1267 non-null   object \n",
            " 13  RR                        1267 non-null   object \n",
            " 14  BT                        1267 non-null   object \n",
            " 15  Saturation                579 non-null    object \n",
            " 16  KTAS_RN                   1267 non-null   int64  \n",
            " 17  Diagnosis in ED           1265 non-null   object \n",
            " 18  Disposition               1267 non-null   int64  \n",
            " 19  KTAS_expert               1267 non-null   int64  \n",
            " 20  Error_group               1267 non-null   int64  \n",
            " 21  Length of stay_min        1267 non-null   float64\n",
            " 22  KTAS duration_min         1267 non-null   float64\n",
            " 23  mistriage                 1267 non-null   int64  \n",
            "dtypes: float64(4), int64(12), object(8)\n",
            "memory usage: 237.7+ KB\n"
          ],
          "name": "stdout"
        }
      ]
    },
    {
      "cell_type": "markdown",
      "metadata": {
        "id": "PenIHmV3zi4B"
      },
      "source": [
        "Explanation of Features of the dataset :\r\n",
        "\r\n",
        "- Group: 1: Local ED / 2: Regional ED (ED: emergency department)\r\n",
        "- Sex: 1: Female / 2: Male\r\n",
        "- Age: Age of the patient\r\n",
        "- Patients number per hour : Patients number/hour\r\n",
        "- Arrival mode: The patient's arrival type \r\n",
        "(1: Walking / 2: 119 use / 3: Private car / 4: Private ambulance /\r\n",
        " 5: Public transfotation (Police ets) /6: Wheelchair / 7: Others)\r\n",
        "- Injury: 1: Non-injury / 2: Injury\r\n",
        "- Chief_complain: The patient's main complaint\r\n",
        "- Mental: Mental state of the patient (1: Alert / 2: Verbal response / 3: Pain response / 4: Unconciousness)\r\n",
        "- Pain: The patient's pain (0: Pain / 1: Non-pain)\r\n",
        "- NRS_pain: Numeric rating scales of pain (scaling : 1-10)\r\n",
        "- SBP: Systolid blood pressure (120 - 130 mmHg)\r\n",
        "- DBP: Diastolic blood pressure (70 - 90 mmHg)\r\n",
        "- HR: Heart rate of the patient\r\n",
        "- RR: Respiration rate of the patient\r\n",
        "- BT: Body temperature of the patient (ideal 36.5° C - 37.2° C )\r\n",
        "- Saturation: Oxygen saturation in the blood (SPO2 value)\r\n",
        "- KTAS_RN: KTAS result of nurses in ED (the value of triage and scale)\r\n",
        "  ( 1: Resuscitation , 2: Emergent , 3: Urgent, 4: Less Urgent, 5: Non urgent )\r\n",
        "- Diagnosis in ED: patient diagnosis in ED\r\n",
        "- Disposition: patient disposition (1: Discharge / 2: Ward admission / 3: ICU (Intensive care unit)admission / 4: AMA (Against medical advice) discharge / 5: Transfer / 6: Death / 7: OP fom ED)\r\n",
        "- KTAS_expert: KTAS result of experts. ( 1: Resuscitation , 2: Emergent , 3: Urgent, 4: Less Urgent, 5: Non urgent )\r\n",
        "- Error_group: 1: Vital sign / 2: Physical exam / 3: Psychatric /4: Pain / 5: Mental / 6: Underlying disease / 7: Medical records of other ED / 8: On set / 9: Others\r\n",
        "- Length of stay_min: Total length of stay of the patient (minutes)\r\n",
        "- KTAS duration_min: the time the patient spent in KTAS (minutes)\r\n",
        "- mistriage: Evaluation according to the triage specified in terms of nurse and expert (0: Correct / 1: Over triage / 2: Under triage)\r\n",
        "\r\n"
      ]
    },
    {
      "cell_type": "markdown",
      "metadata": {
        "id": "WsivFXmmC2Pm"
      },
      "source": [
        "## 3. Data Preprocessing\r\n"
      ]
    },
    {
      "cell_type": "markdown",
      "metadata": {
        "id": "fqS55DhdQxwv"
      },
      "source": [
        "First, we can change the names of the columns in the dataset to make them more understandable and comprehensive."
      ]
    },
    {
      "cell_type": "code",
      "metadata": {
        "colab": {
          "base_uri": "https://localhost:8080/"
        },
        "id": "fqEqDUciQ0m3",
        "outputId": "8f733088-8eb3-478f-fc95-8fa080eecfa4"
      },
      "source": [
        "data.columns"
      ],
      "execution_count": 4,
      "outputs": [
        {
          "output_type": "execute_result",
          "data": {
            "text/plain": [
              "Index(['Group', 'Sex', 'Age', 'Patients number per hour', 'Arrival mode',\n",
              "       'Injury', 'Chief_complain', 'Mental', 'Pain', 'NRS_pain', 'SBP', 'DBP',\n",
              "       'HR', 'RR', 'BT', 'Saturation', 'KTAS_RN', 'Diagnosis in ED',\n",
              "       'Disposition', 'KTAS_expert', 'Error_group', 'Length of stay_min',\n",
              "       'KTAS duration_min', 'mistriage'],\n",
              "      dtype='object')"
            ]
          },
          "metadata": {
            "tags": []
          },
          "execution_count": 4
        }
      ]
    },
    {
      "cell_type": "code",
      "metadata": {
        "colab": {
          "base_uri": "https://localhost:8080/"
        },
        "id": "JmGF1oIHQ2Md",
        "outputId": "56841a51-e44f-4638-fa57-6813a2f0427d"
      },
      "source": [
        "# renaming column names\r\n",
        "data=data.rename(columns={\"Group\" : \"Group_ED\", \"Patients number per hour\" : \"Patients_number/hour\", \"Arrival mode\" : \"Arrival_Type\", \"Chief_complain\" : \"Main_Complaint\", \"Mental\" : \"Mental_State\", \"NRS_pain\" : \"NRS_Pain\", \"SBP\" : \"Systolid_BP\", \"DBP\" : \"Diastolic_BP\", \"HR\": \"Heart_Rate\", \"RR\" : \"Respiration_Rate\", \r\n",
        "                            \"BT\" : \"Body_Temperature\", \"KTAS_RN\" : \"KTAS_Nurse\", \"Diagnosis in ED\" : \"Patient_Diagnosis\", \"Disposition\" : \"Patient_Disposition\", \"KTAS_expert\" : \"KTAS_Expert\", \"Error_group\" : \"Error_Group\", \r\n",
        "                          \"Length of stay_min\" : \"Total_Stay_duration/min\", \"KTAS duration_min\" : \"KTAS_duration/min\", \"mistriage\" : \"Mistriage\"})\r\n",
        "data.columns"
      ],
      "execution_count": 5,
      "outputs": [
        {
          "output_type": "execute_result",
          "data": {
            "text/plain": [
              "Index(['Group_ED', 'Sex', 'Age', 'Patients_number/hour', 'Arrival_Type',\n",
              "       'Injury', 'Main_Complaint', 'Mental_State', 'Pain', 'NRS_Pain',\n",
              "       'Systolid_BP', 'Diastolic_BP', 'Heart_Rate', 'Respiration_Rate',\n",
              "       'Body_Temperature', 'Saturation', 'KTAS_Nurse', 'Patient_Diagnosis',\n",
              "       'Patient_Disposition', 'KTAS_Expert', 'Error_Group',\n",
              "       'Total_Stay_duration/min', 'KTAS_duration/min', 'Mistriage'],\n",
              "      dtype='object')"
            ]
          },
          "metadata": {
            "tags": []
          },
          "execution_count": 5
        }
      ]
    },
    {
      "cell_type": "code",
      "metadata": {
        "colab": {
          "base_uri": "https://localhost:8080/",
          "height": 287
        },
        "id": "ecXI3LPrT5M7",
        "outputId": "65241b0b-0ba2-4ca7-cde3-a793a3b581c1"
      },
      "source": [
        "data.head()"
      ],
      "execution_count": 6,
      "outputs": [
        {
          "output_type": "execute_result",
          "data": {
            "text/html": [
              "<div>\n",
              "<style scoped>\n",
              "    .dataframe tbody tr th:only-of-type {\n",
              "        vertical-align: middle;\n",
              "    }\n",
              "\n",
              "    .dataframe tbody tr th {\n",
              "        vertical-align: top;\n",
              "    }\n",
              "\n",
              "    .dataframe thead th {\n",
              "        text-align: right;\n",
              "    }\n",
              "</style>\n",
              "<table border=\"1\" class=\"dataframe\">\n",
              "  <thead>\n",
              "    <tr style=\"text-align: right;\">\n",
              "      <th></th>\n",
              "      <th>Group_ED</th>\n",
              "      <th>Sex</th>\n",
              "      <th>Age</th>\n",
              "      <th>Patients_number/hour</th>\n",
              "      <th>Arrival_Type</th>\n",
              "      <th>Injury</th>\n",
              "      <th>Main_Complaint</th>\n",
              "      <th>Mental_State</th>\n",
              "      <th>Pain</th>\n",
              "      <th>NRS_Pain</th>\n",
              "      <th>Systolid_BP</th>\n",
              "      <th>Diastolic_BP</th>\n",
              "      <th>Heart_Rate</th>\n",
              "      <th>Respiration_Rate</th>\n",
              "      <th>Body_Temperature</th>\n",
              "      <th>Saturation</th>\n",
              "      <th>KTAS_Nurse</th>\n",
              "      <th>Patient_Diagnosis</th>\n",
              "      <th>Patient_Disposition</th>\n",
              "      <th>KTAS_Expert</th>\n",
              "      <th>Error_Group</th>\n",
              "      <th>Total_Stay_duration/min</th>\n",
              "      <th>KTAS_duration/min</th>\n",
              "      <th>Mistriage</th>\n",
              "    </tr>\n",
              "  </thead>\n",
              "  <tbody>\n",
              "    <tr>\n",
              "      <th>0</th>\n",
              "      <td>2</td>\n",
              "      <td>2</td>\n",
              "      <td>71.0</td>\n",
              "      <td>3</td>\n",
              "      <td>3</td>\n",
              "      <td>2</td>\n",
              "      <td>right ocular pain</td>\n",
              "      <td>1</td>\n",
              "      <td>1</td>\n",
              "      <td>2.0</td>\n",
              "      <td>160</td>\n",
              "      <td>100</td>\n",
              "      <td>84</td>\n",
              "      <td>18</td>\n",
              "      <td>36.6</td>\n",
              "      <td>100</td>\n",
              "      <td>2</td>\n",
              "      <td>Corneal abrasion</td>\n",
              "      <td>1</td>\n",
              "      <td>4</td>\n",
              "      <td>2</td>\n",
              "      <td>86.0</td>\n",
              "      <td>5.000000</td>\n",
              "      <td>1</td>\n",
              "    </tr>\n",
              "    <tr>\n",
              "      <th>1</th>\n",
              "      <td>1</td>\n",
              "      <td>1</td>\n",
              "      <td>56.0</td>\n",
              "      <td>12</td>\n",
              "      <td>3</td>\n",
              "      <td>2</td>\n",
              "      <td>right forearm burn</td>\n",
              "      <td>1</td>\n",
              "      <td>1</td>\n",
              "      <td>2.0</td>\n",
              "      <td>137</td>\n",
              "      <td>75</td>\n",
              "      <td>60</td>\n",
              "      <td>20</td>\n",
              "      <td>36.5</td>\n",
              "      <td>NaN</td>\n",
              "      <td>4</td>\n",
              "      <td>Burn of hand, firts degree dorsum</td>\n",
              "      <td>1</td>\n",
              "      <td>5</td>\n",
              "      <td>4</td>\n",
              "      <td>64.0</td>\n",
              "      <td>3.950000</td>\n",
              "      <td>1</td>\n",
              "    </tr>\n",
              "    <tr>\n",
              "      <th>2</th>\n",
              "      <td>2</td>\n",
              "      <td>1</td>\n",
              "      <td>67.5</td>\n",
              "      <td>8</td>\n",
              "      <td>2</td>\n",
              "      <td>2</td>\n",
              "      <td>arm pain, Lt</td>\n",
              "      <td>1</td>\n",
              "      <td>1</td>\n",
              "      <td>2.0</td>\n",
              "      <td>130</td>\n",
              "      <td>80</td>\n",
              "      <td>102</td>\n",
              "      <td>20</td>\n",
              "      <td>36.6</td>\n",
              "      <td>98</td>\n",
              "      <td>4</td>\n",
              "      <td>Fracture of surgical neck of humerus, closed</td>\n",
              "      <td>2</td>\n",
              "      <td>5</td>\n",
              "      <td>4</td>\n",
              "      <td>862.0</td>\n",
              "      <td>1.000000</td>\n",
              "      <td>1</td>\n",
              "    </tr>\n",
              "    <tr>\n",
              "      <th>3</th>\n",
              "      <td>1</td>\n",
              "      <td>2</td>\n",
              "      <td>71.0</td>\n",
              "      <td>8</td>\n",
              "      <td>1</td>\n",
              "      <td>1</td>\n",
              "      <td>ascites tapping</td>\n",
              "      <td>1</td>\n",
              "      <td>1</td>\n",
              "      <td>3.0</td>\n",
              "      <td>139</td>\n",
              "      <td>94</td>\n",
              "      <td>88</td>\n",
              "      <td>20</td>\n",
              "      <td>36.5</td>\n",
              "      <td>NaN</td>\n",
              "      <td>4</td>\n",
              "      <td>Alcoholic liver cirrhosis with ascites</td>\n",
              "      <td>1</td>\n",
              "      <td>5</td>\n",
              "      <td>6</td>\n",
              "      <td>108.0</td>\n",
              "      <td>9.833333</td>\n",
              "      <td>1</td>\n",
              "    </tr>\n",
              "    <tr>\n",
              "      <th>4</th>\n",
              "      <td>1</td>\n",
              "      <td>2</td>\n",
              "      <td>58.0</td>\n",
              "      <td>4</td>\n",
              "      <td>3</td>\n",
              "      <td>1</td>\n",
              "      <td>distension, abd</td>\n",
              "      <td>1</td>\n",
              "      <td>1</td>\n",
              "      <td>3.0</td>\n",
              "      <td>91</td>\n",
              "      <td>67</td>\n",
              "      <td>93</td>\n",
              "      <td>18</td>\n",
              "      <td>36.5</td>\n",
              "      <td>NaN</td>\n",
              "      <td>4</td>\n",
              "      <td>Ascites</td>\n",
              "      <td>1</td>\n",
              "      <td>5</td>\n",
              "      <td>8</td>\n",
              "      <td>109.0</td>\n",
              "      <td>6.600000</td>\n",
              "      <td>1</td>\n",
              "    </tr>\n",
              "  </tbody>\n",
              "</table>\n",
              "</div>"
            ],
            "text/plain": [
              "   Group_ED  Sex   Age  ...  Total_Stay_duration/min  KTAS_duration/min  Mistriage\n",
              "0         2    2  71.0  ...                     86.0           5.000000          1\n",
              "1         1    1  56.0  ...                     64.0           3.950000          1\n",
              "2         2    1  67.5  ...                    862.0           1.000000          1\n",
              "3         1    2  71.0  ...                    108.0           9.833333          1\n",
              "4         1    2  58.0  ...                    109.0           6.600000          1\n",
              "\n",
              "[5 rows x 24 columns]"
            ]
          },
          "metadata": {
            "tags": []
          },
          "execution_count": 6
        }
      ]
    },
    {
      "cell_type": "markdown",
      "metadata": {
        "id": "uG8YkwkFk7CJ"
      },
      "source": [
        "#### 3.1 Handling NaN Values :"
      ]
    },
    {
      "cell_type": "markdown",
      "metadata": {
        "id": "3BiRQ_bllKej"
      },
      "source": [
        "As always, we need to check for null values in the data."
      ]
    },
    {
      "cell_type": "code",
      "metadata": {
        "colab": {
          "base_uri": "https://localhost:8080/"
        },
        "id": "s7ol4YgYk6wv",
        "outputId": "41e9d669-02d9-44a7-84ea-a1acbc1cc163"
      },
      "source": [
        "data.isnull().sum()"
      ],
      "execution_count": 7,
      "outputs": [
        {
          "output_type": "execute_result",
          "data": {
            "text/plain": [
              "Group_ED                     0\n",
              "Sex                          0\n",
              "Age                          0\n",
              "Patients_number/hour         0\n",
              "Arrival_Type                 0\n",
              "Injury                       0\n",
              "Main_Complaint               0\n",
              "Mental_State                 0\n",
              "Pain                         0\n",
              "NRS_Pain                   556\n",
              "Systolid_BP                  0\n",
              "Diastolic_BP                 0\n",
              "Heart_Rate                   0\n",
              "Respiration_Rate             0\n",
              "Body_Temperature             0\n",
              "Saturation                 688\n",
              "KTAS_Nurse                   0\n",
              "Patient_Diagnosis            2\n",
              "Patient_Disposition          0\n",
              "KTAS_Expert                  0\n",
              "Error_Group                  0\n",
              "Total_Stay_duration/min      0\n",
              "KTAS_duration/min            0\n",
              "Mistriage                    0\n",
              "dtype: int64"
            ]
          },
          "metadata": {
            "tags": []
          },
          "execution_count": 7
        }
      ]
    },
    {
      "cell_type": "markdown",
      "metadata": {
        "id": "eO-qWU0AmGF8"
      },
      "source": [
        "When we look for null values, the column **NRS_Pain** has 556 null values The **Saturation** column has 688 null values and **Patient_Diagnosis** has 2 null values.\r\n",
        "\r\n",
        "For saturation column, we can calculate the most frequently recurring values that is the mode and then fill NaN values with this value. \r\n",
        "\r\n",
        "for NRS_pain column, there are 556 NaN values. NRS_pain means that Grading the patient's pain. This rating is actually a value that can be assigned by the verbal conversation of the nurse or doctor with the patient. For this reason, we do not know to assign a value based on which field in the data set for these null values. Also, since almost half of the total data set is null, let's not take any risk and remove this field from the data set."
      ]
    },
    {
      "cell_type": "code",
      "metadata": {
        "id": "Id3jcF1bmc6E"
      },
      "source": [
        "data = data.drop(columns=['NRS_Pain'])"
      ],
      "execution_count": 8,
      "outputs": []
    },
    {
      "cell_type": "code",
      "metadata": {
        "id": "cU3fwU6bskQQ"
      },
      "source": [
        "data['Saturation'] = data['Saturation'].fillna(data['Saturation'].mode()[0])"
      ],
      "execution_count": 9,
      "outputs": []
    },
    {
      "cell_type": "code",
      "metadata": {
        "colab": {
          "base_uri": "https://localhost:8080/"
        },
        "id": "vx7Hf3TYt-bZ",
        "outputId": "e55d8a3d-85e5-42c8-9c5b-25c156590585"
      },
      "source": [
        "data.isnull().sum()"
      ],
      "execution_count": 10,
      "outputs": [
        {
          "output_type": "execute_result",
          "data": {
            "text/plain": [
              "Group_ED                   0\n",
              "Sex                        0\n",
              "Age                        0\n",
              "Patients_number/hour       0\n",
              "Arrival_Type               0\n",
              "Injury                     0\n",
              "Main_Complaint             0\n",
              "Mental_State               0\n",
              "Pain                       0\n",
              "Systolid_BP                0\n",
              "Diastolic_BP               0\n",
              "Heart_Rate                 0\n",
              "Respiration_Rate           0\n",
              "Body_Temperature           0\n",
              "Saturation                 0\n",
              "KTAS_Nurse                 0\n",
              "Patient_Diagnosis          2\n",
              "Patient_Disposition        0\n",
              "KTAS_Expert                0\n",
              "Error_Group                0\n",
              "Total_Stay_duration/min    0\n",
              "KTAS_duration/min          0\n",
              "Mistriage                  0\n",
              "dtype: int64"
            ]
          },
          "metadata": {
            "tags": []
          },
          "execution_count": 10
        }
      ]
    },
    {
      "cell_type": "markdown",
      "metadata": {
        "id": "-YoeMjlzvQtX"
      },
      "source": [
        "Now , we hae just two NaN values in the Patient_Diagnosis column. We can remove these two row from the dataset. Because, this column shows the patients diagnosis and we cannot guess what the diagnosis was for that patient in the emergency department."
      ]
    },
    {
      "cell_type": "code",
      "metadata": {
        "colab": {
          "base_uri": "https://localhost:8080/",
          "height": 128
        },
        "id": "BLBeKDydvBuR",
        "outputId": "9774ae8f-00ee-4d17-97c7-25548a70720c"
      },
      "source": [
        "data[data.isnull().any(axis=1)]"
      ],
      "execution_count": 11,
      "outputs": [
        {
          "output_type": "execute_result",
          "data": {
            "text/html": [
              "<div>\n",
              "<style scoped>\n",
              "    .dataframe tbody tr th:only-of-type {\n",
              "        vertical-align: middle;\n",
              "    }\n",
              "\n",
              "    .dataframe tbody tr th {\n",
              "        vertical-align: top;\n",
              "    }\n",
              "\n",
              "    .dataframe thead th {\n",
              "        text-align: right;\n",
              "    }\n",
              "</style>\n",
              "<table border=\"1\" class=\"dataframe\">\n",
              "  <thead>\n",
              "    <tr style=\"text-align: right;\">\n",
              "      <th></th>\n",
              "      <th>Group_ED</th>\n",
              "      <th>Sex</th>\n",
              "      <th>Age</th>\n",
              "      <th>Patients_number/hour</th>\n",
              "      <th>Arrival_Type</th>\n",
              "      <th>Injury</th>\n",
              "      <th>Main_Complaint</th>\n",
              "      <th>Mental_State</th>\n",
              "      <th>Pain</th>\n",
              "      <th>Systolid_BP</th>\n",
              "      <th>Diastolic_BP</th>\n",
              "      <th>Heart_Rate</th>\n",
              "      <th>Respiration_Rate</th>\n",
              "      <th>Body_Temperature</th>\n",
              "      <th>Saturation</th>\n",
              "      <th>KTAS_Nurse</th>\n",
              "      <th>Patient_Diagnosis</th>\n",
              "      <th>Patient_Disposition</th>\n",
              "      <th>KTAS_Expert</th>\n",
              "      <th>Error_Group</th>\n",
              "      <th>Total_Stay_duration/min</th>\n",
              "      <th>KTAS_duration/min</th>\n",
              "      <th>Mistriage</th>\n",
              "    </tr>\n",
              "  </thead>\n",
              "  <tbody>\n",
              "    <tr>\n",
              "      <th>140</th>\n",
              "      <td>2</td>\n",
              "      <td>2</td>\n",
              "      <td>72.6</td>\n",
              "      <td>8</td>\n",
              "      <td>3</td>\n",
              "      <td>1</td>\n",
              "      <td>dyspnea</td>\n",
              "      <td>1</td>\n",
              "      <td>0</td>\n",
              "      <td>140</td>\n",
              "      <td>80</td>\n",
              "      <td>86</td>\n",
              "      <td>24</td>\n",
              "      <td>36.4</td>\n",
              "      <td>89</td>\n",
              "      <td>3</td>\n",
              "      <td>NaN</td>\n",
              "      <td>1</td>\n",
              "      <td>2</td>\n",
              "      <td>2</td>\n",
              "      <td>518.0</td>\n",
              "      <td>2.0</td>\n",
              "      <td>2</td>\n",
              "    </tr>\n",
              "    <tr>\n",
              "      <th>701</th>\n",
              "      <td>2</td>\n",
              "      <td>2</td>\n",
              "      <td>58.0</td>\n",
              "      <td>8</td>\n",
              "      <td>3</td>\n",
              "      <td>2</td>\n",
              "      <td>ocular pain, Lt.</td>\n",
              "      <td>1</td>\n",
              "      <td>1</td>\n",
              "      <td>160</td>\n",
              "      <td>100</td>\n",
              "      <td>84</td>\n",
              "      <td>20</td>\n",
              "      <td>36.5</td>\n",
              "      <td>97</td>\n",
              "      <td>4</td>\n",
              "      <td>NaN</td>\n",
              "      <td>1</td>\n",
              "      <td>4</td>\n",
              "      <td>0</td>\n",
              "      <td>193.0</td>\n",
              "      <td>3.0</td>\n",
              "      <td>0</td>\n",
              "    </tr>\n",
              "  </tbody>\n",
              "</table>\n",
              "</div>"
            ],
            "text/plain": [
              "     Group_ED  Sex   Age  ...  Total_Stay_duration/min  KTAS_duration/min  Mistriage\n",
              "140         2    2  72.6  ...                    518.0                2.0          2\n",
              "701         2    2  58.0  ...                    193.0                3.0          0\n",
              "\n",
              "[2 rows x 23 columns]"
            ]
          },
          "metadata": {
            "tags": []
          },
          "execution_count": 11
        }
      ]
    },
    {
      "cell_type": "code",
      "metadata": {
        "id": "RHLx2GPKwu3o"
      },
      "source": [
        "data = data.drop(index=[140, 701])"
      ],
      "execution_count": 12,
      "outputs": []
    },
    {
      "cell_type": "code",
      "metadata": {
        "colab": {
          "base_uri": "https://localhost:8080/",
          "height": 68
        },
        "id": "nWWZIyEfw48d",
        "outputId": "f9dd2e3b-b127-46c5-a315-187198a097cd"
      },
      "source": [
        "data[data.isnull().any(axis=1)]"
      ],
      "execution_count": 13,
      "outputs": [
        {
          "output_type": "execute_result",
          "data": {
            "text/html": [
              "<div>\n",
              "<style scoped>\n",
              "    .dataframe tbody tr th:only-of-type {\n",
              "        vertical-align: middle;\n",
              "    }\n",
              "\n",
              "    .dataframe tbody tr th {\n",
              "        vertical-align: top;\n",
              "    }\n",
              "\n",
              "    .dataframe thead th {\n",
              "        text-align: right;\n",
              "    }\n",
              "</style>\n",
              "<table border=\"1\" class=\"dataframe\">\n",
              "  <thead>\n",
              "    <tr style=\"text-align: right;\">\n",
              "      <th></th>\n",
              "      <th>Group_ED</th>\n",
              "      <th>Sex</th>\n",
              "      <th>Age</th>\n",
              "      <th>Patients_number/hour</th>\n",
              "      <th>Arrival_Type</th>\n",
              "      <th>Injury</th>\n",
              "      <th>Main_Complaint</th>\n",
              "      <th>Mental_State</th>\n",
              "      <th>Pain</th>\n",
              "      <th>Systolid_BP</th>\n",
              "      <th>Diastolic_BP</th>\n",
              "      <th>Heart_Rate</th>\n",
              "      <th>Respiration_Rate</th>\n",
              "      <th>Body_Temperature</th>\n",
              "      <th>Saturation</th>\n",
              "      <th>KTAS_Nurse</th>\n",
              "      <th>Patient_Diagnosis</th>\n",
              "      <th>Patient_Disposition</th>\n",
              "      <th>KTAS_Expert</th>\n",
              "      <th>Error_Group</th>\n",
              "      <th>Total_Stay_duration/min</th>\n",
              "      <th>KTAS_duration/min</th>\n",
              "      <th>Mistriage</th>\n",
              "    </tr>\n",
              "  </thead>\n",
              "  <tbody>\n",
              "  </tbody>\n",
              "</table>\n",
              "</div>"
            ],
            "text/plain": [
              "Empty DataFrame\n",
              "Columns: [Group_ED, Sex, Age, Patients_number/hour, Arrival_Type, Injury, Main_Complaint, Mental_State, Pain, Systolid_BP, Diastolic_BP, Heart_Rate, Respiration_Rate, Body_Temperature, Saturation, KTAS_Nurse, Patient_Diagnosis, Patient_Disposition, KTAS_Expert, Error_Group, Total_Stay_duration/min, KTAS_duration/min, Mistriage]\n",
              "Index: []"
            ]
          },
          "metadata": {
            "tags": []
          },
          "execution_count": 13
        }
      ]
    },
    {
      "cell_type": "code",
      "metadata": {
        "colab": {
          "base_uri": "https://localhost:8080/"
        },
        "id": "HRIJoMFIw44X",
        "outputId": "5f3edcc2-5650-4210-df30-838fd3308b09"
      },
      "source": [
        "data.info()"
      ],
      "execution_count": 14,
      "outputs": [
        {
          "output_type": "stream",
          "text": [
            "<class 'pandas.core.frame.DataFrame'>\n",
            "Int64Index: 1265 entries, 0 to 1266\n",
            "Data columns (total 23 columns):\n",
            " #   Column                   Non-Null Count  Dtype  \n",
            "---  ------                   --------------  -----  \n",
            " 0   Group_ED                 1265 non-null   int64  \n",
            " 1   Sex                      1265 non-null   int64  \n",
            " 2   Age                      1265 non-null   float64\n",
            " 3   Patients_number/hour     1265 non-null   int64  \n",
            " 4   Arrival_Type             1265 non-null   int64  \n",
            " 5   Injury                   1265 non-null   int64  \n",
            " 6   Main_Complaint           1265 non-null   object \n",
            " 7   Mental_State             1265 non-null   int64  \n",
            " 8   Pain                     1265 non-null   int64  \n",
            " 9   Systolid_BP              1265 non-null   object \n",
            " 10  Diastolic_BP             1265 non-null   object \n",
            " 11  Heart_Rate               1265 non-null   object \n",
            " 12  Respiration_Rate         1265 non-null   object \n",
            " 13  Body_Temperature         1265 non-null   object \n",
            " 14  Saturation               1265 non-null   object \n",
            " 15  KTAS_Nurse               1265 non-null   int64  \n",
            " 16  Patient_Diagnosis        1265 non-null   object \n",
            " 17  Patient_Disposition      1265 non-null   int64  \n",
            " 18  KTAS_Expert              1265 non-null   int64  \n",
            " 19  Error_Group              1265 non-null   int64  \n",
            " 20  Total_Stay_duration/min  1265 non-null   float64\n",
            " 21  KTAS_duration/min        1265 non-null   float64\n",
            " 22  Mistriage                1265 non-null   int64  \n",
            "dtypes: float64(3), int64(12), object(8)\n",
            "memory usage: 237.2+ KB\n"
          ],
          "name": "stdout"
        }
      ]
    },
    {
      "cell_type": "markdown",
      "metadata": {
        "id": "Y4AEJlxAxumR"
      },
      "source": [
        "#### 3.2 Handling Non-English Values"
      ]
    },
    {
      "cell_type": "markdown",
      "metadata": {
        "id": "n1KLCchYHHfq"
      },
      "source": [
        "Since the data set is obtained from hospitals in Korea, there are non-English values in the columns below. We can fill these values with null values and then find and fill in the most repeated values on the basis of those columns."
      ]
    },
    {
      "cell_type": "code",
      "metadata": {
        "id": "88Hk0TgLPR_J"
      },
      "source": [
        "# function to remove non-ASCII \r\n",
        "def remove_non_ascii(Saturation): \r\n",
        "    return ''.join(i for i in Saturation if ord(i)<128) \r\n",
        "data[\"Saturation\"] = data[\"Saturation\"].apply(remove_non_ascii)"
      ],
      "execution_count": 15,
      "outputs": []
    },
    {
      "cell_type": "code",
      "metadata": {
        "id": "oT-KensbPYQi"
      },
      "source": [
        "data.loc[data['Saturation'] == '']\r\n",
        "data = data.replace({'': np.nan})"
      ],
      "execution_count": 16,
      "outputs": []
    },
    {
      "cell_type": "code",
      "metadata": {
        "id": "jF9mKvdaPr_a"
      },
      "source": [
        "#filling NaN values with the mode\r\n",
        "data['Saturation'] = data['Saturation'].fillna(data['Saturation'].mode()[0])"
      ],
      "execution_count": 17,
      "outputs": []
    },
    {
      "cell_type": "code",
      "metadata": {
        "colab": {
          "base_uri": "https://localhost:8080/"
        },
        "id": "wlwjo0M8PkGM",
        "outputId": "6906ddf4-8a2a-4866-b77d-82e7640cab6b"
      },
      "source": [
        "len(data[data.isnull().any(axis=1)])"
      ],
      "execution_count": 18,
      "outputs": [
        {
          "output_type": "execute_result",
          "data": {
            "text/plain": [
              "0"
            ]
          },
          "metadata": {
            "tags": []
          },
          "execution_count": 18
        }
      ]
    },
    {
      "cell_type": "code",
      "metadata": {
        "id": "3-sN01t05xIh"
      },
      "source": [
        "# function to remove non-ASCII \r\n",
        "def remove_non_ascii(Main_Complaint): \r\n",
        "    return ''.join(i for i in Main_Complaint if ord(i)<128) \r\n",
        "data[\"Main_Complaint\"] = data[\"Main_Complaint\"].apply(remove_non_ascii)\r\n"
      ],
      "execution_count": 19,
      "outputs": []
    },
    {
      "cell_type": "code",
      "metadata": {
        "id": "riLlV8cx6oiT"
      },
      "source": [
        "data.loc[data['Main_Complaint'] == '']\r\n",
        "data = data.replace({'': np.nan})"
      ],
      "execution_count": 20,
      "outputs": []
    },
    {
      "cell_type": "code",
      "metadata": {
        "colab": {
          "base_uri": "https://localhost:8080/",
          "height": 415
        },
        "id": "0e_ftmDR6-Tq",
        "outputId": "9c27b2ff-61ee-4f85-cc59-1bbc8f336376"
      },
      "source": [
        "data[data.isnull().any(axis=1)]"
      ],
      "execution_count": 21,
      "outputs": [
        {
          "output_type": "execute_result",
          "data": {
            "text/html": [
              "<div>\n",
              "<style scoped>\n",
              "    .dataframe tbody tr th:only-of-type {\n",
              "        vertical-align: middle;\n",
              "    }\n",
              "\n",
              "    .dataframe tbody tr th {\n",
              "        vertical-align: top;\n",
              "    }\n",
              "\n",
              "    .dataframe thead th {\n",
              "        text-align: right;\n",
              "    }\n",
              "</style>\n",
              "<table border=\"1\" class=\"dataframe\">\n",
              "  <thead>\n",
              "    <tr style=\"text-align: right;\">\n",
              "      <th></th>\n",
              "      <th>Group_ED</th>\n",
              "      <th>Sex</th>\n",
              "      <th>Age</th>\n",
              "      <th>Patients_number/hour</th>\n",
              "      <th>Arrival_Type</th>\n",
              "      <th>Injury</th>\n",
              "      <th>Main_Complaint</th>\n",
              "      <th>Mental_State</th>\n",
              "      <th>Pain</th>\n",
              "      <th>Systolid_BP</th>\n",
              "      <th>Diastolic_BP</th>\n",
              "      <th>Heart_Rate</th>\n",
              "      <th>Respiration_Rate</th>\n",
              "      <th>Body_Temperature</th>\n",
              "      <th>Saturation</th>\n",
              "      <th>KTAS_Nurse</th>\n",
              "      <th>Patient_Diagnosis</th>\n",
              "      <th>Patient_Disposition</th>\n",
              "      <th>KTAS_Expert</th>\n",
              "      <th>Error_Group</th>\n",
              "      <th>Total_Stay_duration/min</th>\n",
              "      <th>KTAS_duration/min</th>\n",
              "      <th>Mistriage</th>\n",
              "    </tr>\n",
              "  </thead>\n",
              "  <tbody>\n",
              "    <tr>\n",
              "      <th>16</th>\n",
              "      <td>1</td>\n",
              "      <td>2</td>\n",
              "      <td>69.0</td>\n",
              "      <td>11</td>\n",
              "      <td>2</td>\n",
              "      <td>1</td>\n",
              "      <td>NaN</td>\n",
              "      <td>1</td>\n",
              "      <td>1</td>\n",
              "      <td>121</td>\n",
              "      <td>76</td>\n",
              "      <td>85</td>\n",
              "      <td>20</td>\n",
              "      <td>37.4</td>\n",
              "      <td>98</td>\n",
              "      <td>3</td>\n",
              "      <td>Acute gastroenteritis</td>\n",
              "      <td>1</td>\n",
              "      <td>4</td>\n",
              "      <td>1</td>\n",
              "      <td>363.0</td>\n",
              "      <td>10.533330</td>\n",
              "      <td>1</td>\n",
              "    </tr>\n",
              "    <tr>\n",
              "      <th>34</th>\n",
              "      <td>1</td>\n",
              "      <td>1</td>\n",
              "      <td>19.0</td>\n",
              "      <td>11</td>\n",
              "      <td>2</td>\n",
              "      <td>1</td>\n",
              "      <td>NaN</td>\n",
              "      <td>1</td>\n",
              "      <td>0</td>\n",
              "      <td>116</td>\n",
              "      <td>77</td>\n",
              "      <td>64</td>\n",
              "      <td>16</td>\n",
              "      <td>36.9</td>\n",
              "      <td>98</td>\n",
              "      <td>2</td>\n",
              "      <td>Acute gastritis</td>\n",
              "      <td>1</td>\n",
              "      <td>4</td>\n",
              "      <td>2</td>\n",
              "      <td>108.0</td>\n",
              "      <td>14.600000</td>\n",
              "      <td>1</td>\n",
              "    </tr>\n",
              "    <tr>\n",
              "      <th>38</th>\n",
              "      <td>1</td>\n",
              "      <td>2</td>\n",
              "      <td>47.0</td>\n",
              "      <td>10</td>\n",
              "      <td>2</td>\n",
              "      <td>2</td>\n",
              "      <td>NaN</td>\n",
              "      <td>1</td>\n",
              "      <td>0</td>\n",
              "      <td>141</td>\n",
              "      <td>95</td>\n",
              "      <td>76</td>\n",
              "      <td>18</td>\n",
              "      <td>36.6</td>\n",
              "      <td>98</td>\n",
              "      <td>3</td>\n",
              "      <td>Laceration of oral cavity</td>\n",
              "      <td>1</td>\n",
              "      <td>4</td>\n",
              "      <td>2</td>\n",
              "      <td>576.0</td>\n",
              "      <td>13.433330</td>\n",
              "      <td>1</td>\n",
              "    </tr>\n",
              "    <tr>\n",
              "      <th>190</th>\n",
              "      <td>1</td>\n",
              "      <td>1</td>\n",
              "      <td>78.0</td>\n",
              "      <td>6</td>\n",
              "      <td>2</td>\n",
              "      <td>1</td>\n",
              "      <td>NaN</td>\n",
              "      <td>1</td>\n",
              "      <td>1</td>\n",
              "      <td>측불</td>\n",
              "      <td>측불</td>\n",
              "      <td>측불</td>\n",
              "      <td>16</td>\n",
              "      <td>35.9</td>\n",
              "      <td>98</td>\n",
              "      <td>2</td>\n",
              "      <td>Chest pain</td>\n",
              "      <td>1</td>\n",
              "      <td>2</td>\n",
              "      <td>0</td>\n",
              "      <td>222.0</td>\n",
              "      <td>6.483333</td>\n",
              "      <td>0</td>\n",
              "    </tr>\n",
              "    <tr>\n",
              "      <th>378</th>\n",
              "      <td>1</td>\n",
              "      <td>1</td>\n",
              "      <td>61.0</td>\n",
              "      <td>5</td>\n",
              "      <td>3</td>\n",
              "      <td>1</td>\n",
              "      <td>NaN</td>\n",
              "      <td>1</td>\n",
              "      <td>1</td>\n",
              "      <td>90</td>\n",
              "      <td>53</td>\n",
              "      <td>109</td>\n",
              "      <td>16</td>\n",
              "      <td>37</td>\n",
              "      <td>98</td>\n",
              "      <td>5</td>\n",
              "      <td>Rash</td>\n",
              "      <td>2</td>\n",
              "      <td>5</td>\n",
              "      <td>0</td>\n",
              "      <td>291.0</td>\n",
              "      <td>6.916667</td>\n",
              "      <td>0</td>\n",
              "    </tr>\n",
              "    <tr>\n",
              "      <th>388</th>\n",
              "      <td>1</td>\n",
              "      <td>1</td>\n",
              "      <td>66.0</td>\n",
              "      <td>6</td>\n",
              "      <td>3</td>\n",
              "      <td>1</td>\n",
              "      <td>NaN</td>\n",
              "      <td>1</td>\n",
              "      <td>1</td>\n",
              "      <td>127</td>\n",
              "      <td>63</td>\n",
              "      <td>97</td>\n",
              "      <td>20</td>\n",
              "      <td>37.5</td>\n",
              "      <td>98</td>\n",
              "      <td>4</td>\n",
              "      <td>Acute gastroenteritis</td>\n",
              "      <td>1</td>\n",
              "      <td>4</td>\n",
              "      <td>0</td>\n",
              "      <td>155.0</td>\n",
              "      <td>8.383333</td>\n",
              "      <td>0</td>\n",
              "    </tr>\n",
              "    <tr>\n",
              "      <th>541</th>\n",
              "      <td>1</td>\n",
              "      <td>1</td>\n",
              "      <td>73.0</td>\n",
              "      <td>9</td>\n",
              "      <td>1</td>\n",
              "      <td>1</td>\n",
              "      <td>NaN</td>\n",
              "      <td>1</td>\n",
              "      <td>1</td>\n",
              "      <td>148</td>\n",
              "      <td>72</td>\n",
              "      <td>70</td>\n",
              "      <td>16</td>\n",
              "      <td>36.3</td>\n",
              "      <td>98</td>\n",
              "      <td>4</td>\n",
              "      <td>Herpes zoster</td>\n",
              "      <td>1</td>\n",
              "      <td>4</td>\n",
              "      <td>0</td>\n",
              "      <td>35.0</td>\n",
              "      <td>7.700000</td>\n",
              "      <td>0</td>\n",
              "    </tr>\n",
              "    <tr>\n",
              "      <th>844</th>\n",
              "      <td>1</td>\n",
              "      <td>1</td>\n",
              "      <td>22.0</td>\n",
              "      <td>13</td>\n",
              "      <td>3</td>\n",
              "      <td>1</td>\n",
              "      <td>NaN</td>\n",
              "      <td>1</td>\n",
              "      <td>0</td>\n",
              "      <td>99</td>\n",
              "      <td>65</td>\n",
              "      <td>74</td>\n",
              "      <td>20</td>\n",
              "      <td>36.6</td>\n",
              "      <td>98</td>\n",
              "      <td>4</td>\n",
              "      <td>Palpitation</td>\n",
              "      <td>1</td>\n",
              "      <td>4</td>\n",
              "      <td>0</td>\n",
              "      <td>163.0</td>\n",
              "      <td>5.066667</td>\n",
              "      <td>0</td>\n",
              "    </tr>\n",
              "    <tr>\n",
              "      <th>904</th>\n",
              "      <td>1</td>\n",
              "      <td>2</td>\n",
              "      <td>36.0</td>\n",
              "      <td>9</td>\n",
              "      <td>3</td>\n",
              "      <td>1</td>\n",
              "      <td>NaN</td>\n",
              "      <td>1</td>\n",
              "      <td>0</td>\n",
              "      <td>157</td>\n",
              "      <td>100</td>\n",
              "      <td>66</td>\n",
              "      <td>22</td>\n",
              "      <td>36</td>\n",
              "      <td>98</td>\n",
              "      <td>3</td>\n",
              "      <td>Dizziness</td>\n",
              "      <td>1</td>\n",
              "      <td>3</td>\n",
              "      <td>0</td>\n",
              "      <td>277.0</td>\n",
              "      <td>4.666667</td>\n",
              "      <td>0</td>\n",
              "    </tr>\n",
              "    <tr>\n",
              "      <th>927</th>\n",
              "      <td>1</td>\n",
              "      <td>2</td>\n",
              "      <td>43.0</td>\n",
              "      <td>11</td>\n",
              "      <td>3</td>\n",
              "      <td>1</td>\n",
              "      <td>NaN</td>\n",
              "      <td>1</td>\n",
              "      <td>0</td>\n",
              "      <td>126</td>\n",
              "      <td>81</td>\n",
              "      <td>86</td>\n",
              "      <td>20</td>\n",
              "      <td>36.8</td>\n",
              "      <td>98</td>\n",
              "      <td>4</td>\n",
              "      <td>Ureter stone</td>\n",
              "      <td>1</td>\n",
              "      <td>4</td>\n",
              "      <td>0</td>\n",
              "      <td>118.0</td>\n",
              "      <td>15.566670</td>\n",
              "      <td>0</td>\n",
              "    </tr>\n",
              "    <tr>\n",
              "      <th>961</th>\n",
              "      <td>1</td>\n",
              "      <td>1</td>\n",
              "      <td>50.0</td>\n",
              "      <td>7</td>\n",
              "      <td>3</td>\n",
              "      <td>1</td>\n",
              "      <td>NaN</td>\n",
              "      <td>1</td>\n",
              "      <td>0</td>\n",
              "      <td>140</td>\n",
              "      <td>65</td>\n",
              "      <td>60</td>\n",
              "      <td>16</td>\n",
              "      <td>37</td>\n",
              "      <td>98</td>\n",
              "      <td>3</td>\n",
              "      <td>Depression</td>\n",
              "      <td>2</td>\n",
              "      <td>3</td>\n",
              "      <td>0</td>\n",
              "      <td>172.0</td>\n",
              "      <td>13.683330</td>\n",
              "      <td>0</td>\n",
              "    </tr>\n",
              "  </tbody>\n",
              "</table>\n",
              "</div>"
            ],
            "text/plain": [
              "     Group_ED  Sex   Age  ...  Total_Stay_duration/min  KTAS_duration/min  Mistriage\n",
              "16          1    2  69.0  ...                    363.0          10.533330          1\n",
              "34          1    1  19.0  ...                    108.0          14.600000          1\n",
              "38          1    2  47.0  ...                    576.0          13.433330          1\n",
              "190         1    1  78.0  ...                    222.0           6.483333          0\n",
              "378         1    1  61.0  ...                    291.0           6.916667          0\n",
              "388         1    1  66.0  ...                    155.0           8.383333          0\n",
              "541         1    1  73.0  ...                     35.0           7.700000          0\n",
              "844         1    1  22.0  ...                    163.0           5.066667          0\n",
              "904         1    2  36.0  ...                    277.0           4.666667          0\n",
              "927         1    2  43.0  ...                    118.0          15.566670          0\n",
              "961         1    1  50.0  ...                    172.0          13.683330          0\n",
              "\n",
              "[11 rows x 23 columns]"
            ]
          },
          "metadata": {
            "tags": []
          },
          "execution_count": 21
        }
      ]
    },
    {
      "cell_type": "code",
      "metadata": {
        "id": "TmFoY30QI-4N"
      },
      "source": [
        "#drop these NaN values\r\n",
        "data = data.drop(index=[16, 34, 38, 190, 378, 388, 541, 844, 904, 927, 961])"
      ],
      "execution_count": 22,
      "outputs": []
    },
    {
      "cell_type": "code",
      "metadata": {
        "colab": {
          "base_uri": "https://localhost:8080/"
        },
        "id": "SkZ1VbFsJKiU",
        "outputId": "51caf831-ed5d-4fe8-c313-0b8a63e05497"
      },
      "source": [
        "len(data[data.isnull().any(axis=1)])"
      ],
      "execution_count": 23,
      "outputs": [
        {
          "output_type": "execute_result",
          "data": {
            "text/plain": [
              "0"
            ]
          },
          "metadata": {
            "tags": []
          },
          "execution_count": 23
        }
      ]
    },
    {
      "cell_type": "code",
      "metadata": {
        "id": "8ksE4XeRJM4R"
      },
      "source": [
        "# function to remove non-ASCII \r\n",
        "def remove_non_ascii(Systolid_BP): \r\n",
        "    return ''.join(i for i in Systolid_BP if ord(i)<128) \r\n",
        "data[\"Systolid_BP\"] = data[\"Systolid_BP\"].apply(remove_non_ascii)"
      ],
      "execution_count": 24,
      "outputs": []
    },
    {
      "cell_type": "code",
      "metadata": {
        "id": "xW0jlHCZJU6N"
      },
      "source": [
        "data.loc[data['Systolid_BP'] == '']\r\n",
        "data = data.replace({'': np.nan})"
      ],
      "execution_count": 25,
      "outputs": []
    },
    {
      "cell_type": "code",
      "metadata": {
        "colab": {
          "base_uri": "https://localhost:8080/",
          "height": 1000
        },
        "id": "WntIBS8iJXXc",
        "outputId": "0c4c2935-671b-47a2-d470-b1a18d14099c"
      },
      "source": [
        "data[data.isnull().any(axis=1)]"
      ],
      "execution_count": 26,
      "outputs": [
        {
          "output_type": "execute_result",
          "data": {
            "text/html": [
              "<div>\n",
              "<style scoped>\n",
              "    .dataframe tbody tr th:only-of-type {\n",
              "        vertical-align: middle;\n",
              "    }\n",
              "\n",
              "    .dataframe tbody tr th {\n",
              "        vertical-align: top;\n",
              "    }\n",
              "\n",
              "    .dataframe thead th {\n",
              "        text-align: right;\n",
              "    }\n",
              "</style>\n",
              "<table border=\"1\" class=\"dataframe\">\n",
              "  <thead>\n",
              "    <tr style=\"text-align: right;\">\n",
              "      <th></th>\n",
              "      <th>Group_ED</th>\n",
              "      <th>Sex</th>\n",
              "      <th>Age</th>\n",
              "      <th>Patients_number/hour</th>\n",
              "      <th>Arrival_Type</th>\n",
              "      <th>Injury</th>\n",
              "      <th>Main_Complaint</th>\n",
              "      <th>Mental_State</th>\n",
              "      <th>Pain</th>\n",
              "      <th>Systolid_BP</th>\n",
              "      <th>Diastolic_BP</th>\n",
              "      <th>Heart_Rate</th>\n",
              "      <th>Respiration_Rate</th>\n",
              "      <th>Body_Temperature</th>\n",
              "      <th>Saturation</th>\n",
              "      <th>KTAS_Nurse</th>\n",
              "      <th>Patient_Diagnosis</th>\n",
              "      <th>Patient_Disposition</th>\n",
              "      <th>KTAS_Expert</th>\n",
              "      <th>Error_Group</th>\n",
              "      <th>Total_Stay_duration/min</th>\n",
              "      <th>KTAS_duration/min</th>\n",
              "      <th>Mistriage</th>\n",
              "    </tr>\n",
              "  </thead>\n",
              "  <tbody>\n",
              "    <tr>\n",
              "      <th>61</th>\n",
              "      <td>2</td>\n",
              "      <td>1</td>\n",
              "      <td>69.6</td>\n",
              "      <td>8</td>\n",
              "      <td>2</td>\n",
              "      <td>1</td>\n",
              "      <td>dyspnea</td>\n",
              "      <td>2</td>\n",
              "      <td>1</td>\n",
              "      <td>NaN</td>\n",
              "      <td>측불</td>\n",
              "      <td>96</td>\n",
              "      <td>22</td>\n",
              "      <td>36.3</td>\n",
              "      <td>78</td>\n",
              "      <td>2</td>\n",
              "      <td>Dyspnoea</td>\n",
              "      <td>6</td>\n",
              "      <td>1</td>\n",
              "      <td>1</td>\n",
              "      <td>593.0</td>\n",
              "      <td>2.000000</td>\n",
              "      <td>2</td>\n",
              "    </tr>\n",
              "    <tr>\n",
              "      <th>121</th>\n",
              "      <td>1</td>\n",
              "      <td>2</td>\n",
              "      <td>48.0</td>\n",
              "      <td>5</td>\n",
              "      <td>2</td>\n",
              "      <td>1</td>\n",
              "      <td>dyspnea</td>\n",
              "      <td>1</td>\n",
              "      <td>0</td>\n",
              "      <td>NaN</td>\n",
              "      <td>측불</td>\n",
              "      <td>측불</td>\n",
              "      <td>측불</td>\n",
              "      <td>측불</td>\n",
              "      <td>98</td>\n",
              "      <td>2</td>\n",
              "      <td>Dyspnea</td>\n",
              "      <td>1</td>\n",
              "      <td>1</td>\n",
              "      <td>1</td>\n",
              "      <td>272.0</td>\n",
              "      <td>4.100000</td>\n",
              "      <td>2</td>\n",
              "    </tr>\n",
              "    <tr>\n",
              "      <th>150</th>\n",
              "      <td>1</td>\n",
              "      <td>2</td>\n",
              "      <td>77.0</td>\n",
              "      <td>4</td>\n",
              "      <td>3</td>\n",
              "      <td>1</td>\n",
              "      <td>mental change</td>\n",
              "      <td>3</td>\n",
              "      <td>0</td>\n",
              "      <td>NaN</td>\n",
              "      <td>측불</td>\n",
              "      <td>측불</td>\n",
              "      <td>측불</td>\n",
              "      <td>측불</td>\n",
              "      <td>98</td>\n",
              "      <td>2</td>\n",
              "      <td>End stage kidney disease on dialysis</td>\n",
              "      <td>2</td>\n",
              "      <td>1</td>\n",
              "      <td>4</td>\n",
              "      <td>323.0</td>\n",
              "      <td>13.900000</td>\n",
              "      <td>2</td>\n",
              "    </tr>\n",
              "    <tr>\n",
              "      <th>155</th>\n",
              "      <td>1</td>\n",
              "      <td>1</td>\n",
              "      <td>78.0</td>\n",
              "      <td>6</td>\n",
              "      <td>2</td>\n",
              "      <td>1</td>\n",
              "      <td>Motor weakness</td>\n",
              "      <td>4</td>\n",
              "      <td>0</td>\n",
              "      <td>NaN</td>\n",
              "      <td>측불</td>\n",
              "      <td>측불</td>\n",
              "      <td>측불</td>\n",
              "      <td>측불</td>\n",
              "      <td>98</td>\n",
              "      <td>2</td>\n",
              "      <td>Dysarthria</td>\n",
              "      <td>2</td>\n",
              "      <td>1</td>\n",
              "      <td>5</td>\n",
              "      <td>234.0</td>\n",
              "      <td>9.350000</td>\n",
              "      <td>2</td>\n",
              "    </tr>\n",
              "    <tr>\n",
              "      <th>161</th>\n",
              "      <td>1</td>\n",
              "      <td>1</td>\n",
              "      <td>77.0</td>\n",
              "      <td>5</td>\n",
              "      <td>4</td>\n",
              "      <td>1</td>\n",
              "      <td>melena</td>\n",
              "      <td>3</td>\n",
              "      <td>0</td>\n",
              "      <td>NaN</td>\n",
              "      <td>측불</td>\n",
              "      <td>측불</td>\n",
              "      <td>24</td>\n",
              "      <td>37.4</td>\n",
              "      <td>98</td>\n",
              "      <td>2</td>\n",
              "      <td>Hematochezia</td>\n",
              "      <td>3</td>\n",
              "      <td>1</td>\n",
              "      <td>7</td>\n",
              "      <td>351.0</td>\n",
              "      <td>4.416667</td>\n",
              "      <td>2</td>\n",
              "    </tr>\n",
              "    <tr>\n",
              "      <th>180</th>\n",
              "      <td>2</td>\n",
              "      <td>2</td>\n",
              "      <td>42.7</td>\n",
              "      <td>17</td>\n",
              "      <td>3</td>\n",
              "      <td>1</td>\n",
              "      <td>erection, penile</td>\n",
              "      <td>1</td>\n",
              "      <td>0</td>\n",
              "      <td>NaN</td>\n",
              "      <td>측불</td>\n",
              "      <td>측불</td>\n",
              "      <td>측불</td>\n",
              "      <td>측불</td>\n",
              "      <td>98</td>\n",
              "      <td>5</td>\n",
              "      <td>Priapism</td>\n",
              "      <td>1</td>\n",
              "      <td>2</td>\n",
              "      <td>2</td>\n",
              "      <td>594.0</td>\n",
              "      <td>5.000000</td>\n",
              "      <td>2</td>\n",
              "    </tr>\n",
              "    <tr>\n",
              "      <th>354</th>\n",
              "      <td>1</td>\n",
              "      <td>2</td>\n",
              "      <td>56.0</td>\n",
              "      <td>10</td>\n",
              "      <td>2</td>\n",
              "      <td>1</td>\n",
              "      <td>both leg pain</td>\n",
              "      <td>2</td>\n",
              "      <td>1</td>\n",
              "      <td>NaN</td>\n",
              "      <td>측불</td>\n",
              "      <td>측불</td>\n",
              "      <td>측불</td>\n",
              "      <td>측불</td>\n",
              "      <td>98</td>\n",
              "      <td>5</td>\n",
              "      <td>Knee pain</td>\n",
              "      <td>1</td>\n",
              "      <td>5</td>\n",
              "      <td>0</td>\n",
              "      <td>545.0</td>\n",
              "      <td>3.866667</td>\n",
              "      <td>0</td>\n",
              "    </tr>\n",
              "    <tr>\n",
              "      <th>427</th>\n",
              "      <td>1</td>\n",
              "      <td>2</td>\n",
              "      <td>78.0</td>\n",
              "      <td>8</td>\n",
              "      <td>2</td>\n",
              "      <td>1</td>\n",
              "      <td>alcohol smell</td>\n",
              "      <td>1</td>\n",
              "      <td>1</td>\n",
              "      <td>NaN</td>\n",
              "      <td>측불</td>\n",
              "      <td>측불</td>\n",
              "      <td>측불</td>\n",
              "      <td>측불</td>\n",
              "      <td>98</td>\n",
              "      <td>4</td>\n",
              "      <td>Acute intoxication of alcohol</td>\n",
              "      <td>1</td>\n",
              "      <td>4</td>\n",
              "      <td>0</td>\n",
              "      <td>393.0</td>\n",
              "      <td>7.050000</td>\n",
              "      <td>0</td>\n",
              "    </tr>\n",
              "    <tr>\n",
              "      <th>705</th>\n",
              "      <td>2</td>\n",
              "      <td>2</td>\n",
              "      <td>60.6</td>\n",
              "      <td>8</td>\n",
              "      <td>4</td>\n",
              "      <td>2</td>\n",
              "      <td>abd pain</td>\n",
              "      <td>1</td>\n",
              "      <td>1</td>\n",
              "      <td>NaN</td>\n",
              "      <td>측불</td>\n",
              "      <td>측불</td>\n",
              "      <td>측불</td>\n",
              "      <td>측불</td>\n",
              "      <td>98</td>\n",
              "      <td>1</td>\n",
              "      <td>Contusion of abdomen wall</td>\n",
              "      <td>6</td>\n",
              "      <td>1</td>\n",
              "      <td>0</td>\n",
              "      <td>275.0</td>\n",
              "      <td>5.000000</td>\n",
              "      <td>0</td>\n",
              "    </tr>\n",
              "    <tr>\n",
              "      <th>787</th>\n",
              "      <td>1</td>\n",
              "      <td>1</td>\n",
              "      <td>81.0</td>\n",
              "      <td>11</td>\n",
              "      <td>4</td>\n",
              "      <td>1</td>\n",
              "      <td>sezure like motion</td>\n",
              "      <td>1</td>\n",
              "      <td>0</td>\n",
              "      <td>NaN</td>\n",
              "      <td>측불</td>\n",
              "      <td>118</td>\n",
              "      <td>28</td>\n",
              "      <td>37</td>\n",
              "      <td>98</td>\n",
              "      <td>3</td>\n",
              "      <td>Seizure</td>\n",
              "      <td>1</td>\n",
              "      <td>3</td>\n",
              "      <td>0</td>\n",
              "      <td>982.0</td>\n",
              "      <td>8.983334</td>\n",
              "      <td>0</td>\n",
              "    </tr>\n",
              "    <tr>\n",
              "      <th>820</th>\n",
              "      <td>1</td>\n",
              "      <td>2</td>\n",
              "      <td>76.0</td>\n",
              "      <td>3</td>\n",
              "      <td>3</td>\n",
              "      <td>1</td>\n",
              "      <td>mental change</td>\n",
              "      <td>4</td>\n",
              "      <td>0</td>\n",
              "      <td>NaN</td>\n",
              "      <td>측불</td>\n",
              "      <td>측불</td>\n",
              "      <td>측불</td>\n",
              "      <td>측불</td>\n",
              "      <td>98</td>\n",
              "      <td>1</td>\n",
              "      <td>Cardiac arrest</td>\n",
              "      <td>5</td>\n",
              "      <td>1</td>\n",
              "      <td>0</td>\n",
              "      <td>150.0</td>\n",
              "      <td>8.900000</td>\n",
              "      <td>0</td>\n",
              "    </tr>\n",
              "    <tr>\n",
              "      <th>822</th>\n",
              "      <td>1</td>\n",
              "      <td>1</td>\n",
              "      <td>80.0</td>\n",
              "      <td>7</td>\n",
              "      <td>2</td>\n",
              "      <td>1</td>\n",
              "      <td>dyspnea</td>\n",
              "      <td>1</td>\n",
              "      <td>0</td>\n",
              "      <td>NaN</td>\n",
              "      <td>측불</td>\n",
              "      <td>87</td>\n",
              "      <td>28</td>\n",
              "      <td>36.8</td>\n",
              "      <td>98</td>\n",
              "      <td>2</td>\n",
              "      <td>Dyspnea</td>\n",
              "      <td>2</td>\n",
              "      <td>2</td>\n",
              "      <td>0</td>\n",
              "      <td>324.0</td>\n",
              "      <td>2.333333</td>\n",
              "      <td>0</td>\n",
              "    </tr>\n",
              "    <tr>\n",
              "      <th>887</th>\n",
              "      <td>1</td>\n",
              "      <td>2</td>\n",
              "      <td>33.0</td>\n",
              "      <td>8</td>\n",
              "      <td>3</td>\n",
              "      <td>1</td>\n",
              "      <td>seizure</td>\n",
              "      <td>4</td>\n",
              "      <td>0</td>\n",
              "      <td>NaN</td>\n",
              "      <td>측불</td>\n",
              "      <td>측불</td>\n",
              "      <td>측불</td>\n",
              "      <td>측불</td>\n",
              "      <td>98</td>\n",
              "      <td>1</td>\n",
              "      <td>Seizure</td>\n",
              "      <td>4</td>\n",
              "      <td>1</td>\n",
              "      <td>0</td>\n",
              "      <td>56.0</td>\n",
              "      <td>7.416667</td>\n",
              "      <td>0</td>\n",
              "    </tr>\n",
              "    <tr>\n",
              "      <th>925</th>\n",
              "      <td>1</td>\n",
              "      <td>1</td>\n",
              "      <td>42.0</td>\n",
              "      <td>4</td>\n",
              "      <td>2</td>\n",
              "      <td>1</td>\n",
              "      <td>left side weakness</td>\n",
              "      <td>1</td>\n",
              "      <td>0</td>\n",
              "      <td>NaN</td>\n",
              "      <td>측불</td>\n",
              "      <td>측불</td>\n",
              "      <td>16</td>\n",
              "      <td>37</td>\n",
              "      <td>98</td>\n",
              "      <td>2</td>\n",
              "      <td>Muscle weakness other</td>\n",
              "      <td>2</td>\n",
              "      <td>2</td>\n",
              "      <td>0</td>\n",
              "      <td>264.0</td>\n",
              "      <td>6.533333</td>\n",
              "      <td>0</td>\n",
              "    </tr>\n",
              "    <tr>\n",
              "      <th>967</th>\n",
              "      <td>1</td>\n",
              "      <td>2</td>\n",
              "      <td>51.0</td>\n",
              "      <td>13</td>\n",
              "      <td>3</td>\n",
              "      <td>1</td>\n",
              "      <td>CT film copy</td>\n",
              "      <td>1</td>\n",
              "      <td>0</td>\n",
              "      <td>NaN</td>\n",
              "      <td>측불</td>\n",
              "      <td>측불</td>\n",
              "      <td>측불</td>\n",
              "      <td>측불</td>\n",
              "      <td>98</td>\n",
              "      <td>5</td>\n",
              "      <td>Hepatocellular carcinoma</td>\n",
              "      <td>1</td>\n",
              "      <td>5</td>\n",
              "      <td>0</td>\n",
              "      <td>32.0</td>\n",
              "      <td>6.383333</td>\n",
              "      <td>0</td>\n",
              "    </tr>\n",
              "    <tr>\n",
              "      <th>1009</th>\n",
              "      <td>2</td>\n",
              "      <td>2</td>\n",
              "      <td>57.9</td>\n",
              "      <td>15</td>\n",
              "      <td>4</td>\n",
              "      <td>1</td>\n",
              "      <td>post-CPR state</td>\n",
              "      <td>4</td>\n",
              "      <td>0</td>\n",
              "      <td>NaN</td>\n",
              "      <td>측불</td>\n",
              "      <td>측불</td>\n",
              "      <td>측불</td>\n",
              "      <td>측불</td>\n",
              "      <td>98</td>\n",
              "      <td>1</td>\n",
              "      <td>Cardiac arrest, unspecified</td>\n",
              "      <td>6</td>\n",
              "      <td>1</td>\n",
              "      <td>0</td>\n",
              "      <td>123.0</td>\n",
              "      <td>2.000000</td>\n",
              "      <td>0</td>\n",
              "    </tr>\n",
              "    <tr>\n",
              "      <th>1020</th>\n",
              "      <td>1</td>\n",
              "      <td>2</td>\n",
              "      <td>59.0</td>\n",
              "      <td>9</td>\n",
              "      <td>3</td>\n",
              "      <td>2</td>\n",
              "      <td>copy</td>\n",
              "      <td>1</td>\n",
              "      <td>0</td>\n",
              "      <td>NaN</td>\n",
              "      <td>측불</td>\n",
              "      <td>측불</td>\n",
              "      <td>측불</td>\n",
              "      <td>측불</td>\n",
              "      <td>98</td>\n",
              "      <td>5</td>\n",
              "      <td>Stroke</td>\n",
              "      <td>1</td>\n",
              "      <td>5</td>\n",
              "      <td>0</td>\n",
              "      <td>21.0</td>\n",
              "      <td>6.883333</td>\n",
              "      <td>0</td>\n",
              "    </tr>\n",
              "    <tr>\n",
              "      <th>1039</th>\n",
              "      <td>1</td>\n",
              "      <td>1</td>\n",
              "      <td>63.0</td>\n",
              "      <td>7</td>\n",
              "      <td>2</td>\n",
              "      <td>1</td>\n",
              "      <td>arrest</td>\n",
              "      <td>4</td>\n",
              "      <td>0</td>\n",
              "      <td>NaN</td>\n",
              "      <td>측불</td>\n",
              "      <td>측불</td>\n",
              "      <td>측불</td>\n",
              "      <td>측불</td>\n",
              "      <td>98</td>\n",
              "      <td>1</td>\n",
              "      <td>Cardiac arrest</td>\n",
              "      <td>6</td>\n",
              "      <td>1</td>\n",
              "      <td>0</td>\n",
              "      <td>72.0</td>\n",
              "      <td>5.416667</td>\n",
              "      <td>0</td>\n",
              "    </tr>\n",
              "    <tr>\n",
              "      <th>1073</th>\n",
              "      <td>2</td>\n",
              "      <td>1</td>\n",
              "      <td>67.7</td>\n",
              "      <td>8</td>\n",
              "      <td>4</td>\n",
              "      <td>1</td>\n",
              "      <td>mental change</td>\n",
              "      <td>4</td>\n",
              "      <td>0</td>\n",
              "      <td>NaN</td>\n",
              "      <td>측불</td>\n",
              "      <td>114</td>\n",
              "      <td>측불</td>\n",
              "      <td>35.8</td>\n",
              "      <td>95</td>\n",
              "      <td>1</td>\n",
              "      <td>Cardiac arrest with successful resuscitation</td>\n",
              "      <td>2</td>\n",
              "      <td>1</td>\n",
              "      <td>0</td>\n",
              "      <td>408.0</td>\n",
              "      <td>4.000000</td>\n",
              "      <td>0</td>\n",
              "    </tr>\n",
              "    <tr>\n",
              "      <th>1078</th>\n",
              "      <td>1</td>\n",
              "      <td>2</td>\n",
              "      <td>68.0</td>\n",
              "      <td>7</td>\n",
              "      <td>2</td>\n",
              "      <td>1</td>\n",
              "      <td>altered mental change</td>\n",
              "      <td>4</td>\n",
              "      <td>0</td>\n",
              "      <td>NaN</td>\n",
              "      <td>측불</td>\n",
              "      <td>측불</td>\n",
              "      <td>측불</td>\n",
              "      <td>37.3</td>\n",
              "      <td>98</td>\n",
              "      <td>1</td>\n",
              "      <td>Intracerebral hemorrhage</td>\n",
              "      <td>3</td>\n",
              "      <td>1</td>\n",
              "      <td>0</td>\n",
              "      <td>135.0</td>\n",
              "      <td>5.616667</td>\n",
              "      <td>0</td>\n",
              "    </tr>\n",
              "    <tr>\n",
              "      <th>1134</th>\n",
              "      <td>1</td>\n",
              "      <td>1</td>\n",
              "      <td>75.0</td>\n",
              "      <td>5</td>\n",
              "      <td>2</td>\n",
              "      <td>2</td>\n",
              "      <td>altered mentality</td>\n",
              "      <td>3</td>\n",
              "      <td>0</td>\n",
              "      <td>NaN</td>\n",
              "      <td>측불</td>\n",
              "      <td>측불</td>\n",
              "      <td>측불</td>\n",
              "      <td>측불</td>\n",
              "      <td>98</td>\n",
              "      <td>2</td>\n",
              "      <td>Subarachnoid hemorrhage, traumatic without ope...</td>\n",
              "      <td>2</td>\n",
              "      <td>2</td>\n",
              "      <td>0</td>\n",
              "      <td>504.0</td>\n",
              "      <td>6.316667</td>\n",
              "      <td>0</td>\n",
              "    </tr>\n",
              "    <tr>\n",
              "      <th>1143</th>\n",
              "      <td>2</td>\n",
              "      <td>1</td>\n",
              "      <td>75.9</td>\n",
              "      <td>9</td>\n",
              "      <td>4</td>\n",
              "      <td>1</td>\n",
              "      <td>post-CPR state</td>\n",
              "      <td>4</td>\n",
              "      <td>0</td>\n",
              "      <td>NaN</td>\n",
              "      <td>측불</td>\n",
              "      <td>측불</td>\n",
              "      <td>측불</td>\n",
              "      <td>측불</td>\n",
              "      <td>98</td>\n",
              "      <td>1</td>\n",
              "      <td>Cardiac arrest, unspecified</td>\n",
              "      <td>6</td>\n",
              "      <td>1</td>\n",
              "      <td>0</td>\n",
              "      <td>35.0</td>\n",
              "      <td>4.000000</td>\n",
              "      <td>0</td>\n",
              "    </tr>\n",
              "    <tr>\n",
              "      <th>1171</th>\n",
              "      <td>1</td>\n",
              "      <td>2</td>\n",
              "      <td>80.0</td>\n",
              "      <td>9</td>\n",
              "      <td>2</td>\n",
              "      <td>1</td>\n",
              "      <td>acute dyspnea</td>\n",
              "      <td>3</td>\n",
              "      <td>0</td>\n",
              "      <td>NaN</td>\n",
              "      <td>측불</td>\n",
              "      <td>측불</td>\n",
              "      <td>측불</td>\n",
              "      <td>측불</td>\n",
              "      <td>98</td>\n",
              "      <td>1</td>\n",
              "      <td>Acute exacerbation of idiopathic pulmonary fib...</td>\n",
              "      <td>2</td>\n",
              "      <td>1</td>\n",
              "      <td>0</td>\n",
              "      <td>257.0</td>\n",
              "      <td>3.916667</td>\n",
              "      <td>0</td>\n",
              "    </tr>\n",
              "    <tr>\n",
              "      <th>1245</th>\n",
              "      <td>2</td>\n",
              "      <td>2</td>\n",
              "      <td>65.6</td>\n",
              "      <td>17</td>\n",
              "      <td>4</td>\n",
              "      <td>2</td>\n",
              "      <td>ant. chest pain</td>\n",
              "      <td>1</td>\n",
              "      <td>1</td>\n",
              "      <td>NaN</td>\n",
              "      <td>측불</td>\n",
              "      <td>114</td>\n",
              "      <td>24</td>\n",
              "      <td>36.2</td>\n",
              "      <td>96</td>\n",
              "      <td>2</td>\n",
              "      <td>Contusion of abdomen wall</td>\n",
              "      <td>7</td>\n",
              "      <td>2</td>\n",
              "      <td>0</td>\n",
              "      <td>36.0</td>\n",
              "      <td>3.000000</td>\n",
              "      <td>0</td>\n",
              "    </tr>\n",
              "  </tbody>\n",
              "</table>\n",
              "</div>"
            ],
            "text/plain": [
              "      Group_ED  Sex  ...  KTAS_duration/min  Mistriage\n",
              "61           2    1  ...           2.000000          2\n",
              "121          1    2  ...           4.100000          2\n",
              "150          1    2  ...          13.900000          2\n",
              "155          1    1  ...           9.350000          2\n",
              "161          1    1  ...           4.416667          2\n",
              "180          2    2  ...           5.000000          2\n",
              "354          1    2  ...           3.866667          0\n",
              "427          1    2  ...           7.050000          0\n",
              "705          2    2  ...           5.000000          0\n",
              "787          1    1  ...           8.983334          0\n",
              "820          1    2  ...           8.900000          0\n",
              "822          1    1  ...           2.333333          0\n",
              "887          1    2  ...           7.416667          0\n",
              "925          1    1  ...           6.533333          0\n",
              "967          1    2  ...           6.383333          0\n",
              "1009         2    2  ...           2.000000          0\n",
              "1020         1    2  ...           6.883333          0\n",
              "1039         1    1  ...           5.416667          0\n",
              "1073         2    1  ...           4.000000          0\n",
              "1078         1    2  ...           5.616667          0\n",
              "1134         1    1  ...           6.316667          0\n",
              "1143         2    1  ...           4.000000          0\n",
              "1171         1    2  ...           3.916667          0\n",
              "1245         2    2  ...           3.000000          0\n",
              "\n",
              "[24 rows x 23 columns]"
            ]
          },
          "metadata": {
            "tags": []
          },
          "execution_count": 26
        }
      ]
    },
    {
      "cell_type": "markdown",
      "metadata": {
        "id": "XxUcXM0yJ3ip"
      },
      "source": [
        "When we look at the output of the above query, we will print null on the non-English values in the other Diastolic_BP, Heart_Rate, Respiration_Rate, Body_Temperature fields as opposed to the null value in the Systolid_BP field, so we can delete these data directly from the dataset.\r\n"
      ]
    },
    {
      "cell_type": "code",
      "metadata": {
        "id": "xKW6Oo1nKjhz"
      },
      "source": [
        "data = data.dropna()"
      ],
      "execution_count": 27,
      "outputs": []
    },
    {
      "cell_type": "code",
      "metadata": {
        "colab": {
          "base_uri": "https://localhost:8080/"
        },
        "id": "r3sTNhm7K_r-",
        "outputId": "cd287e02-e074-4838-f69a-6c0678a2dd4c"
      },
      "source": [
        "#checkin NaN values\r\n",
        "len(data[data.isnull().any(axis=1)])"
      ],
      "execution_count": 28,
      "outputs": [
        {
          "output_type": "execute_result",
          "data": {
            "text/plain": [
              "0"
            ]
          },
          "metadata": {
            "tags": []
          },
          "execution_count": 28
        }
      ]
    },
    {
      "cell_type": "code",
      "metadata": {
        "id": "NVnKZE2yLHJ9"
      },
      "source": [
        "# function to remove non-ASCII \r\n",
        "def remove_non_ascii(Body_Temperature): \r\n",
        "    return ''.join(i for i in Body_Temperature if ord(i)<128) \r\n",
        "data[\"Body_Temperature\"] = data[\"Body_Temperature\"].apply(remove_non_ascii)\r\n"
      ],
      "execution_count": 29,
      "outputs": []
    },
    {
      "cell_type": "code",
      "metadata": {
        "colab": {
          "base_uri": "https://localhost:8080/",
          "height": 163
        },
        "id": "7zMV3U_wLVmf",
        "outputId": "6364b2d1-9a8b-47d4-b6ad-5ff898225f6c"
      },
      "source": [
        "data.loc[data['Body_Temperature'] == '']\r\n"
      ],
      "execution_count": 30,
      "outputs": [
        {
          "output_type": "execute_result",
          "data": {
            "text/html": [
              "<div>\n",
              "<style scoped>\n",
              "    .dataframe tbody tr th:only-of-type {\n",
              "        vertical-align: middle;\n",
              "    }\n",
              "\n",
              "    .dataframe tbody tr th {\n",
              "        vertical-align: top;\n",
              "    }\n",
              "\n",
              "    .dataframe thead th {\n",
              "        text-align: right;\n",
              "    }\n",
              "</style>\n",
              "<table border=\"1\" class=\"dataframe\">\n",
              "  <thead>\n",
              "    <tr style=\"text-align: right;\">\n",
              "      <th></th>\n",
              "      <th>Group_ED</th>\n",
              "      <th>Sex</th>\n",
              "      <th>Age</th>\n",
              "      <th>Patients_number/hour</th>\n",
              "      <th>Arrival_Type</th>\n",
              "      <th>Injury</th>\n",
              "      <th>Main_Complaint</th>\n",
              "      <th>Mental_State</th>\n",
              "      <th>Pain</th>\n",
              "      <th>Systolid_BP</th>\n",
              "      <th>Diastolic_BP</th>\n",
              "      <th>Heart_Rate</th>\n",
              "      <th>Respiration_Rate</th>\n",
              "      <th>Body_Temperature</th>\n",
              "      <th>Saturation</th>\n",
              "      <th>KTAS_Nurse</th>\n",
              "      <th>Patient_Diagnosis</th>\n",
              "      <th>Patient_Disposition</th>\n",
              "      <th>KTAS_Expert</th>\n",
              "      <th>Error_Group</th>\n",
              "      <th>Total_Stay_duration/min</th>\n",
              "      <th>KTAS_duration/min</th>\n",
              "      <th>Mistriage</th>\n",
              "    </tr>\n",
              "  </thead>\n",
              "  <tbody>\n",
              "    <tr>\n",
              "      <th>122</th>\n",
              "      <td>1</td>\n",
              "      <td>1</td>\n",
              "      <td>50.0</td>\n",
              "      <td>9</td>\n",
              "      <td>3</td>\n",
              "      <td>1</td>\n",
              "      <td>Blood Pressure, Low</td>\n",
              "      <td>3</td>\n",
              "      <td>0</td>\n",
              "      <td>50</td>\n",
              "      <td>33</td>\n",
              "      <td>37</td>\n",
              "      <td>28</td>\n",
              "      <td></td>\n",
              "      <td>98</td>\n",
              "      <td>2</td>\n",
              "      <td>Colitis</td>\n",
              "      <td>3</td>\n",
              "      <td>1</td>\n",
              "      <td>1</td>\n",
              "      <td>496.0</td>\n",
              "      <td>6.4</td>\n",
              "      <td>2</td>\n",
              "    </tr>\n",
              "    <tr>\n",
              "      <th>123</th>\n",
              "      <td>1</td>\n",
              "      <td>1</td>\n",
              "      <td>50.0</td>\n",
              "      <td>9</td>\n",
              "      <td>3</td>\n",
              "      <td>1</td>\n",
              "      <td>Blood Pressure, Low</td>\n",
              "      <td>3</td>\n",
              "      <td>0</td>\n",
              "      <td>50</td>\n",
              "      <td>33</td>\n",
              "      <td>37</td>\n",
              "      <td>28</td>\n",
              "      <td></td>\n",
              "      <td>98</td>\n",
              "      <td>2</td>\n",
              "      <td>Hypotension</td>\n",
              "      <td>3</td>\n",
              "      <td>1</td>\n",
              "      <td>1</td>\n",
              "      <td>496.0</td>\n",
              "      <td>6.4</td>\n",
              "      <td>2</td>\n",
              "    </tr>\n",
              "  </tbody>\n",
              "</table>\n",
              "</div>"
            ],
            "text/plain": [
              "     Group_ED  Sex   Age  ...  Total_Stay_duration/min  KTAS_duration/min  Mistriage\n",
              "122         1    1  50.0  ...                    496.0                6.4          2\n",
              "123         1    1  50.0  ...                    496.0                6.4          2\n",
              "\n",
              "[2 rows x 23 columns]"
            ]
          },
          "metadata": {
            "tags": []
          },
          "execution_count": 30
        }
      ]
    },
    {
      "cell_type": "code",
      "metadata": {
        "id": "CAmGT2MGQLlg"
      },
      "source": [
        "#replacing with NaN value\r\n",
        "data = data.replace({'': np.nan})"
      ],
      "execution_count": 31,
      "outputs": []
    },
    {
      "cell_type": "code",
      "metadata": {
        "id": "EQYgusKLQUtJ"
      },
      "source": [
        "data = data.dropna()"
      ],
      "execution_count": 32,
      "outputs": []
    },
    {
      "cell_type": "code",
      "metadata": {
        "colab": {
          "base_uri": "https://localhost:8080/"
        },
        "id": "mPh49z5OLuK7",
        "outputId": "97669141-ba9e-4357-fd92-e570369e22b2"
      },
      "source": [
        "len(data[data.isnull().any(axis=1)])"
      ],
      "execution_count": 33,
      "outputs": [
        {
          "output_type": "execute_result",
          "data": {
            "text/plain": [
              "0"
            ]
          },
          "metadata": {
            "tags": []
          },
          "execution_count": 33
        }
      ]
    },
    {
      "cell_type": "code",
      "metadata": {
        "id": "-Fp4eMtyQuHK"
      },
      "source": [
        "# function to remove non-ASCII \r\n",
        "def remove_non_ascii(Diastolic_BP): \r\n",
        "    return ''.join(i for i in Diastolic_BP if ord(i)<128) \r\n",
        "data[\"Diastolic_BP\"] = data[\"Diastolic_BP\"].apply(remove_non_ascii)"
      ],
      "execution_count": 34,
      "outputs": []
    },
    {
      "cell_type": "code",
      "metadata": {
        "id": "RsZpZGH5Qza5"
      },
      "source": [
        "data.loc[data['Diastolic_BP'] == '']\r\n",
        "data = data.replace({'': np.nan})\r\n",
        "data = data.dropna()"
      ],
      "execution_count": 35,
      "outputs": []
    },
    {
      "cell_type": "code",
      "metadata": {
        "colab": {
          "base_uri": "https://localhost:8080/"
        },
        "id": "60TLcF6fRBFl",
        "outputId": "79390cb5-1c11-4387-e06e-291a915c8644"
      },
      "source": [
        "len(data[data.isnull().any(axis=1)])"
      ],
      "execution_count": 36,
      "outputs": [
        {
          "output_type": "execute_result",
          "data": {
            "text/plain": [
              "0"
            ]
          },
          "metadata": {
            "tags": []
          },
          "execution_count": 36
        }
      ]
    },
    {
      "cell_type": "code",
      "metadata": {
        "id": "7I0J57haRvLR"
      },
      "source": [
        "def remove_non_ascii(Respiration_Rate): \r\n",
        "    return ''.join(i for i in Respiration_Rate if ord(i)<128) \r\n",
        "data[\"Respiration_Rate\"] = data[\"Respiration_Rate\"].apply(remove_non_ascii)"
      ],
      "execution_count": 37,
      "outputs": []
    },
    {
      "cell_type": "code",
      "metadata": {
        "id": "s-NekT7uR0JY"
      },
      "source": [
        "data.loc[data['Respiration_Rate'] == '']\r\n",
        "data = data.replace({'': np.nan})\r\n",
        "data = data.dropna()"
      ],
      "execution_count": 38,
      "outputs": []
    },
    {
      "cell_type": "markdown",
      "metadata": {
        "id": "A89neJWTwMvI"
      },
      "source": [
        "#### 3.3 Data Transformation Operations"
      ]
    },
    {
      "cell_type": "markdown",
      "metadata": {
        "id": "0fki-GBmUfxi"
      },
      "source": [
        "Most of the columns contain numeric values, but the ata type appears as object (character) in the dataset. We need to convert data typse to numeric or integer."
      ]
    },
    {
      "cell_type": "code",
      "metadata": {
        "colab": {
          "base_uri": "https://localhost:8080/"
        },
        "id": "bXslDJx4Qh8s",
        "outputId": "ff6434df-2f8c-49c8-cfb2-1c3f507e1d1d"
      },
      "source": [
        "data.info()"
      ],
      "execution_count": 39,
      "outputs": [
        {
          "output_type": "stream",
          "text": [
            "<class 'pandas.core.frame.DataFrame'>\n",
            "Int64Index: 1221 entries, 0 to 1266\n",
            "Data columns (total 23 columns):\n",
            " #   Column                   Non-Null Count  Dtype  \n",
            "---  ------                   --------------  -----  \n",
            " 0   Group_ED                 1221 non-null   int64  \n",
            " 1   Sex                      1221 non-null   int64  \n",
            " 2   Age                      1221 non-null   float64\n",
            " 3   Patients_number/hour     1221 non-null   int64  \n",
            " 4   Arrival_Type             1221 non-null   int64  \n",
            " 5   Injury                   1221 non-null   int64  \n",
            " 6   Main_Complaint           1221 non-null   object \n",
            " 7   Mental_State             1221 non-null   int64  \n",
            " 8   Pain                     1221 non-null   int64  \n",
            " 9   Systolid_BP              1221 non-null   object \n",
            " 10  Diastolic_BP             1221 non-null   object \n",
            " 11  Heart_Rate               1221 non-null   object \n",
            " 12  Respiration_Rate         1221 non-null   object \n",
            " 13  Body_Temperature         1221 non-null   object \n",
            " 14  Saturation               1221 non-null   object \n",
            " 15  KTAS_Nurse               1221 non-null   int64  \n",
            " 16  Patient_Diagnosis        1221 non-null   object \n",
            " 17  Patient_Disposition      1221 non-null   int64  \n",
            " 18  KTAS_Expert              1221 non-null   int64  \n",
            " 19  Error_Group              1221 non-null   int64  \n",
            " 20  Total_Stay_duration/min  1221 non-null   float64\n",
            " 21  KTAS_duration/min        1221 non-null   float64\n",
            " 22  Mistriage                1221 non-null   int64  \n",
            "dtypes: float64(3), int64(12), object(8)\n",
            "memory usage: 228.9+ KB\n"
          ],
          "name": "stdout"
        }
      ]
    },
    {
      "cell_type": "code",
      "metadata": {
        "id": "KIAI_9JwVgDA"
      },
      "source": [
        "data['Age'] = data['Age'].astype(int)\r\n",
        "data['Systolid_BP'] = data['Systolid_BP'].astype(float)\r\n",
        "data['Diastolic_BP'] = data['Diastolic_BP'].astype(float)\r\n",
        "data['Heart_Rate'] = data['Heart_Rate'].astype(int)\r\n",
        "data['Respiration_Rate'] = data['Respiration_Rate'].astype(int)\r\n",
        "data['Body_Temperature'] = data['Body_Temperature'].astype(float)\r\n",
        "data['Saturation'] = data['Saturation'].astype(int)"
      ],
      "execution_count": 40,
      "outputs": []
    },
    {
      "cell_type": "code",
      "metadata": {
        "colab": {
          "base_uri": "https://localhost:8080/"
        },
        "id": "ueKw_v_zR8vX",
        "outputId": "9fc3cc04-e9dd-48aa-eae4-b1c9bbdfd738"
      },
      "source": [
        "data.info()"
      ],
      "execution_count": 41,
      "outputs": [
        {
          "output_type": "stream",
          "text": [
            "<class 'pandas.core.frame.DataFrame'>\n",
            "Int64Index: 1221 entries, 0 to 1266\n",
            "Data columns (total 23 columns):\n",
            " #   Column                   Non-Null Count  Dtype  \n",
            "---  ------                   --------------  -----  \n",
            " 0   Group_ED                 1221 non-null   int64  \n",
            " 1   Sex                      1221 non-null   int64  \n",
            " 2   Age                      1221 non-null   int64  \n",
            " 3   Patients_number/hour     1221 non-null   int64  \n",
            " 4   Arrival_Type             1221 non-null   int64  \n",
            " 5   Injury                   1221 non-null   int64  \n",
            " 6   Main_Complaint           1221 non-null   object \n",
            " 7   Mental_State             1221 non-null   int64  \n",
            " 8   Pain                     1221 non-null   int64  \n",
            " 9   Systolid_BP              1221 non-null   float64\n",
            " 10  Diastolic_BP             1221 non-null   float64\n",
            " 11  Heart_Rate               1221 non-null   int64  \n",
            " 12  Respiration_Rate         1221 non-null   int64  \n",
            " 13  Body_Temperature         1221 non-null   float64\n",
            " 14  Saturation               1221 non-null   int64  \n",
            " 15  KTAS_Nurse               1221 non-null   int64  \n",
            " 16  Patient_Diagnosis        1221 non-null   object \n",
            " 17  Patient_Disposition      1221 non-null   int64  \n",
            " 18  KTAS_Expert              1221 non-null   int64  \n",
            " 19  Error_Group              1221 non-null   int64  \n",
            " 20  Total_Stay_duration/min  1221 non-null   float64\n",
            " 21  KTAS_duration/min        1221 non-null   float64\n",
            " 22  Mistriage                1221 non-null   int64  \n",
            "dtypes: float64(5), int64(16), object(2)\n",
            "memory usage: 228.9+ KB\n"
          ],
          "name": "stdout"
        }
      ]
    },
    {
      "cell_type": "markdown",
      "metadata": {
        "id": "T_nDXgIgTHSh"
      },
      "source": [
        "Now, our data is ready for making further analysis."
      ]
    },
    {
      "cell_type": "markdown",
      "metadata": {
        "id": "gK9YBGZaDEIo"
      },
      "source": [
        "## 4. Data Visualization"
      ]
    },
    {
      "cell_type": "markdown",
      "metadata": {
        "id": "61y3kqSPcHIS"
      },
      "source": [
        "#### 4.1 Distribution of Emergency Department Type"
      ]
    },
    {
      "cell_type": "code",
      "metadata": {
        "id": "8xql2Zg9d5RW"
      },
      "source": [
        "g=data.groupby([\"Group_ED\"], as_index = False).count()\r\n",
        "g = g[[\"Group_ED\", \"Age\"]]\r\n",
        "g = g.rename(columns = {\"Age\" : \"Count\"})\r\n",
        "g[\"percentage\"] = g[\"Count\"] / g[\"Count\"].sum()\r\n",
        "g1=g[[\"Group_ED\",\"Count\" ,\"percentage\"]]\r\n",
        "\r\n"
      ],
      "execution_count": 42,
      "outputs": []
    },
    {
      "cell_type": "code",
      "metadata": {
        "colab": {
          "base_uri": "https://localhost:8080/",
          "height": 108
        },
        "id": "TNMOU8udesIM",
        "outputId": "2b2cfd7a-0974-49bb-c092-8dfcb41e872e"
      },
      "source": [
        "type_ed = [\"Local ED\", \"Regional ED\"]\r\n",
        "g1.insert(3, \"TypeofName\" , type_ed, True)\r\n",
        "g1"
      ],
      "execution_count": 43,
      "outputs": [
        {
          "output_type": "execute_result",
          "data": {
            "text/html": [
              "<div>\n",
              "<style scoped>\n",
              "    .dataframe tbody tr th:only-of-type {\n",
              "        vertical-align: middle;\n",
              "    }\n",
              "\n",
              "    .dataframe tbody tr th {\n",
              "        vertical-align: top;\n",
              "    }\n",
              "\n",
              "    .dataframe thead th {\n",
              "        text-align: right;\n",
              "    }\n",
              "</style>\n",
              "<table border=\"1\" class=\"dataframe\">\n",
              "  <thead>\n",
              "    <tr style=\"text-align: right;\">\n",
              "      <th></th>\n",
              "      <th>Group_ED</th>\n",
              "      <th>Count</th>\n",
              "      <th>percentage</th>\n",
              "      <th>TypeofName</th>\n",
              "    </tr>\n",
              "  </thead>\n",
              "  <tbody>\n",
              "    <tr>\n",
              "      <th>0</th>\n",
              "      <td>1</td>\n",
              "      <td>658</td>\n",
              "      <td>0.538903</td>\n",
              "      <td>Local ED</td>\n",
              "    </tr>\n",
              "    <tr>\n",
              "      <th>1</th>\n",
              "      <td>2</td>\n",
              "      <td>563</td>\n",
              "      <td>0.461097</td>\n",
              "      <td>Regional ED</td>\n",
              "    </tr>\n",
              "  </tbody>\n",
              "</table>\n",
              "</div>"
            ],
            "text/plain": [
              "   Group_ED  Count  percentage   TypeofName\n",
              "0         1    658    0.538903     Local ED\n",
              "1         2    563    0.461097  Regional ED"
            ]
          },
          "metadata": {
            "tags": []
          },
          "execution_count": 43
        }
      ]
    },
    {
      "cell_type": "code",
      "metadata": {
        "colab": {
          "base_uri": "https://localhost:8080/",
          "height": 297
        },
        "id": "IkUUCqkMad8D",
        "outputId": "8a541725-e28a-4f4e-b399-b33acbc09542"
      },
      "source": [
        "g2=g1[[\"Group_ED\", \"percentage\", \"TypeofName\"]]\r\n",
        "fig1, ax1 = plt.subplots()\r\n",
        "ax1.pie(g2.percentage, labels=g2.Group_ED, autopct='%1.2f%%', startangle=90)\r\n",
        "ax1.axis('equal')\r\n",
        "plt.legend(g2.TypeofName, title='Type of ED' ,loc=\"upper right\")\r\n",
        "plt.tight_layout();"
      ],
      "execution_count": 44,
      "outputs": [
        {
          "output_type": "display_data",
          "data": {
            "image/png": "[encoded data removed]",
            "text/plain": [
              "<Figure size 432x288 with 1 Axes>"
            ]
          },
          "metadata": {
            "tags": []
          }
        }
      ]
    },
    {
      "cell_type": "markdown",
      "metadata": {
        "id": "1TfoYKFcdfVx"
      },
      "source": [
        "The pie chart show that 55.89 percent of emergency services are local and 46.11 percent are regional."
      ]
    },
    {
      "cell_type": "markdown",
      "metadata": {
        "id": "dh1XxNHifvwy"
      },
      "source": [
        "#### 4.2 Average Age of Patients by Gender"
      ]
    },
    {
      "cell_type": "code",
      "metadata": {
        "colab": {
          "base_uri": "https://localhost:8080/",
          "height": 108
        },
        "id": "53aNCcLRgQUd",
        "outputId": "1b450ed3-15de-4f7f-f564-6aa33087a887"
      },
      "source": [
        "a=data.groupby([\"Sex\"], as_index = False)[[\"Age\"]].mean()\r\n",
        "gender = [\"Female\", \"Male\"]\r\n",
        "a.insert(2, \"Gender\" , gender, True)\r\n",
        "a"
      ],
      "execution_count": 45,
      "outputs": [
        {
          "output_type": "execute_result",
          "data": {
            "text/html": [
              "<div>\n",
              "<style scoped>\n",
              "    .dataframe tbody tr th:only-of-type {\n",
              "        vertical-align: middle;\n",
              "    }\n",
              "\n",
              "    .dataframe tbody tr th {\n",
              "        vertical-align: top;\n",
              "    }\n",
              "\n",
              "    .dataframe thead th {\n",
              "        text-align: right;\n",
              "    }\n",
              "</style>\n",
              "<table border=\"1\" class=\"dataframe\">\n",
              "  <thead>\n",
              "    <tr style=\"text-align: right;\">\n",
              "      <th></th>\n",
              "      <th>Sex</th>\n",
              "      <th>Age</th>\n",
              "      <th>Gender</th>\n",
              "    </tr>\n",
              "  </thead>\n",
              "  <tbody>\n",
              "    <tr>\n",
              "      <th>0</th>\n",
              "      <td>1</td>\n",
              "      <td>54.890223</td>\n",
              "      <td>Female</td>\n",
              "    </tr>\n",
              "    <tr>\n",
              "      <th>1</th>\n",
              "      <td>2</td>\n",
              "      <td>53.065831</td>\n",
              "      <td>Male</td>\n",
              "    </tr>\n",
              "  </tbody>\n",
              "</table>\n",
              "</div>"
            ],
            "text/plain": [
              "   Sex        Age  Gender\n",
              "0    1  54.890223  Female\n",
              "1    2  53.065831    Male"
            ]
          },
          "metadata": {
            "tags": []
          },
          "execution_count": 45
        }
      ]
    },
    {
      "cell_type": "markdown",
      "metadata": {
        "id": "NHHSTbu3j0C6"
      },
      "source": [
        "It can be said that the average of age is between 53-54. "
      ]
    },
    {
      "cell_type": "code",
      "metadata": {
        "colab": {
          "base_uri": "https://localhost:8080/",
          "height": 399
        },
        "id": "S9a2V2Jsim6e",
        "outputId": "9b5433dc-70b2-4dd9-a246-cad1027c9c2b"
      },
      "source": [
        "sns.catplot(x=\"Gender\", y=\"Age\", kind=\"bar\", data=a, palette=\"ch:.25\")\r\n",
        "plt.legend(a[\"Gender\"].unique(), title='Gender Types' ,loc=\"upper right\")\r\n",
        "plt.title(\"Average age of patients by gender\")\r\n",
        "plt.show()"
      ],
      "execution_count": 46,
      "outputs": [
        {
          "output_type": "display_data",
          "data": {
            "image/png": "[encoded data removed]",
            "text/plain": [
              "<Figure size 360x360 with 1 Axes>"
            ]
          },
          "metadata": {
            "tags": [],
            "needs_background": "light"
          }
        }
      ]
    },
    {
      "cell_type": "markdown",
      "metadata": {
        "id": "Wr6piPIqkBW_"
      },
      "source": [
        "#### 4.3 Types of Patients' Arrival in the Emergency Department"
      ]
    },
    {
      "cell_type": "code",
      "metadata": {
        "colab": {
          "base_uri": "https://localhost:8080/",
          "height": 258
        },
        "id": "WOcQZ1GutL0x",
        "outputId": "024bd3ac-6e19-41c9-d411-f2132a7ef957"
      },
      "source": [
        "t =data.groupby([\"Arrival_Type\"], as_index = False).count()\r\n",
        "t = t[[\"Arrival_Type\", \"Age\"]]\r\n",
        "t = t.rename(columns = {\"Age\" : \"Count\"})\r\n",
        "t_type = [\"Walking\", \"119 use\", \"Private car\", \"Private ambulance\", \"Public transf. (Police ets)\", \"Wheelchair\", \"Others\"]\r\n",
        "t.insert(2, \"Arrival_name\", t_type, True)\r\n",
        "t = t.sort_values(\"Count\", ascending= False)\r\n",
        "t[\"percentage\"] = t[\"Count\"] / t[\"Count\"].sum()\r\n",
        "t"
      ],
      "execution_count": 47,
      "outputs": [
        {
          "output_type": "execute_result",
          "data": {
            "text/html": [
              "<div>\n",
              "<style scoped>\n",
              "    .dataframe tbody tr th:only-of-type {\n",
              "        vertical-align: middle;\n",
              "    }\n",
              "\n",
              "    .dataframe tbody tr th {\n",
              "        vertical-align: top;\n",
              "    }\n",
              "\n",
              "    .dataframe thead th {\n",
              "        text-align: right;\n",
              "    }\n",
              "</style>\n",
              "<table border=\"1\" class=\"dataframe\">\n",
              "  <thead>\n",
              "    <tr style=\"text-align: right;\">\n",
              "      <th></th>\n",
              "      <th>Arrival_Type</th>\n",
              "      <th>Count</th>\n",
              "      <th>Arrival_name</th>\n",
              "      <th>percentage</th>\n",
              "    </tr>\n",
              "  </thead>\n",
              "  <tbody>\n",
              "    <tr>\n",
              "      <th>2</th>\n",
              "      <td>3</td>\n",
              "      <td>737</td>\n",
              "      <td>Private car</td>\n",
              "      <td>0.603604</td>\n",
              "    </tr>\n",
              "    <tr>\n",
              "      <th>1</th>\n",
              "      <td>2</td>\n",
              "      <td>248</td>\n",
              "      <td>119 use</td>\n",
              "      <td>0.203112</td>\n",
              "    </tr>\n",
              "    <tr>\n",
              "      <th>3</th>\n",
              "      <td>4</td>\n",
              "      <td>144</td>\n",
              "      <td>Private ambulance</td>\n",
              "      <td>0.117936</td>\n",
              "    </tr>\n",
              "    <tr>\n",
              "      <th>0</th>\n",
              "      <td>1</td>\n",
              "      <td>78</td>\n",
              "      <td>Walking</td>\n",
              "      <td>0.063882</td>\n",
              "    </tr>\n",
              "    <tr>\n",
              "      <th>5</th>\n",
              "      <td>6</td>\n",
              "      <td>10</td>\n",
              "      <td>Wheelchair</td>\n",
              "      <td>0.008190</td>\n",
              "    </tr>\n",
              "    <tr>\n",
              "      <th>4</th>\n",
              "      <td>5</td>\n",
              "      <td>2</td>\n",
              "      <td>Public transf. (Police ets)</td>\n",
              "      <td>0.001638</td>\n",
              "    </tr>\n",
              "    <tr>\n",
              "      <th>6</th>\n",
              "      <td>7</td>\n",
              "      <td>2</td>\n",
              "      <td>Others</td>\n",
              "      <td>0.001638</td>\n",
              "    </tr>\n",
              "  </tbody>\n",
              "</table>\n",
              "</div>"
            ],
            "text/plain": [
              "   Arrival_Type  Count                 Arrival_name  percentage\n",
              "2             3    737                  Private car    0.603604\n",
              "1             2    248                      119 use    0.203112\n",
              "3             4    144            Private ambulance    0.117936\n",
              "0             1     78                      Walking    0.063882\n",
              "5             6     10                   Wheelchair    0.008190\n",
              "4             5      2  Public transf. (Police ets)    0.001638\n",
              "6             7      2                       Others    0.001638"
            ]
          },
          "metadata": {
            "tags": []
          },
          "execution_count": 47
        }
      ]
    },
    {
      "cell_type": "markdown",
      "metadata": {
        "id": "zRR8GCbmbz2f"
      },
      "source": [
        "Overall, 733 (60%) patients, which was more than half, used a private vehicle."
      ]
    },
    {
      "cell_type": "code",
      "metadata": {
        "colab": {
          "base_uri": "https://localhost:8080/",
          "height": 530
        },
        "id": "a29aX_A5vQnW",
        "outputId": "ea943435-8464-4768-87f9-655685b9b309"
      },
      "source": [
        "plt.figure(figsize=(15,15))\r\n",
        "sns.catplot(x=t.Arrival_name, y=t.Count, kind=\"bar\", data=t, palette=\"cubehelix\",  dodge=False)\r\n",
        "plt.xticks(rotation=90, horizontalalignment=\"center\")\r\n",
        "plt.title(\"Patients' Arrival Types\")\r\n",
        "plt.xlabel(\"Arrival type\")\r\n",
        "plt.ylabel(\"Numbe rof patient\")\r\n",
        "plt.show();"
      ],
      "execution_count": 48,
      "outputs": [
        {
          "output_type": "display_data",
          "data": {
            "text/plain": [
              "<Figure size 1080x1080 with 0 Axes>"
            ]
          },
          "metadata": {
            "tags": []
          }
        },
        {
          "output_type": "display_data",
          "data": {
            "image/png": "[encoded data removed]",
            "text/plain": [
              "<Figure size 360x360 with 1 Axes>"
            ]
          },
          "metadata": {
            "tags": [],
            "needs_background": "light"
          }
        }
      ]
    },
    {
      "cell_type": "markdown",
      "metadata": {
        "id": "CB1QqBFqb5Ev"
      },
      "source": [
        "#### 4.4 The Reason Patients Visit the Hospital"
      ]
    },
    {
      "cell_type": "code",
      "metadata": {
        "colab": {
          "base_uri": "https://localhost:8080/",
          "height": 108
        },
        "id": "rQxRmkgkb4qv",
        "outputId": "8eb2e230-1f93-4e0c-f9b2-0f943fc5e21b"
      },
      "source": [
        "i=data.groupby([\"Injury\"], as_index = False).count()\r\n",
        "i = i[[\"Injury\", \"Age\"]]\r\n",
        "i = i.rename(columns = {\"Age\" : \"Count\"})\r\n",
        "i[\"percentage\"] = i[\"Count\"] / i[\"Count\"].sum()\r\n",
        "inj = [\"Non-injury\", \"Injury\"]\r\n",
        "i.insert(3, \"Injury_type\" , inj, True)\r\n",
        "i\r\n"
      ],
      "execution_count": 49,
      "outputs": [
        {
          "output_type": "execute_result",
          "data": {
            "text/html": [
              "<div>\n",
              "<style scoped>\n",
              "    .dataframe tbody tr th:only-of-type {\n",
              "        vertical-align: middle;\n",
              "    }\n",
              "\n",
              "    .dataframe tbody tr th {\n",
              "        vertical-align: top;\n",
              "    }\n",
              "\n",
              "    .dataframe thead th {\n",
              "        text-align: right;\n",
              "    }\n",
              "</style>\n",
              "<table border=\"1\" class=\"dataframe\">\n",
              "  <thead>\n",
              "    <tr style=\"text-align: right;\">\n",
              "      <th></th>\n",
              "      <th>Injury</th>\n",
              "      <th>Count</th>\n",
              "      <th>percentage</th>\n",
              "      <th>Injury_type</th>\n",
              "    </tr>\n",
              "  </thead>\n",
              "  <tbody>\n",
              "    <tr>\n",
              "      <th>0</th>\n",
              "      <td>1</td>\n",
              "      <td>986</td>\n",
              "      <td>0.807535</td>\n",
              "      <td>Non-injury</td>\n",
              "    </tr>\n",
              "    <tr>\n",
              "      <th>1</th>\n",
              "      <td>2</td>\n",
              "      <td>235</td>\n",
              "      <td>0.192465</td>\n",
              "      <td>Injury</td>\n",
              "    </tr>\n",
              "  </tbody>\n",
              "</table>\n",
              "</div>"
            ],
            "text/plain": [
              "   Injury  Count  percentage Injury_type\n",
              "0       1    986    0.807535  Non-injury\n",
              "1       2    235    0.192465      Injury"
            ]
          },
          "metadata": {
            "tags": []
          },
          "execution_count": 49
        }
      ]
    },
    {
      "cell_type": "code",
      "metadata": {
        "colab": {
          "base_uri": "https://localhost:8080/",
          "height": 435
        },
        "id": "b13ecjmHgssJ",
        "outputId": "1128364e-b4de-4afc-d302-2ee732589404"
      },
      "source": [
        "plt.figure(figsize=(6,4))\r\n",
        "fig = px.pie(i, values='percentage', names='Injury_type', color_discrete_sequence=px.colors.sequential.RdBu,\r\n",
        "              width=800, height=400)\r\n",
        "fig.show();\r\n"
      ],
      "execution_count": 50,
      "outputs": [
        {
          "output_type": "display_data",
          "data": {
            "text/html": [
              "<html>\n",
              "<head><meta charset=\"utf-8\" /></head>\n",
              "<body>\n",
              "    <div>\n",
              "            <script src=\"https://cdnjs.cloudflare.com/ajax/libs/mathjax/2.7.5/MathJax.js?config=TeX-AMS-MML_SVG\"></script><script type=\"text/javascript\">if (window.MathJax) {MathJax.Hub.Config({SVG: {font: \"STIX-Web\"}});}</script>\n",
              "                <script type=\"text/javascript\">window.PlotlyConfig = {MathJaxConfig: 'local'};</script>\n",
              "        <script src=\"https://cdn.plot.ly/plotly-latest.min.js\"></script>    \n",
              "            <div id=\"d82f74f8-b314-4c90-816f-49e7eb43656d\" class=\"plotly-graph-div\" style=\"height:400px; width:800px;\"></div>\n",
              "            <script type=\"text/javascript\">\n",
              "                \n",
              "                    window.PLOTLYENV=window.PLOTLYENV || {};\n",
              "                    \n",
              "                if (document.getElementById(\"d82f74f8-b314-4c90-816f-49e7eb43656d\")) {\n",
              "                    Plotly.newPlot(\n",
              "                        'd82f74f8-b314-4c90-816f-49e7eb43656d',\n",
              "                        [{\"domain\": {\"x\": [0.0, 1.0], \"y\": [0.0, 1.0]}, \"hoverlabel\": {\"namelength\": 0}, \"hovertemplate\": \"Injury_type=%{label}<br>percentage=%{value}\", \"labels\": [\"Non-injury\", \"Injury\"], \"legendgroup\": \"\", \"name\": \"\", \"showlegend\": true, \"type\": \"pie\", \"values\": [0.8075348075348076, 0.19246519246519248]}],\n",
              "                        {\"height\": 400, \"legend\": {\"tracegroupgap\": 0}, \"margin\": {\"t\": 60}, \"piecolorway\": [\"rgb(103,0,31)\", \"rgb(178,24,43)\", \"rgb(214,96,77)\", \"rgb(244,165,130)\", \"rgb(253,219,199)\", \"rgb(247,247,247)\", \"rgb(209,229,240)\", \"rgb(146,197,222)\", \"rgb(67,147,195)\", \"rgb(33,102,172)\", \"rgb(5,48,97)\"], \"template\": {\"data\": {\"bar\": [{\"error_x\": {\"color\": \"#2a3f5f\"}, \"error_y\": {\"color\": \"#2a3f5f\"}, \"marker\": {\"line\": {\"color\": \"#E5ECF6\", \"width\": 0.5}}, \"type\": \"bar\"}], \"barpolar\": [{\"marker\": {\"line\": {\"color\": \"#E5ECF6\", \"width\": 0.5}}, \"type\": \"barpolar\"}], \"carpet\": [{\"aaxis\": {\"endlinecolor\": \"#2a3f5f\", \"gridcolor\": \"white\", \"linecolor\": \"white\", \"minorgridcolor\": \"white\", \"startlinecolor\": \"#2a3f5f\"}, \"baxis\": {\"endlinecolor\": \"#2a3f5f\", \"gridcolor\": \"white\", \"linecolor\": \"white\", \"minorgridcolor\": \"white\", \"startlinecolor\": \"#2a3f5f\"}, \"type\": \"carpet\"}], \"choropleth\": [{\"colorbar\": {\"outlinewidth\": 0, \"ticks\": \"\"}, \"type\": \"choropleth\"}], \"contour\": [{\"colorbar\": {\"outlinewidth\": 0, \"ticks\": \"\"}, \"colorscale\": [[0.0, \"#0d0887\"], [0.1111111111111111, \"#46039f\"], [0.2222222222222222, \"#7201a8\"], [0.3333333333333333, \"#9c179e\"], [0.4444444444444444, \"#bd3786\"], [0.5555555555555556, \"#d8576b\"], [0.6666666666666666, \"#ed7953\"], [0.7777777777777778, \"#fb9f3a\"], [0.8888888888888888, \"#fdca26\"], [1.0, \"#f0f921\"]], \"type\": \"contour\"}], \"contourcarpet\": [{\"colorbar\": {\"outlinewidth\": 0, \"ticks\": \"\"}, \"type\": \"contourcarpet\"}], \"heatmap\": [{\"colorbar\": {\"outlinewidth\": 0, \"ticks\": \"\"}, \"colorscale\": [[0.0, \"#0d0887\"], [0.1111111111111111, \"#46039f\"], [0.2222222222222222, \"#7201a8\"], [0.3333333333333333, \"#9c179e\"], [0.4444444444444444, \"#bd3786\"], [0.5555555555555556, \"#d8576b\"], [0.6666666666666666, \"#ed7953\"], [0.7777777777777778, \"#fb9f3a\"], [0.8888888888888888, \"#fdca26\"], [1.0, \"#f0f921\"]], \"type\": \"heatmap\"}], \"heatmapgl\": [{\"colorbar\": {\"outlinewidth\": 0, \"ticks\": \"\"}, \"colorscale\": [[0.0, \"#0d0887\"], [0.1111111111111111, \"#46039f\"], [0.2222222222222222, \"#7201a8\"], [0.3333333333333333, \"#9c179e\"], [0.4444444444444444, \"#bd3786\"], [0.5555555555555556, \"#d8576b\"], [0.6666666666666666, \"#ed7953\"], [0.7777777777777778, \"#fb9f3a\"], [0.8888888888888888, \"#fdca26\"], [1.0, \"#f0f921\"]], \"type\": \"heatmapgl\"}], \"histogram\": [{\"marker\": {\"colorbar\": {\"outlinewidth\": 0, \"ticks\": \"\"}}, \"type\": \"histogram\"}], \"histogram2d\": [{\"colorbar\": {\"outlinewidth\": 0, \"ticks\": \"\"}, \"colorscale\": [[0.0, \"#0d0887\"], [0.1111111111111111, \"#46039f\"], [0.2222222222222222, \"#7201a8\"], [0.3333333333333333, \"#9c179e\"], [0.4444444444444444, \"#bd3786\"], [0.5555555555555556, \"#d8576b\"], [0.6666666666666666, \"#ed7953\"], [0.7777777777777778, \"#fb9f3a\"], [0.8888888888888888, \"#fdca26\"], [1.0, \"#f0f921\"]], \"type\": \"histogram2d\"}], \"histogram2dcontour\": [{\"colorbar\": {\"outlinewidth\": 0, \"ticks\": \"\"}, \"colorscale\": [[0.0, \"#0d0887\"], [0.1111111111111111, \"#46039f\"], [0.2222222222222222, \"#7201a8\"], [0.3333333333333333, \"#9c179e\"], [0.4444444444444444, \"#bd3786\"], [0.5555555555555556, \"#d8576b\"], [0.6666666666666666, \"#ed7953\"], [0.7777777777777778, \"#fb9f3a\"], [0.8888888888888888, \"#fdca26\"], [1.0, \"#f0f921\"]], \"type\": \"histogram2dcontour\"}], \"mesh3d\": [{\"colorbar\": {\"outlinewidth\": 0, \"ticks\": \"\"}, \"type\": \"mesh3d\"}], \"parcoords\": [{\"line\": {\"colorbar\": {\"outlinewidth\": 0, \"ticks\": \"\"}}, \"type\": \"parcoords\"}], \"pie\": [{\"automargin\": true, \"type\": \"pie\"}], \"scatter\": [{\"marker\": {\"colorbar\": {\"outlinewidth\": 0, \"ticks\": \"\"}}, \"type\": \"scatter\"}], \"scatter3d\": [{\"line\": {\"colorbar\": {\"outlinewidth\": 0, \"ticks\": \"\"}}, \"marker\": {\"colorbar\": {\"outlinewidth\": 0, \"ticks\": \"\"}}, \"type\": \"scatter3d\"}], \"scattercarpet\": [{\"marker\": {\"colorbar\": {\"outlinewidth\": 0, \"ticks\": \"\"}}, \"type\": \"scattercarpet\"}], \"scattergeo\": [{\"marker\": {\"colorbar\": {\"outlinewidth\": 0, \"ticks\": \"\"}}, \"type\": \"scattergeo\"}], \"scattergl\": [{\"marker\": {\"colorbar\": {\"outlinewidth\": 0, \"ticks\": \"\"}}, \"type\": \"scattergl\"}], \"scattermapbox\": [{\"marker\": {\"colorbar\": {\"outlinewidth\": 0, \"ticks\": \"\"}}, \"type\": \"scattermapbox\"}], \"scatterpolar\": [{\"marker\": {\"colorbar\": {\"outlinewidth\": 0, \"ticks\": \"\"}}, \"type\": \"scatterpolar\"}], \"scatterpolargl\": [{\"marker\": {\"colorbar\": {\"outlinewidth\": 0, \"ticks\": \"\"}}, \"type\": \"scatterpolargl\"}], \"scatterternary\": [{\"marker\": {\"colorbar\": {\"outlinewidth\": 0, \"ticks\": \"\"}}, \"type\": \"scatterternary\"}], \"surface\": [{\"colorbar\": {\"outlinewidth\": 0, \"ticks\": \"\"}, \"colorscale\": [[0.0, \"#0d0887\"], [0.1111111111111111, \"#46039f\"], [0.2222222222222222, \"#7201a8\"], [0.3333333333333333, \"#9c179e\"], [0.4444444444444444, \"#bd3786\"], [0.5555555555555556, \"#d8576b\"], [0.6666666666666666, \"#ed7953\"], [0.7777777777777778, \"#fb9f3a\"], [0.8888888888888888, \"#fdca26\"], [1.0, \"#f0f921\"]], \"type\": \"surface\"}], \"table\": [{\"cells\": {\"fill\": {\"color\": \"#EBF0F8\"}, \"line\": {\"color\": \"white\"}}, \"header\": {\"fill\": {\"color\": \"#C8D4E3\"}, \"line\": {\"color\": \"white\"}}, \"type\": \"table\"}]}, \"layout\": {\"annotationdefaults\": {\"arrowcolor\": \"#2a3f5f\", \"arrowhead\": 0, \"arrowwidth\": 1}, \"coloraxis\": {\"colorbar\": {\"outlinewidth\": 0, \"ticks\": \"\"}}, \"colorscale\": {\"diverging\": [[0, \"#8e0152\"], [0.1, \"#c51b7d\"], [0.2, \"#de77ae\"], [0.3, \"#f1b6da\"], [0.4, \"#fde0ef\"], [0.5, \"#f7f7f7\"], [0.6, \"#e6f5d0\"], [0.7, \"#b8e186\"], [0.8, \"#7fbc41\"], [0.9, \"#4d9221\"], [1, \"#276419\"]], \"sequential\": [[0.0, \"#0d0887\"], [0.1111111111111111, \"#46039f\"], [0.2222222222222222, \"#7201a8\"], [0.3333333333333333, \"#9c179e\"], [0.4444444444444444, \"#bd3786\"], [0.5555555555555556, \"#d8576b\"], [0.6666666666666666, \"#ed7953\"], [0.7777777777777778, \"#fb9f3a\"], [0.8888888888888888, \"#fdca26\"], [1.0, \"#f0f921\"]], \"sequentialminus\": [[0.0, \"#0d0887\"], [0.1111111111111111, \"#46039f\"], [0.2222222222222222, \"#7201a8\"], [0.3333333333333333, \"#9c179e\"], [0.4444444444444444, \"#bd3786\"], [0.5555555555555556, \"#d8576b\"], [0.6666666666666666, \"#ed7953\"], [0.7777777777777778, \"#fb9f3a\"], [0.8888888888888888, \"#fdca26\"], [1.0, \"#f0f921\"]]}, \"colorway\": [\"#636efa\", \"#EF553B\", \"#00cc96\", \"#ab63fa\", \"#FFA15A\", \"#19d3f3\", \"#FF6692\", \"#B6E880\", \"#FF97FF\", \"#FECB52\"], \"font\": {\"color\": \"#2a3f5f\"}, \"geo\": {\"bgcolor\": \"white\", \"lakecolor\": \"white\", \"landcolor\": \"#E5ECF6\", \"showlakes\": true, \"showland\": true, \"subunitcolor\": \"white\"}, \"hoverlabel\": {\"align\": \"left\"}, \"hovermode\": \"closest\", \"mapbox\": {\"style\": \"light\"}, \"paper_bgcolor\": \"white\", \"plot_bgcolor\": \"#E5ECF6\", \"polar\": {\"angularaxis\": {\"gridcolor\": \"white\", \"linecolor\": \"white\", \"ticks\": \"\"}, \"bgcolor\": \"#E5ECF6\", \"radialaxis\": {\"gridcolor\": \"white\", \"linecolor\": \"white\", \"ticks\": \"\"}}, \"scene\": {\"xaxis\": {\"backgroundcolor\": \"#E5ECF6\", \"gridcolor\": \"white\", \"gridwidth\": 2, \"linecolor\": \"white\", \"showbackground\": true, \"ticks\": \"\", \"zerolinecolor\": \"white\"}, \"yaxis\": {\"backgroundcolor\": \"#E5ECF6\", \"gridcolor\": \"white\", \"gridwidth\": 2, \"linecolor\": \"white\", \"showbackground\": true, \"ticks\": \"\", \"zerolinecolor\": \"white\"}, \"zaxis\": {\"backgroundcolor\": \"#E5ECF6\", \"gridcolor\": \"white\", \"gridwidth\": 2, \"linecolor\": \"white\", \"showbackground\": true, \"ticks\": \"\", \"zerolinecolor\": \"white\"}}, \"shapedefaults\": {\"line\": {\"color\": \"#2a3f5f\"}}, \"ternary\": {\"aaxis\": {\"gridcolor\": \"white\", \"linecolor\": \"white\", \"ticks\": \"\"}, \"baxis\": {\"gridcolor\": \"white\", \"linecolor\": \"white\", \"ticks\": \"\"}, \"bgcolor\": \"#E5ECF6\", \"caxis\": {\"gridcolor\": \"white\", \"linecolor\": \"white\", \"ticks\": \"\"}}, \"title\": {\"x\": 0.05}, \"xaxis\": {\"automargin\": true, \"gridcolor\": \"white\", \"linecolor\": \"white\", \"ticks\": \"\", \"title\": {\"standoff\": 15}, \"zerolinecolor\": \"white\", \"zerolinewidth\": 2}, \"yaxis\": {\"automargin\": true, \"gridcolor\": \"white\", \"linecolor\": \"white\", \"ticks\": \"\", \"title\": {\"standoff\": 15}, \"zerolinecolor\": \"white\", \"zerolinewidth\": 2}}}, \"width\": 800},\n",
              "                        {\"responsive\": true}\n",
              "                    ).then(function(){\n",
              "                            \n",
              "var gd = document.getElementById('d82f74f8-b314-4c90-816f-49e7eb43656d');\n",
              "var x = new MutationObserver(function (mutations, observer) {{\n",
              "        var display = window.getComputedStyle(gd).display;\n",
              "        if (!display || display === 'none') {{\n",
              "            console.log([gd, 'removed!']);\n",
              "            Plotly.purge(gd);\n",
              "            observer.disconnect();\n",
              "        }}\n",
              "}});\n",
              "\n",
              "// Listen for the removal of the full notebook cells\n",
              "var notebookContainer = gd.closest('#notebook-container');\n",
              "if (notebookContainer) {{\n",
              "    x.observe(notebookContainer, {childList: true});\n",
              "}}\n",
              "\n",
              "// Listen for the clearing of the current output cell\n",
              "var outputEl = gd.closest('.output');\n",
              "if (outputEl) {{\n",
              "    x.observe(outputEl, {childList: true});\n",
              "}}\n",
              "\n",
              "                        })\n",
              "                };\n",
              "                \n",
              "            </script>\n",
              "        </div>\n",
              "</body>\n",
              "</html>"
            ]
          },
          "metadata": {
            "tags": []
          }
        },
        {
          "output_type": "display_data",
          "data": {
            "text/plain": [
              "<Figure size 432x288 with 0 Axes>"
            ]
          },
          "metadata": {
            "tags": []
          }
        }
      ]
    },
    {
      "cell_type": "markdown",
      "metadata": {
        "id": "ih47Gl4WiEwp"
      },
      "source": [
        "The reason for visiting the emergency department was related to non-injurious incidents in 986 (80.8%) cases."
      ]
    },
    {
      "cell_type": "markdown",
      "metadata": {
        "id": "we5i6JU9ymxt"
      },
      "source": [
        "#### 4.5 Relationship Between Respiration Rate and Saturation"
      ]
    },
    {
      "cell_type": "markdown",
      "metadata": {
        "id": "3LZ1rQdi6INV"
      },
      "source": [
        "Respiration rate is the patients' breathing per minute (pulse) and the value should be between 10 and 20. Saturation means oxygen saturation in the blood.It must be 95 and above. There is an inverse relationship between the two. If the saturation is low, the respiration rate increases. Breathing rapidly as the need for breathing will increase."
      ]
    },
    {
      "cell_type": "code",
      "metadata": {
        "colab": {
          "base_uri": "https://localhost:8080/",
          "height": 198
        },
        "id": "0VWRVq5S5DHt",
        "outputId": "96adc0f3-c043-45c2-e8c1-57cdf12b7a1f"
      },
      "source": [
        "s = data[[\"Respiration_Rate\",\"Saturation\"]]\r\n",
        "s.head(5)"
      ],
      "execution_count": 51,
      "outputs": [
        {
          "output_type": "execute_result",
          "data": {
            "text/html": [
              "<div>\n",
              "<style scoped>\n",
              "    .dataframe tbody tr th:only-of-type {\n",
              "        vertical-align: middle;\n",
              "    }\n",
              "\n",
              "    .dataframe tbody tr th {\n",
              "        vertical-align: top;\n",
              "    }\n",
              "\n",
              "    .dataframe thead th {\n",
              "        text-align: right;\n",
              "    }\n",
              "</style>\n",
              "<table border=\"1\" class=\"dataframe\">\n",
              "  <thead>\n",
              "    <tr style=\"text-align: right;\">\n",
              "      <th></th>\n",
              "      <th>Respiration_Rate</th>\n",
              "      <th>Saturation</th>\n",
              "    </tr>\n",
              "  </thead>\n",
              "  <tbody>\n",
              "    <tr>\n",
              "      <th>0</th>\n",
              "      <td>18</td>\n",
              "      <td>100</td>\n",
              "    </tr>\n",
              "    <tr>\n",
              "      <th>1</th>\n",
              "      <td>20</td>\n",
              "      <td>98</td>\n",
              "    </tr>\n",
              "    <tr>\n",
              "      <th>2</th>\n",
              "      <td>20</td>\n",
              "      <td>98</td>\n",
              "    </tr>\n",
              "    <tr>\n",
              "      <th>3</th>\n",
              "      <td>20</td>\n",
              "      <td>98</td>\n",
              "    </tr>\n",
              "    <tr>\n",
              "      <th>4</th>\n",
              "      <td>18</td>\n",
              "      <td>98</td>\n",
              "    </tr>\n",
              "  </tbody>\n",
              "</table>\n",
              "</div>"
            ],
            "text/plain": [
              "   Respiration_Rate  Saturation\n",
              "0                18         100\n",
              "1                20          98\n",
              "2                20          98\n",
              "3                20          98\n",
              "4                18          98"
            ]
          },
          "metadata": {
            "tags": []
          },
          "execution_count": 51
        }
      ]
    },
    {
      "cell_type": "code",
      "metadata": {
        "colab": {
          "base_uri": "https://localhost:8080/",
          "height": 417
        },
        "id": "D6U__q0jpP6l",
        "outputId": "12a3a240-a454-406b-a175-72ed8dfe1f36"
      },
      "source": [
        "fig = px.scatter(s, x=\"Respiration_Rate\", y=\"Saturation\",\r\n",
        "                 width=600, height=400)\r\n",
        "\r\n",
        "fig.update_layout(\r\n",
        "    margin=dict(l=20, r=20, t=20, b=20),\r\n",
        "    paper_bgcolor=\"LightSteelBlue\",\r\n",
        ")\r\n",
        "\r\n",
        "fig.show()"
      ],
      "execution_count": 52,
      "outputs": [
        {
          "output_type": "display_data",
          "data": {
            "text/html": [
              "<html>\n",
              "<head><meta charset=\"utf-8\" /></head>\n",
              "<body>\n",
              "    <div>\n",
              "            <script src=\"https://cdnjs.cloudflare.com/ajax/libs/mathjax/2.7.5/MathJax.js?config=TeX-AMS-MML_SVG\"></script><script type=\"text/javascript\">if (window.MathJax) {MathJax.Hub.Config({SVG: {font: \"STIX-Web\"}});}</script>\n",
              "                <script type=\"text/javascript\">window.PlotlyConfig = {MathJaxConfig: 'local'};</script>\n",
              "        <script src=\"https://cdn.plot.ly/plotly-latest.min.js\"></script>    \n",
              "            <div id=\"d532d126-8aa9-442d-af49-9565b07b732c\" class=\"plotly-graph-div\" style=\"height:400px; width:600px;\"></div>\n",
              "            <script type=\"text/javascript\">\n",
              "                \n",
              "                    window.PLOTLYENV=window.PLOTLYENV || {};\n",
              "                    \n",
              "                if (document.getElementById(\"d532d126-8aa9-442d-af49-9565b07b732c\")) {\n",
              "                    Plotly.newPlot(\n",
              "                        'd532d126-8aa9-442d-af49-9565b07b732c',\n",
              "                        [{\"hoverlabel\": {\"namelength\": 0}, \"hovertemplate\": \"Respiration_Rate=%{x}<br>Saturation=%{y}\", \"legendgroup\": \"\", \"marker\": {\"color\": \"#636efa\", \"symbol\": \"circle\"}, \"mode\": \"markers\", \"name\": \"\", \"showlegend\": false, \"type\": \"scattergl\", \"x\": [18, 20, 20, 20, 18, 20, 20, 20, 20, 20, 16, 18, 20, 20, 20, 20, 20, 20, 16, 20, 20, 20, 20, 16, 20, 22, 22, 18, 18, 18, 20, 18, 20, 20, 16, 20, 20, 20, 20, 20, 20, 18, 16, 20, 20, 20, 20, 20, 20, 20, 20, 20, 20, 20, 16, 22, 20, 20, 20, 20, 20, 16, 20, 20, 16, 16, 20, 20, 20, 20, 20, 20, 20, 20, 20, 20, 18, 20, 20, 20, 20, 18, 20, 18, 20, 18, 20, 18, 18, 20, 20, 22, 18, 22, 18, 20, 20, 20, 16, 20, 20, 20, 20, 20, 20, 20, 20, 22, 20, 16, 18, 22, 20, 18, 16, 16, 20, 18, 20, 20, 18, 20, 20, 20, 20, 26, 30, 26, 18, 20, 20, 20, 20, 20, 20, 20, 20, 20, 20, 20, 20, 20, 20, 24, 20, 20, 20, 18, 20, 22, 20, 20, 20, 18, 20, 16, 20, 20, 20, 20, 20, 20, 20, 20, 20, 22, 20, 20, 20, 20, 20, 20, 20, 18, 18, 20, 20, 18, 20, 20, 20, 20, 18, 16, 20, 20, 16, 20, 22, 20, 18, 20, 18, 22, 16, 22, 20, 16, 20, 20, 18, 20, 18, 18, 18, 18, 20, 20, 16, 20, 20, 20, 16, 20, 16, 20, 20, 18, 20, 20, 20, 22, 18, 18, 20, 18, 20, 18, 20, 20, 20, 18, 20, 20, 20, 20, 20, 16, 20, 20, 20, 20, 16, 20, 20, 16, 16, 20, 18, 20, 20, 20, 20, 20, 20, 20, 20, 20, 20, 20, 18, 20, 20, 20, 16, 20, 20, 20, 16, 16, 20, 20, 20, 20, 20, 20, 20, 20, 20, 16, 20, 20, 20, 20, 20, 20, 18, 22, 16, 18, 20, 16, 20, 20, 20, 20, 18, 20, 20, 18, 20, 20, 20, 20, 20, 18, 16, 20, 20, 20, 20, 20, 20, 20, 20, 20, 20, 20, 20, 20, 20, 20, 20, 20, 20, 20, 20, 20, 20, 20, 20, 20, 18, 20, 20, 20, 20, 20, 20, 20, 18, 20, 20, 20, 20, 22, 20, 20, 20, 20, 20, 20, 18, 20, 20, 20, 20, 20, 20, 20, 20, 20, 20, 20, 20, 20, 20, 20, 20, 20, 20, 20, 20, 22, 20, 20, 20, 20, 20, 20, 20, 20, 20, 20, 20, 22, 20, 20, 20, 20, 20, 20, 16, 20, 18, 18, 20, 16, 20, 20, 20, 20, 20, 20, 20, 20, 20, 20, 20, 20, 20, 20, 20, 20, 20, 20, 20, 20, 20, 20, 22, 20, 20, 20, 20, 20, 22, 24, 20, 20, 20, 16, 20, 20, 20, 20, 20, 18, 20, 20, 20, 18, 20, 20, 20, 20, 18, 20, 18, 20, 20, 20, 18, 20, 20, 20, 18, 16, 18, 20, 20, 20, 20, 18, 20, 18, 20, 20, 20, 20, 18, 20, 20, 20, 20, 20, 20, 20, 20, 18, 20, 18, 20, 20, 20, 20, 18, 20, 20, 20, 20, 18, 18, 20, 16, 18, 20, 20, 20, 20, 18, 16, 20, 18, 16, 18, 20, 20, 24, 20, 18, 20, 16, 20, 20, 20, 20, 20, 20, 16, 20, 16, 20, 20, 20, 20, 20, 20, 20, 22, 22, 16, 20, 20, 16, 16, 16, 18, 20, 20, 20, 20, 20, 16, 20, 20, 18, 16, 20, 18, 20, 16, 18, 18, 18, 20, 20, 16, 20, 20, 20, 16, 20, 16, 16, 18, 22, 20, 18, 20, 16, 16, 20, 20, 16, 16, 18, 16, 18, 18, 18, 18, 20, 20, 18, 20, 20, 16, 20, 20, 20, 16, 20, 20, 20, 18, 20, 20, 18, 20, 20, 18, 20, 20, 20, 20, 20, 18, 18, 20, 20, 20, 20, 20, 16, 20, 16, 20, 18, 16, 18, 20, 20, 20, 20, 16, 16, 20, 22, 20, 24, 16, 18, 18, 20, 16, 20, 20, 20, 20, 16, 20, 20, 20, 20, 16, 18, 20, 20, 18, 20, 18, 20, 20, 18, 16, 20, 20, 20, 20, 18, 20, 20, 18, 18, 20, 20, 26, 16, 20, 20, 20, 20, 18, 18, 18, 20, 20, 22, 20, 20, 20, 20, 20, 20, 20, 20, 20, 20, 20, 20, 24, 18, 16, 20, 20, 20, 20, 18, 20, 20, 16, 18, 20, 18, 20, 18, 16, 16, 16, 20, 16, 20, 24, 18, 20, 16, 16, 16, 20, 22, 24, 18, 24, 22, 16, 18, 16, 16, 20, 20, 18, 22, 28, 16, 28, 20, 18, 16, 18, 16, 16, 28, 16, 16, 16, 16, 16, 16, 18, 16, 16, 20, 20, 20, 20, 16, 20, 20, 24, 20, 16, 22, 20, 30, 20, 18, 18, 18, 20, 20, 20, 18, 18, 16, 20, 16, 16, 20, 18, 20, 20, 30, 20, 20, 24, 28, 20, 18, 20, 20, 20, 16, 20, 20, 28, 18, 22, 20, 20, 20, 16, 18, 20, 24, 20, 20, 16, 20, 24, 20, 18, 18, 18, 20, 20, 20, 20, 24, 18, 18, 18, 20, 20, 18, 16, 16, 20, 18, 18, 20, 20, 22, 16, 18, 16, 16, 20, 20, 20, 20, 18, 16, 16, 20, 18, 20, 18, 18, 18, 20, 20, 20, 20, 20, 18, 22, 18, 20, 16, 20, 20, 18, 20, 16, 20, 20, 20, 20, 20, 20, 20, 20, 24, 16, 18, 20, 20, 20, 20, 20, 16, 20, 16, 18, 20, 18, 28, 18, 16, 18, 16, 20, 16, 16, 20, 20, 20, 20, 20, 22, 20, 16, 20, 20, 20, 20, 20, 20, 18, 20, 16, 18, 22, 18, 20, 20, 18, 18, 20, 18, 20, 18, 18, 18, 24, 22, 20, 16, 22, 16, 20, 20, 20, 18, 20, 20, 18, 20, 16, 20, 20, 20, 20, 20, 20, 18, 20, 18, 22, 20, 18, 20, 24, 20, 20, 20, 20, 20, 18, 20, 20, 20, 18, 28, 16, 20, 20, 20, 20, 18, 28, 22, 18, 20, 20, 20, 20, 20, 20, 18, 16, 18, 20, 20, 20, 20, 20, 20, 16, 20, 16, 16, 16, 20, 20, 20, 20, 20, 20, 20, 24, 16, 18, 18, 20, 20, 20, 16, 22, 24, 20, 23, 20, 20, 22, 20, 18, 20, 20, 20, 20, 20, 16, 18, 16, 20, 16, 20, 16, 24, 24, 20, 16, 20, 18, 20, 20, 20, 20, 20, 20, 20, 16, 18, 20, 20, 20, 20, 20, 20, 22, 20, 20, 20, 20, 20, 16, 28, 20, 16, 18, 20, 20, 22, 20, 18, 16, 22, 20, 20, 20, 20, 16, 24, 23, 20, 20, 20, 20, 22, 14, 18, 16, 20, 20, 20, 24, 20, 20, 24, 20, 20, 20, 20, 20, 20, 20, 20, 20, 18, 20, 20, 20, 20, 18, 20, 20, 22, 20, 20, 16, 16, 16, 20, 20, 20, 20, 20, 16, 20, 22, 20, 24, 20, 26, 20, 20, 20, 24, 20, 20, 20, 20, 16, 20, 20, 24, 20, 20, 16, 18, 20, 20, 20, 24, 22, 20, 20, 20, 20, 20, 24, 16, 16, 20, 16, 24, 20, 16, 20, 18, 18, 18, 20, 22, 20, 20, 20, 24, 20, 20, 20, 20, 20, 18, 20, 20, 20, 20, 24, 20, 20, 20, 20, 20, 20, 20, 20, 20, 20, 20, 20, 20, 20, 20, 20, 20, 20, 20, 20, 20, 20, 20, 20, 20, 20, 20, 20, 20, 20, 20, 20, 20, 20, 20, 22, 20, 20, 20, 20], \"xaxis\": \"x\", \"y\": [100, 98, 98, 98, 98, 98, 98, 98, 98, 97, 98, 98, 98, 98, 98, 98, 97, 98, 98, 98, 98, 98, 97, 98, 98, 98, 98, 98, 98, 98, 98, 98, 98, 97, 98, 98, 98, 98, 98, 98, 98, 98, 98, 98, 98, 98, 95, 98, 99, 98, 98, 95, 98, 96, 98, 98, 98, 98, 98, 98, 100, 98, 98, 99, 98, 98, 99, 98, 98, 98, 98, 97, 98, 98, 98, 98, 98, 98, 98, 99, 96, 97, 97, 98, 99, 98, 98, 98, 100, 99, 98, 99, 98, 98, 98, 98, 99, 97, 98, 98, 98, 97, 98, 98, 99, 98, 99, 96, 98, 98, 98, 98, 98, 98, 98, 98, 98, 98, 98, 98, 98, 99, 98, 96, 97, 68, 98, 88, 98, 98, 98, 98, 98, 99, 97, 98, 99, 98, 98, 98, 97, 95, 97, 92, 98, 98, 98, 98, 95, 99, 98, 98, 98, 98, 98, 98, 94, 98, 98, 97, 98, 94, 100, 100, 98, 98, 99, 99, 99, 98, 97, 98, 98, 98, 98, 98, 99, 98, 98, 99, 98, 98, 98, 98, 98, 98, 98, 98, 99, 98, 98, 99, 99, 96, 98, 99, 98, 98, 98, 98, 98, 98, 98, 98, 98, 98, 98, 98, 98, 98, 98, 98, 98, 98, 98, 98, 99, 98, 98, 98, 98, 99, 98, 98, 98, 98, 98, 98, 98, 98, 98, 98, 98, 98, 98, 98, 98, 98, 98, 98, 98, 98, 98, 98, 97, 98, 98, 98, 98, 98, 98, 98, 98, 98, 99, 98, 98, 98, 98, 98, 98, 98, 98, 98, 98, 99, 98, 99, 98, 98, 98, 98, 99, 97, 98, 97, 98, 98, 98, 98, 99, 98, 98, 98, 98, 98, 99, 98, 98, 98, 100, 98, 98, 99, 98, 98, 98, 98, 98, 98, 98, 98, 98, 99, 99, 95, 98, 98, 98, 98, 98, 98, 98, 98, 96, 98, 97, 98, 90, 98, 98, 98, 98, 98, 98, 98, 97, 98, 98, 98, 99, 98, 98, 98, 98, 98, 99, 97, 98, 98, 98, 98, 97, 99, 99, 98, 98, 98, 94, 97, 98, 98, 98, 98, 98, 99, 98, 98, 97, 98, 98, 98, 96, 98, 98, 97, 97, 96, 99, 98, 97, 97, 97, 95, 98, 98, 99, 98, 98, 98, 98, 98, 98, 96, 95, 99, 93, 98, 100, 97, 98, 97, 98, 91, 97, 96, 98, 98, 97, 98, 98, 98, 97, 98, 93, 96, 96, 97, 95, 98, 98, 97, 98, 96, 76, 98, 98, 94, 95, 96, 93, 97, 97, 95, 98, 90, 98, 97, 99, 98, 98, 98, 98, 98, 98, 98, 98, 98, 98, 98, 99, 98, 98, 98, 97, 98, 98, 98, 98, 98, 98, 98, 98, 98, 99, 98, 98, 98, 98, 99, 98, 98, 98, 98, 98, 98, 98, 98, 98, 98, 98, 98, 96, 99, 98, 98, 98, 98, 96, 98, 98, 98, 97, 98, 97, 100, 98, 98, 98, 98, 97, 98, 98, 98, 98, 99, 99, 98, 98, 99, 98, 98, 98, 98, 98, 98, 97, 99, 99, 98, 100, 97, 98, 98, 98, 98, 99, 98, 98, 98, 96, 98, 96, 97, 97, 100, 97, 98, 96, 93, 96, 98, 98, 95, 98, 98, 98, 98, 98, 98, 98, 98, 98, 98, 98, 98, 98, 98, 97, 98, 98, 98, 98, 98, 98, 98, 98, 98, 98, 98, 98, 98, 98, 98, 98, 98, 99, 98, 98, 98, 98, 98, 98, 98, 98, 98, 98, 98, 98, 98, 98, 98, 96, 98, 98, 98, 98, 98, 98, 99, 98, 98, 98, 98, 98, 99, 98, 100, 98, 98, 98, 98, 98, 98, 97, 98, 97, 98, 98, 98, 97, 98, 98, 97, 98, 98, 98, 98, 98, 98, 98, 98, 98, 98, 95, 98, 98, 98, 98, 98, 99, 98, 98, 98, 98, 98, 98, 99, 98, 95, 98, 98, 98, 96, 98, 98, 94, 98, 98, 98, 96, 98, 98, 98, 98, 98, 98, 97, 98, 98, 98, 100, 98, 99, 97, 98, 98, 99, 98, 94, 96, 97, 98, 98, 98, 98, 98, 98, 98, 98, 97, 95, 98, 98, 99, 98, 98, 98, 98, 97, 98, 94, 98, 98, 96, 98, 97, 97, 98, 99, 95, 98, 98, 98, 98, 98, 98, 98, 98, 98, 97, 98, 98, 98, 98, 98, 98, 98, 98, 98, 98, 98, 98, 98, 98, 98, 98, 98, 98, 98, 99, 98, 100, 98, 98, 98, 98, 98, 98, 98, 98, 98, 98, 98, 98, 98, 98, 98, 98, 98, 98, 98, 98, 98, 98, 98, 98, 98, 98, 98, 98, 98, 98, 98, 98, 98, 98, 98, 98, 98, 98, 98, 98, 98, 98, 98, 98, 98, 98, 98, 98, 98, 98, 98, 98, 98, 98, 98, 98, 98, 98, 98, 98, 98, 98, 98, 98, 98, 98, 98, 98, 98, 98, 98, 99, 98, 98, 98, 98, 98, 98, 98, 98, 98, 92, 98, 98, 98, 85, 98, 98, 98, 98, 99, 98, 98, 98, 99, 98, 98, 98, 98, 98, 98, 98, 98, 98, 98, 98, 98, 98, 98, 98, 98, 98, 98, 98, 98, 98, 98, 98, 98, 96, 97, 98, 98, 98, 98, 98, 98, 98, 99, 98, 98, 98, 98, 98, 99, 100, 99, 99, 98, 98, 100, 98, 98, 99, 98, 98, 98, 98, 98, 86, 98, 98, 98, 98, 98, 98, 98, 98, 98, 98, 98, 98, 98, 98, 98, 97, 96, 96, 98, 98, 98, 98, 98, 98, 98, 98, 98, 98, 98, 99, 98, 98, 92, 98, 98, 98, 98, 98, 98, 99, 98, 98, 98, 99, 99, 98, 98, 98, 98, 96, 98, 98, 96, 98, 98, 98, 98, 98, 99, 98, 95, 97, 98, 98, 98, 99, 98, 98, 97, 96, 80, 98, 97, 98, 98, 98, 98, 98, 97, 97, 98, 98, 98, 98, 99, 98, 98, 98, 94, 98, 98, 97, 98, 98, 99, 98, 99, 98, 98, 98, 98, 98, 98, 95, 98, 99, 98, 98, 98, 98, 98, 98, 97, 99, 98, 99, 98, 98, 94, 98, 98, 98, 98, 94, 97, 98, 98, 98, 98, 98, 99, 98, 97, 98, 98, 98, 98, 98, 98, 99, 98, 98, 98, 98, 98, 98, 98, 98, 98, 96, 98, 98, 98, 98, 98, 98, 98, 88, 92, 98, 98, 98, 98, 99, 98, 99, 98, 99, 90, 97, 98, 98, 94, 99, 98, 98, 98, 98, 98, 98, 98, 94, 96, 98, 98, 98, 98, 99, 97, 98, 98, 98, 98, 96, 98, 98, 98, 99, 98, 98, 98, 98, 97, 98, 100, 99, 98, 98, 98, 99, 98, 96, 98, 100, 99, 97, 99, 98, 97, 98, 93, 20, 99, 98, 98, 98, 97, 99, 98, 98, 98, 98, 95, 97, 99, 99, 98, 98, 98, 96, 74, 90, 93, 97, 98, 92, 95, 98, 98, 99, 98, 98, 98, 98, 94, 97, 97, 98, 98, 99, 96, 96, 98, 98, 97, 99, 96, 95, 90, 98, 98, 98, 99, 98, 95, 98, 98, 97, 98, 98, 98, 91, 97, 98, 97, 94, 98, 98, 98, 98, 98, 98, 98, 96, 97, 96, 98, 100, 98, 100, 98, 98, 98, 96, 98, 95, 99, 100, 98, 98, 98, 96, 98, 98, 96, 98, 99, 98, 99, 100, 98, 99, 98, 97, 98, 96, 98, 98, 96, 96, 98, 100, 95, 95, 97, 99, 98, 98], \"yaxis\": \"y\"}],\n",
              "                        {\"height\": 400, \"legend\": {\"tracegroupgap\": 0}, \"margin\": {\"b\": 20, \"l\": 20, \"r\": 20, \"t\": 20}, \"paper_bgcolor\": \"LightSteelBlue\", \"template\": {\"data\": {\"bar\": [{\"error_x\": {\"color\": \"#2a3f5f\"}, \"error_y\": {\"color\": \"#2a3f5f\"}, \"marker\": {\"line\": {\"color\": \"#E5ECF6\", \"width\": 0.5}}, \"type\": \"bar\"}], \"barpolar\": [{\"marker\": {\"line\": {\"color\": \"#E5ECF6\", \"width\": 0.5}}, \"type\": \"barpolar\"}], \"carpet\": [{\"aaxis\": {\"endlinecolor\": \"#2a3f5f\", \"gridcolor\": \"white\", \"linecolor\": \"white\", \"minorgridcolor\": \"white\", \"startlinecolor\": \"#2a3f5f\"}, \"baxis\": {\"endlinecolor\": \"#2a3f5f\", \"gridcolor\": \"white\", \"linecolor\": \"white\", \"minorgridcolor\": \"white\", \"startlinecolor\": \"#2a3f5f\"}, \"type\": \"carpet\"}], \"choropleth\": [{\"colorbar\": {\"outlinewidth\": 0, \"ticks\": \"\"}, \"type\": \"choropleth\"}], \"contour\": [{\"colorbar\": {\"outlinewidth\": 0, \"ticks\": \"\"}, \"colorscale\": [[0.0, \"#0d0887\"], [0.1111111111111111, \"#46039f\"], [0.2222222222222222, \"#7201a8\"], [0.3333333333333333, \"#9c179e\"], [0.4444444444444444, \"#bd3786\"], [0.5555555555555556, \"#d8576b\"], [0.6666666666666666, \"#ed7953\"], [0.7777777777777778, \"#fb9f3a\"], [0.8888888888888888, \"#fdca26\"], [1.0, \"#f0f921\"]], \"type\": \"contour\"}], \"contourcarpet\": [{\"colorbar\": {\"outlinewidth\": 0, \"ticks\": \"\"}, \"type\": \"contourcarpet\"}], \"heatmap\": [{\"colorbar\": {\"outlinewidth\": 0, \"ticks\": \"\"}, \"colorscale\": [[0.0, \"#0d0887\"], [0.1111111111111111, \"#46039f\"], [0.2222222222222222, \"#7201a8\"], [0.3333333333333333, \"#9c179e\"], [0.4444444444444444, \"#bd3786\"], [0.5555555555555556, \"#d8576b\"], [0.6666666666666666, \"#ed7953\"], [0.7777777777777778, \"#fb9f3a\"], [0.8888888888888888, \"#fdca26\"], [1.0, \"#f0f921\"]], \"type\": \"heatmap\"}], \"heatmapgl\": [{\"colorbar\": {\"outlinewidth\": 0, \"ticks\": \"\"}, \"colorscale\": [[0.0, \"#0d0887\"], [0.1111111111111111, \"#46039f\"], [0.2222222222222222, \"#7201a8\"], [0.3333333333333333, \"#9c179e\"], [0.4444444444444444, \"#bd3786\"], [0.5555555555555556, \"#d8576b\"], [0.6666666666666666, \"#ed7953\"], [0.7777777777777778, \"#fb9f3a\"], [0.8888888888888888, \"#fdca26\"], [1.0, \"#f0f921\"]], \"type\": \"heatmapgl\"}], \"histogram\": [{\"marker\": {\"colorbar\": {\"outlinewidth\": 0, \"ticks\": \"\"}}, \"type\": \"histogram\"}], \"histogram2d\": [{\"colorbar\": {\"outlinewidth\": 0, \"ticks\": \"\"}, \"colorscale\": [[0.0, \"#0d0887\"], [0.1111111111111111, \"#46039f\"], [0.2222222222222222, \"#7201a8\"], [0.3333333333333333, \"#9c179e\"], [0.4444444444444444, \"#bd3786\"], [0.5555555555555556, \"#d8576b\"], [0.6666666666666666, \"#ed7953\"], [0.7777777777777778, \"#fb9f3a\"], [0.8888888888888888, \"#fdca26\"], [1.0, \"#f0f921\"]], \"type\": \"histogram2d\"}], \"histogram2dcontour\": [{\"colorbar\": {\"outlinewidth\": 0, \"ticks\": \"\"}, \"colorscale\": [[0.0, \"#0d0887\"], [0.1111111111111111, \"#46039f\"], [0.2222222222222222, \"#7201a8\"], [0.3333333333333333, \"#9c179e\"], [0.4444444444444444, \"#bd3786\"], [0.5555555555555556, \"#d8576b\"], [0.6666666666666666, \"#ed7953\"], [0.7777777777777778, \"#fb9f3a\"], [0.8888888888888888, \"#fdca26\"], [1.0, \"#f0f921\"]], \"type\": \"histogram2dcontour\"}], \"mesh3d\": [{\"colorbar\": {\"outlinewidth\": 0, \"ticks\": \"\"}, \"type\": \"mesh3d\"}], \"parcoords\": [{\"line\": {\"colorbar\": {\"outlinewidth\": 0, \"ticks\": \"\"}}, \"type\": \"parcoords\"}], \"pie\": [{\"automargin\": true, \"type\": \"pie\"}], \"scatter\": [{\"marker\": {\"colorbar\": {\"outlinewidth\": 0, \"ticks\": \"\"}}, \"type\": \"scatter\"}], \"scatter3d\": [{\"line\": {\"colorbar\": {\"outlinewidth\": 0, \"ticks\": \"\"}}, \"marker\": {\"colorbar\": {\"outlinewidth\": 0, \"ticks\": \"\"}}, \"type\": \"scatter3d\"}], \"scattercarpet\": [{\"marker\": {\"colorbar\": {\"outlinewidth\": 0, \"ticks\": \"\"}}, \"type\": \"scattercarpet\"}], \"scattergeo\": [{\"marker\": {\"colorbar\": {\"outlinewidth\": 0, \"ticks\": \"\"}}, \"type\": \"scattergeo\"}], \"scattergl\": [{\"marker\": {\"colorbar\": {\"outlinewidth\": 0, \"ticks\": \"\"}}, \"type\": \"scattergl\"}], \"scattermapbox\": [{\"marker\": {\"colorbar\": {\"outlinewidth\": 0, \"ticks\": \"\"}}, \"type\": \"scattermapbox\"}], \"scatterpolar\": [{\"marker\": {\"colorbar\": {\"outlinewidth\": 0, \"ticks\": \"\"}}, \"type\": \"scatterpolar\"}], \"scatterpolargl\": [{\"marker\": {\"colorbar\": {\"outlinewidth\": 0, \"ticks\": \"\"}}, \"type\": \"scatterpolargl\"}], \"scatterternary\": [{\"marker\": {\"colorbar\": {\"outlinewidth\": 0, \"ticks\": \"\"}}, \"type\": \"scatterternary\"}], \"surface\": [{\"colorbar\": {\"outlinewidth\": 0, \"ticks\": \"\"}, \"colorscale\": [[0.0, \"#0d0887\"], [0.1111111111111111, \"#46039f\"], [0.2222222222222222, \"#7201a8\"], [0.3333333333333333, \"#9c179e\"], [0.4444444444444444, \"#bd3786\"], [0.5555555555555556, \"#d8576b\"], [0.6666666666666666, \"#ed7953\"], [0.7777777777777778, \"#fb9f3a\"], [0.8888888888888888, \"#fdca26\"], [1.0, \"#f0f921\"]], \"type\": \"surface\"}], \"table\": [{\"cells\": {\"fill\": {\"color\": \"#EBF0F8\"}, \"line\": {\"color\": \"white\"}}, \"header\": {\"fill\": {\"color\": \"#C8D4E3\"}, \"line\": {\"color\": \"white\"}}, \"type\": \"table\"}]}, \"layout\": {\"annotationdefaults\": {\"arrowcolor\": \"#2a3f5f\", \"arrowhead\": 0, \"arrowwidth\": 1}, \"coloraxis\": {\"colorbar\": {\"outlinewidth\": 0, \"ticks\": \"\"}}, \"colorscale\": {\"diverging\": [[0, \"#8e0152\"], [0.1, \"#c51b7d\"], [0.2, \"#de77ae\"], [0.3, \"#f1b6da\"], [0.4, \"#fde0ef\"], [0.5, \"#f7f7f7\"], [0.6, \"#e6f5d0\"], [0.7, \"#b8e186\"], [0.8, \"#7fbc41\"], [0.9, \"#4d9221\"], [1, \"#276419\"]], \"sequential\": [[0.0, \"#0d0887\"], [0.1111111111111111, \"#46039f\"], [0.2222222222222222, \"#7201a8\"], [0.3333333333333333, \"#9c179e\"], [0.4444444444444444, \"#bd3786\"], [0.5555555555555556, \"#d8576b\"], [0.6666666666666666, \"#ed7953\"], [0.7777777777777778, \"#fb9f3a\"], [0.8888888888888888, \"#fdca26\"], [1.0, \"#f0f921\"]], \"sequentialminus\": [[0.0, \"#0d0887\"], [0.1111111111111111, \"#46039f\"], [0.2222222222222222, \"#7201a8\"], [0.3333333333333333, \"#9c179e\"], [0.4444444444444444, \"#bd3786\"], [0.5555555555555556, \"#d8576b\"], [0.6666666666666666, \"#ed7953\"], [0.7777777777777778, \"#fb9f3a\"], [0.8888888888888888, \"#fdca26\"], [1.0, \"#f0f921\"]]}, \"colorway\": [\"#636efa\", \"#EF553B\", \"#00cc96\", \"#ab63fa\", \"#FFA15A\", \"#19d3f3\", \"#FF6692\", \"#B6E880\", \"#FF97FF\", \"#FECB52\"], \"font\": {\"color\": \"#2a3f5f\"}, \"geo\": {\"bgcolor\": \"white\", \"lakecolor\": \"white\", \"landcolor\": \"#E5ECF6\", \"showlakes\": true, \"showland\": true, \"subunitcolor\": \"white\"}, \"hoverlabel\": {\"align\": \"left\"}, \"hovermode\": \"closest\", \"mapbox\": {\"style\": \"light\"}, \"paper_bgcolor\": \"white\", \"plot_bgcolor\": \"#E5ECF6\", \"polar\": {\"angularaxis\": {\"gridcolor\": \"white\", \"linecolor\": \"white\", \"ticks\": \"\"}, \"bgcolor\": \"#E5ECF6\", \"radialaxis\": {\"gridcolor\": \"white\", \"linecolor\": \"white\", \"ticks\": \"\"}}, \"scene\": {\"xaxis\": {\"backgroundcolor\": \"#E5ECF6\", \"gridcolor\": \"white\", \"gridwidth\": 2, \"linecolor\": \"white\", \"showbackground\": true, \"ticks\": \"\", \"zerolinecolor\": \"white\"}, \"yaxis\": {\"backgroundcolor\": \"#E5ECF6\", \"gridcolor\": \"white\", \"gridwidth\": 2, \"linecolor\": \"white\", \"showbackground\": true, \"ticks\": \"\", \"zerolinecolor\": \"white\"}, \"zaxis\": {\"backgroundcolor\": \"#E5ECF6\", \"gridcolor\": \"white\", \"gridwidth\": 2, \"linecolor\": \"white\", \"showbackground\": true, \"ticks\": \"\", \"zerolinecolor\": \"white\"}}, \"shapedefaults\": {\"line\": {\"color\": \"#2a3f5f\"}}, \"ternary\": {\"aaxis\": {\"gridcolor\": \"white\", \"linecolor\": \"white\", \"ticks\": \"\"}, \"baxis\": {\"gridcolor\": \"white\", \"linecolor\": \"white\", \"ticks\": \"\"}, \"bgcolor\": \"#E5ECF6\", \"caxis\": {\"gridcolor\": \"white\", \"linecolor\": \"white\", \"ticks\": \"\"}}, \"title\": {\"x\": 0.05}, \"xaxis\": {\"automargin\": true, \"gridcolor\": \"white\", \"linecolor\": \"white\", \"ticks\": \"\", \"title\": {\"standoff\": 15}, \"zerolinecolor\": \"white\", \"zerolinewidth\": 2}, \"yaxis\": {\"automargin\": true, \"gridcolor\": \"white\", \"linecolor\": \"white\", \"ticks\": \"\", \"title\": {\"standoff\": 15}, \"zerolinecolor\": \"white\", \"zerolinewidth\": 2}}}, \"width\": 600, \"xaxis\": {\"anchor\": \"y\", \"domain\": [0.0, 1.0], \"title\": {\"text\": \"Respiration_Rate\"}}, \"yaxis\": {\"anchor\": \"x\", \"domain\": [0.0, 1.0], \"title\": {\"text\": \"Saturation\"}}},\n",
              "                        {\"responsive\": true}\n",
              "                    ).then(function(){\n",
              "                            \n",
              "var gd = document.getElementById('d532d126-8aa9-442d-af49-9565b07b732c');\n",
              "var x = new MutationObserver(function (mutations, observer) {{\n",
              "        var display = window.getComputedStyle(gd).display;\n",
              "        if (!display || display === 'none') {{\n",
              "            console.log([gd, 'removed!']);\n",
              "            Plotly.purge(gd);\n",
              "            observer.disconnect();\n",
              "        }}\n",
              "}});\n",
              "\n",
              "// Listen for the removal of the full notebook cells\n",
              "var notebookContainer = gd.closest('#notebook-container');\n",
              "if (notebookContainer) {{\n",
              "    x.observe(notebookContainer, {childList: true});\n",
              "}}\n",
              "\n",
              "// Listen for the clearing of the current output cell\n",
              "var outputEl = gd.closest('.output');\n",
              "if (outputEl) {{\n",
              "    x.observe(outputEl, {childList: true});\n",
              "}}\n",
              "\n",
              "                        })\n",
              "                };\n",
              "                \n",
              "            </script>\n",
              "        </div>\n",
              "</body>\n",
              "</html>"
            ]
          },
          "metadata": {
            "tags": []
          }
        }
      ]
    },
    {
      "cell_type": "markdown",
      "metadata": {
        "id": "knjReVA6joDf"
      },
      "source": [
        "#### 4.6 Average Number of Patients in hour"
      ]
    },
    {
      "cell_type": "code",
      "metadata": {
        "colab": {
          "base_uri": "https://localhost:8080/"
        },
        "id": "GfOYPsKvnrt3",
        "outputId": "a2320952-a588-499a-ba0e-3d23b0140de5"
      },
      "source": [
        "pt = data[[\"Patients_number/hour\"]].mean()\r\n",
        "pt"
      ],
      "execution_count": 53,
      "outputs": [
        {
          "output_type": "execute_result",
          "data": {
            "text/plain": [
              "Patients_number/hour    7.492219\n",
              "dtype: float64"
            ]
          },
          "metadata": {
            "tags": []
          },
          "execution_count": 53
        }
      ]
    },
    {
      "cell_type": "code",
      "metadata": {
        "colab": {
          "base_uri": "https://localhost:8080/"
        },
        "id": "nROkA4Bmn2zh",
        "outputId": "1e938f92-4d95-4ae6-df96-f2dfe574087f"
      },
      "source": [
        "data[\"Patients_number/hour\"].describe()"
      ],
      "execution_count": 54,
      "outputs": [
        {
          "output_type": "execute_result",
          "data": {
            "text/plain": [
              "count    1221.000000\n",
              "mean        7.492219\n",
              "std         3.145277\n",
              "min         1.000000\n",
              "25%         5.000000\n",
              "50%         7.000000\n",
              "75%        10.000000\n",
              "max        17.000000\n",
              "Name: Patients_number/hour, dtype: float64"
            ]
          },
          "metadata": {
            "tags": []
          },
          "execution_count": 54
        }
      ]
    },
    {
      "cell_type": "markdown",
      "metadata": {
        "id": "NFU7-BGPn8Xd"
      },
      "source": [
        "There is no significant difference in the number of patient visits per hour for triage accuracy (mean: 7.49, standard deviation: 3.145)."
      ]
    },
    {
      "cell_type": "code",
      "metadata": {
        "colab": {
          "base_uri": "https://localhost:8080/",
          "height": 353
        },
        "id": "NBFUtgY2l7Ig",
        "outputId": "ca14cdd4-aa99-4cd4-b516-d72a1a12dbe6"
      },
      "source": [
        "sns.boxplot(x = data[\"Patients_number/hour\"], orient = \"v\");"
      ],
      "execution_count": 55,
      "outputs": [
        {
          "output_type": "stream",
          "text": [
            "/usr/local/lib/python3.6/dist-packages/seaborn/_core.py:1319: UserWarning:\n",
            "\n",
            "Vertical orientation ignored with only `x` specified.\n",
            "\n"
          ],
          "name": "stderr"
        },
        {
          "output_type": "display_data",
          "data": {
            "image/png": "[encoded data removed]",
            "text/plain": [
              "<Figure size 432x288 with 1 Axes>"
            ]
          },
          "metadata": {
            "tags": [],
            "needs_background": "light"
          }
        }
      ]
    },
    {
      "cell_type": "markdown",
      "metadata": {
        "id": "oHTCdzCFAenq"
      },
      "source": [
        "#### 4.7 Grouping of Patients by Nurses and Experts After Triage\r\n"
      ]
    },
    {
      "cell_type": "markdown",
      "metadata": {
        "id": "IDfakkAYC1f0"
      },
      "source": [
        "First graph shıws that the triage of patients by nurses in emergency department. The second graph shows that the triage scale by experts not in emergency department. "
      ]
    },
    {
      "cell_type": "code",
      "metadata": {
        "id": "Kgs-UsARRXUo"
      },
      "source": [
        "n =data.groupby([\"KTAS_Nurse\"], as_index = False).count()\r\n",
        "n = n[[\"KTAS_Nurse\", \"Age\"]]\r\n",
        "n = n.rename(columns = {\"Age\" : \"Count\"})\r\n",
        "\r\n",
        "e =data.groupby([\"KTAS_Expert\"], as_index = False).count()\r\n",
        "e = e[[\"KTAS_Expert\", \"Age\"]]\r\n",
        "e = e.rename(columns = {\"Age\" : \"Count\"})"
      ],
      "execution_count": 56,
      "outputs": []
    },
    {
      "cell_type": "markdown",
      "metadata": {
        "id": "myVbbAEBj_Q8"
      },
      "source": [
        "The results of the comparison of the triage accuracy between the emergency nurses and the experts were as follows. "
      ]
    },
    {
      "cell_type": "code",
      "metadata": {
        "colab": {
          "base_uri": "https://localhost:8080/",
          "height": 441
        },
        "id": "rEqDhklyAfV0",
        "outputId": "8c9b269a-a68a-4c64-9767-0d6c171cb6e0"
      },
      "source": [
        "plt.figure(figsize=(12,6))\r\n",
        "plt.subplot(1,2,1)\r\n",
        "plt.bar(n.KTAS_Nurse, n.Count , data=n, color=\"r\",alpha=0.7, width=0.4)\r\n",
        "plt.xticks(rotation= 0)\r\n",
        "plt.xlabel('Triage scale')\r\n",
        "plt.ylabel('Number of Patient')\r\n",
        "plt.title('Grouping Patients by Nurses in ED')\r\n",
        "plt.tight_layout() \r\n",
        "\r\n",
        " \r\n",
        "plt.subplot(1,2,2)\r\n",
        "plt.bar(e.KTAS_Expert, e.Count, data=n, color=\"g\",alpha=0.7, width=0.4)\r\n",
        "plt.xticks(rotation= 0)\r\n",
        "plt.xlabel('Triage scale')\r\n",
        "plt.ylabel('Number of Patient')\r\n",
        "plt.title('Grouping Patients by Experts')\r\n",
        "plt.tight_layout() \r\n",
        "plt.show();"
      ],
      "execution_count": 57,
      "outputs": [
        {
          "output_type": "display_data",
          "data": {
            "image/png": "[encoded data removed]",
            "text/plain": [
              "<Figure size 864x432 with 2 Axes>"
            ]
          },
          "metadata": {
            "tags": [],
            "needs_background": "light"
          }
        }
      ]
    },
    {
      "cell_type": "markdown",
      "metadata": {
        "id": "RZMMwaaKl6X_"
      },
      "source": [
        "Most of patients were triaged in levet 3 (Urgent), level 4 (Less Urgent).\r\n",
        "\r\n",
        "The emergency nurses and experts agreed on a triage score in 1049 (85.9%) cases.\r\n",
        " "
      ]
    },
    {
      "cell_type": "code",
      "metadata": {
        "colab": {
          "base_uri": "https://localhost:8080/",
          "height": 138
        },
        "id": "_iczEObmlnfQ",
        "outputId": "85783489-26a3-44d0-aa6a-e0540922f1b3"
      },
      "source": [
        "tr =data.groupby([\"Mistriage\"], as_index = False).count()\r\n",
        "tr = tr[[\"Mistriage\", \"Age\"]]\r\n",
        "tr = tr.rename(columns = {\"Age\" : \"Count\"})\r\n",
        "tr[\"percentage\"] = tr[\"Count\"] / tr[\"Count\"].sum()\r\n",
        "tr"
      ],
      "execution_count": 58,
      "outputs": [
        {
          "output_type": "execute_result",
          "data": {
            "text/html": [
              "<div>\n",
              "<style scoped>\n",
              "    .dataframe tbody tr th:only-of-type {\n",
              "        vertical-align: middle;\n",
              "    }\n",
              "\n",
              "    .dataframe tbody tr th {\n",
              "        vertical-align: top;\n",
              "    }\n",
              "\n",
              "    .dataframe thead th {\n",
              "        text-align: right;\n",
              "    }\n",
              "</style>\n",
              "<table border=\"1\" class=\"dataframe\">\n",
              "  <thead>\n",
              "    <tr style=\"text-align: right;\">\n",
              "      <th></th>\n",
              "      <th>Mistriage</th>\n",
              "      <th>Count</th>\n",
              "      <th>percentage</th>\n",
              "    </tr>\n",
              "  </thead>\n",
              "  <tbody>\n",
              "    <tr>\n",
              "      <th>0</th>\n",
              "      <td>0</td>\n",
              "      <td>1049</td>\n",
              "      <td>0.859132</td>\n",
              "    </tr>\n",
              "    <tr>\n",
              "      <th>1</th>\n",
              "      <td>1</td>\n",
              "      <td>52</td>\n",
              "      <td>0.042588</td>\n",
              "    </tr>\n",
              "    <tr>\n",
              "      <th>2</th>\n",
              "      <td>2</td>\n",
              "      <td>120</td>\n",
              "      <td>0.098280</td>\n",
              "    </tr>\n",
              "  </tbody>\n",
              "</table>\n",
              "</div>"
            ],
            "text/plain": [
              "   Mistriage  Count  percentage\n",
              "0          0   1049    0.859132\n",
              "1          1     52    0.042588\n",
              "2          2    120    0.098280"
            ]
          },
          "metadata": {
            "tags": []
          },
          "execution_count": 58
        }
      ]
    },
    {
      "cell_type": "markdown",
      "metadata": {
        "id": "TFKeQkn1mhOg"
      },
      "source": [
        "#### 4.8 Patient Disposition Types After Treatment in ED \r\n"
      ]
    },
    {
      "cell_type": "code",
      "metadata": {
        "colab": {
          "base_uri": "https://localhost:8080/",
          "height": 258
        },
        "id": "XcPgDi1cnKw2",
        "outputId": "6532989d-1e5f-4715-c5b6-6e54fca23fe2"
      },
      "source": [
        "d =data.groupby([\"Patient_Disposition\"], as_index = False).count()\r\n",
        "d = d[[\"Patient_Disposition\", \"Age\"]]\r\n",
        "d = d.rename(columns = {\"Age\" : \"Count\"})\r\n",
        "d[\"percentage\"] = d[\"Count\"] / d[\"Count\"].sum()\r\n",
        "disp = [\"Discharge\", \"Ward admission\", \"ICU admission\", \"AMA discharg\", \"Transfer\", \"Death\", \"OP fom ED\"]\r\n",
        "d.insert(3, \"Type_of_Disposition\" , disp, True)\r\n",
        "d.sort_values(\"Count\", ascending=False)\r\n"
      ],
      "execution_count": 59,
      "outputs": [
        {
          "output_type": "execute_result",
          "data": {
            "text/html": [
              "<div>\n",
              "<style scoped>\n",
              "    .dataframe tbody tr th:only-of-type {\n",
              "        vertical-align: middle;\n",
              "    }\n",
              "\n",
              "    .dataframe tbody tr th {\n",
              "        vertical-align: top;\n",
              "    }\n",
              "\n",
              "    .dataframe thead th {\n",
              "        text-align: right;\n",
              "    }\n",
              "</style>\n",
              "<table border=\"1\" class=\"dataframe\">\n",
              "  <thead>\n",
              "    <tr style=\"text-align: right;\">\n",
              "      <th></th>\n",
              "      <th>Patient_Disposition</th>\n",
              "      <th>Count</th>\n",
              "      <th>percentage</th>\n",
              "      <th>Type_of_Disposition</th>\n",
              "    </tr>\n",
              "  </thead>\n",
              "  <tbody>\n",
              "    <tr>\n",
              "      <th>0</th>\n",
              "      <td>1</td>\n",
              "      <td>778</td>\n",
              "      <td>0.637183</td>\n",
              "      <td>Discharge</td>\n",
              "    </tr>\n",
              "    <tr>\n",
              "      <th>1</th>\n",
              "      <td>2</td>\n",
              "      <td>361</td>\n",
              "      <td>0.295659</td>\n",
              "      <td>Ward admission</td>\n",
              "    </tr>\n",
              "    <tr>\n",
              "      <th>4</th>\n",
              "      <td>5</td>\n",
              "      <td>29</td>\n",
              "      <td>0.023751</td>\n",
              "      <td>Transfer</td>\n",
              "    </tr>\n",
              "    <tr>\n",
              "      <th>3</th>\n",
              "      <td>4</td>\n",
              "      <td>25</td>\n",
              "      <td>0.020475</td>\n",
              "      <td>AMA discharg</td>\n",
              "    </tr>\n",
              "    <tr>\n",
              "      <th>6</th>\n",
              "      <td>7</td>\n",
              "      <td>21</td>\n",
              "      <td>0.017199</td>\n",
              "      <td>OP fom ED</td>\n",
              "    </tr>\n",
              "    <tr>\n",
              "      <th>2</th>\n",
              "      <td>3</td>\n",
              "      <td>4</td>\n",
              "      <td>0.003276</td>\n",
              "      <td>ICU admission</td>\n",
              "    </tr>\n",
              "    <tr>\n",
              "      <th>5</th>\n",
              "      <td>6</td>\n",
              "      <td>3</td>\n",
              "      <td>0.002457</td>\n",
              "      <td>Death</td>\n",
              "    </tr>\n",
              "  </tbody>\n",
              "</table>\n",
              "</div>"
            ],
            "text/plain": [
              "   Patient_Disposition  Count  percentage Type_of_Disposition\n",
              "0                    1    778    0.637183           Discharge\n",
              "1                    2    361    0.295659      Ward admission\n",
              "4                    5     29    0.023751            Transfer\n",
              "3                    4     25    0.020475        AMA discharg\n",
              "6                    7     21    0.017199           OP fom ED\n",
              "2                    3      4    0.003276       ICU admission\n",
              "5                    6      3    0.002457               Death"
            ]
          },
          "metadata": {
            "tags": []
          },
          "execution_count": 59
        }
      ]
    },
    {
      "cell_type": "markdown",
      "metadata": {
        "id": "DLzG-T8Eo3Lp"
      },
      "source": [
        "After treatment in the emergency department, 728 (63.7%) patients were discharged and 361 (29.6%) patients were admitted to the wards."
      ]
    },
    {
      "cell_type": "code",
      "metadata": {
        "colab": {
          "base_uri": "https://localhost:8080/",
          "height": 515
        },
        "id": "pOlp1KOcAe6F",
        "outputId": "97821304-1d93-42ab-e4d1-c85dd505f2dd"
      },
      "source": [
        "plt.figure(figsize=(10,5))\r\n",
        "sns.barplot(d.Type_of_Disposition, d.percentage, palette='RdPu' ,alpha=0.8)\r\n",
        "plt.title(\"Patient Disposition Types\")\r\n",
        "plt.ylabel(\"Percentage\", fontsize=12)\r\n",
        "plt.xlabel(\"Disposition\", fontsize=12)\r\n",
        "plt.xticks(rotation=90, horizontalalignment=\"center\")\r\n",
        "plt.show();"
      ],
      "execution_count": 60,
      "outputs": [
        {
          "output_type": "stream",
          "text": [
            "/usr/local/lib/python3.6/dist-packages/seaborn/_decorators.py:43: FutureWarning:\n",
            "\n",
            "Pass the following variables as keyword args: x, y. From version 0.12, the only valid positional argument will be `data`, and passing other arguments without an explicit keyword will result in an error or misinterpretation.\n",
            "\n"
          ],
          "name": "stderr"
        },
        {
          "output_type": "display_data",
          "data": {
            "image/png": "[encoded data removed]",
            "text/plain": [
              "<Figure size 720x360 with 1 Axes>"
            ]
          },
          "metadata": {
            "tags": [],
            "needs_background": "light"
          }
        }
      ]
    },
    {
      "cell_type": "markdown",
      "metadata": {
        "id": "16cNuD_aDHZd"
      },
      "source": [
        " ## 5. Data analysis with statistics"
      ]
    },
    {
      "cell_type": "markdown",
      "metadata": {
        "id": "b2rXX3Gk87DE"
      },
      "source": [
        "#### 5.1 Descriptive Statistics"
      ]
    },
    {
      "cell_type": "markdown",
      "metadata": {
        "id": "Bp04wLo025TQ"
      },
      "source": [
        "We can select only numeric variables from dataset and examine the descriptive statistic values like mean, median, quartile etc."
      ]
    },
    {
      "cell_type": "code",
      "metadata": {
        "colab": {
          "base_uri": "https://localhost:8080/",
          "height": 198
        },
        "id": "vjgEJbOc2Q2w",
        "outputId": "58ddb2c5-dafd-459d-b934-5b24178c2b0a"
      },
      "source": [
        "df = data[[\"Age\",\"Patients_number/hour\", \"Systolid_BP\", \"Diastolic_BP\", \"Heart_Rate\", \"Respiration_Rate\", \"Body_Temperature\",\"Saturation\" , \"Total_Stay_duration/min\", \"KTAS_duration/min\"]]\r\n",
        "df.head()"
      ],
      "execution_count": 61,
      "outputs": [
        {
          "output_type": "execute_result",
          "data": {
            "text/html": [
              "<div>\n",
              "<style scoped>\n",
              "    .dataframe tbody tr th:only-of-type {\n",
              "        vertical-align: middle;\n",
              "    }\n",
              "\n",
              "    .dataframe tbody tr th {\n",
              "        vertical-align: top;\n",
              "    }\n",
              "\n",
              "    .dataframe thead th {\n",
              "        text-align: right;\n",
              "    }\n",
              "</style>\n",
              "<table border=\"1\" class=\"dataframe\">\n",
              "  <thead>\n",
              "    <tr style=\"text-align: right;\">\n",
              "      <th></th>\n",
              "      <th>Age</th>\n",
              "      <th>Patients_number/hour</th>\n",
              "      <th>Systolid_BP</th>\n",
              "      <th>Diastolic_BP</th>\n",
              "      <th>Heart_Rate</th>\n",
              "      <th>Respiration_Rate</th>\n",
              "      <th>Body_Temperature</th>\n",
              "      <th>Saturation</th>\n",
              "      <th>Total_Stay_duration/min</th>\n",
              "      <th>KTAS_duration/min</th>\n",
              "    </tr>\n",
              "  </thead>\n",
              "  <tbody>\n",
              "    <tr>\n",
              "      <th>0</th>\n",
              "      <td>71</td>\n",
              "      <td>3</td>\n",
              "      <td>160.0</td>\n",
              "      <td>100.0</td>\n",
              "      <td>84</td>\n",
              "      <td>18</td>\n",
              "      <td>36.6</td>\n",
              "      <td>100</td>\n",
              "      <td>86.0</td>\n",
              "      <td>5.000000</td>\n",
              "    </tr>\n",
              "    <tr>\n",
              "      <th>1</th>\n",
              "      <td>56</td>\n",
              "      <td>12</td>\n",
              "      <td>137.0</td>\n",
              "      <td>75.0</td>\n",
              "      <td>60</td>\n",
              "      <td>20</td>\n",
              "      <td>36.5</td>\n",
              "      <td>98</td>\n",
              "      <td>64.0</td>\n",
              "      <td>3.950000</td>\n",
              "    </tr>\n",
              "    <tr>\n",
              "      <th>2</th>\n",
              "      <td>67</td>\n",
              "      <td>8</td>\n",
              "      <td>130.0</td>\n",
              "      <td>80.0</td>\n",
              "      <td>102</td>\n",
              "      <td>20</td>\n",
              "      <td>36.6</td>\n",
              "      <td>98</td>\n",
              "      <td>862.0</td>\n",
              "      <td>1.000000</td>\n",
              "    </tr>\n",
              "    <tr>\n",
              "      <th>3</th>\n",
              "      <td>71</td>\n",
              "      <td>8</td>\n",
              "      <td>139.0</td>\n",
              "      <td>94.0</td>\n",
              "      <td>88</td>\n",
              "      <td>20</td>\n",
              "      <td>36.5</td>\n",
              "      <td>98</td>\n",
              "      <td>108.0</td>\n",
              "      <td>9.833333</td>\n",
              "    </tr>\n",
              "    <tr>\n",
              "      <th>4</th>\n",
              "      <td>58</td>\n",
              "      <td>4</td>\n",
              "      <td>91.0</td>\n",
              "      <td>67.0</td>\n",
              "      <td>93</td>\n",
              "      <td>18</td>\n",
              "      <td>36.5</td>\n",
              "      <td>98</td>\n",
              "      <td>109.0</td>\n",
              "      <td>6.600000</td>\n",
              "    </tr>\n",
              "  </tbody>\n",
              "</table>\n",
              "</div>"
            ],
            "text/plain": [
              "   Age  Patients_number/hour  ...  Total_Stay_duration/min  KTAS_duration/min\n",
              "0   71                     3  ...                     86.0           5.000000\n",
              "1   56                    12  ...                     64.0           3.950000\n",
              "2   67                     8  ...                    862.0           1.000000\n",
              "3   71                     8  ...                    108.0           9.833333\n",
              "4   58                     4  ...                    109.0           6.600000\n",
              "\n",
              "[5 rows x 10 columns]"
            ]
          },
          "metadata": {
            "tags": []
          },
          "execution_count": 61
        }
      ]
    },
    {
      "cell_type": "code",
      "metadata": {
        "colab": {
          "base_uri": "https://localhost:8080/",
          "height": 348
        },
        "id": "1fLh301E2Fd1",
        "outputId": "1fad6e65-cd82-42ca-cf70-729310a74438"
      },
      "source": [
        "df.describe().T"
      ],
      "execution_count": 62,
      "outputs": [
        {
          "output_type": "execute_result",
          "data": {
            "text/html": [
              "<div>\n",
              "<style scoped>\n",
              "    .dataframe tbody tr th:only-of-type {\n",
              "        vertical-align: middle;\n",
              "    }\n",
              "\n",
              "    .dataframe tbody tr th {\n",
              "        vertical-align: top;\n",
              "    }\n",
              "\n",
              "    .dataframe thead th {\n",
              "        text-align: right;\n",
              "    }\n",
              "</style>\n",
              "<table border=\"1\" class=\"dataframe\">\n",
              "  <thead>\n",
              "    <tr style=\"text-align: right;\">\n",
              "      <th></th>\n",
              "      <th>count</th>\n",
              "      <th>mean</th>\n",
              "      <th>std</th>\n",
              "      <th>min</th>\n",
              "      <th>25%</th>\n",
              "      <th>50%</th>\n",
              "      <th>75%</th>\n",
              "      <th>max</th>\n",
              "    </tr>\n",
              "  </thead>\n",
              "  <tbody>\n",
              "    <tr>\n",
              "      <th>Age</th>\n",
              "      <td>1221.0</td>\n",
              "      <td>53.936937</td>\n",
              "      <td>19.786528</td>\n",
              "      <td>15.000000</td>\n",
              "      <td>36.0</td>\n",
              "      <td>56.0</td>\n",
              "      <td>71.0</td>\n",
              "      <td>95.00000</td>\n",
              "    </tr>\n",
              "    <tr>\n",
              "      <th>Patients_number/hour</th>\n",
              "      <td>1221.0</td>\n",
              "      <td>7.492219</td>\n",
              "      <td>3.145277</td>\n",
              "      <td>1.000000</td>\n",
              "      <td>5.0</td>\n",
              "      <td>7.0</td>\n",
              "      <td>10.0</td>\n",
              "      <td>17.00000</td>\n",
              "    </tr>\n",
              "    <tr>\n",
              "      <th>Systolid_BP</th>\n",
              "      <td>1221.0</td>\n",
              "      <td>134.043407</td>\n",
              "      <td>26.902872</td>\n",
              "      <td>65.000000</td>\n",
              "      <td>114.0</td>\n",
              "      <td>130.0</td>\n",
              "      <td>150.0</td>\n",
              "      <td>275.00000</td>\n",
              "    </tr>\n",
              "    <tr>\n",
              "      <th>Diastolic_BP</th>\n",
              "      <td>1221.0</td>\n",
              "      <td>79.889435</td>\n",
              "      <td>15.057923</td>\n",
              "      <td>31.000000</td>\n",
              "      <td>70.0</td>\n",
              "      <td>80.0</td>\n",
              "      <td>90.0</td>\n",
              "      <td>160.00000</td>\n",
              "    </tr>\n",
              "    <tr>\n",
              "      <th>Heart_Rate</th>\n",
              "      <td>1221.0</td>\n",
              "      <td>83.957412</td>\n",
              "      <td>16.516157</td>\n",
              "      <td>32.000000</td>\n",
              "      <td>72.0</td>\n",
              "      <td>81.0</td>\n",
              "      <td>96.0</td>\n",
              "      <td>148.00000</td>\n",
              "    </tr>\n",
              "    <tr>\n",
              "      <th>Respiration_Rate</th>\n",
              "      <td>1221.0</td>\n",
              "      <td>19.479115</td>\n",
              "      <td>1.945722</td>\n",
              "      <td>14.000000</td>\n",
              "      <td>18.0</td>\n",
              "      <td>20.0</td>\n",
              "      <td>20.0</td>\n",
              "      <td>30.00000</td>\n",
              "    </tr>\n",
              "    <tr>\n",
              "      <th>Body_Temperature</th>\n",
              "      <td>1221.0</td>\n",
              "      <td>36.579034</td>\n",
              "      <td>0.544001</td>\n",
              "      <td>35.000000</td>\n",
              "      <td>36.2</td>\n",
              "      <td>36.5</td>\n",
              "      <td>36.8</td>\n",
              "      <td>41.00000</td>\n",
              "    </tr>\n",
              "    <tr>\n",
              "      <th>Saturation</th>\n",
              "      <td>1221.0</td>\n",
              "      <td>97.598690</td>\n",
              "      <td>2.912010</td>\n",
              "      <td>20.000000</td>\n",
              "      <td>98.0</td>\n",
              "      <td>98.0</td>\n",
              "      <td>98.0</td>\n",
              "      <td>100.00000</td>\n",
              "    </tr>\n",
              "    <tr>\n",
              "      <th>Total_Stay_duration/min</th>\n",
              "      <td>1221.0</td>\n",
              "      <td>11395.886179</td>\n",
              "      <td>81922.081182</td>\n",
              "      <td>0.026713</td>\n",
              "      <td>133.0</td>\n",
              "      <td>274.0</td>\n",
              "      <td>620.0</td>\n",
              "      <td>709510.00000</td>\n",
              "    </tr>\n",
              "    <tr>\n",
              "      <th>KTAS_duration/min</th>\n",
              "      <td>1221.0</td>\n",
              "      <td>5.472563</td>\n",
              "      <td>3.453053</td>\n",
              "      <td>1.000000</td>\n",
              "      <td>3.0</td>\n",
              "      <td>4.2</td>\n",
              "      <td>7.0</td>\n",
              "      <td>17.36667</td>\n",
              "    </tr>\n",
              "  </tbody>\n",
              "</table>\n",
              "</div>"
            ],
            "text/plain": [
              "                          count          mean  ...    75%           max\n",
              "Age                      1221.0     53.936937  ...   71.0      95.00000\n",
              "Patients_number/hour     1221.0      7.492219  ...   10.0      17.00000\n",
              "Systolid_BP              1221.0    134.043407  ...  150.0     275.00000\n",
              "Diastolic_BP             1221.0     79.889435  ...   90.0     160.00000\n",
              "Heart_Rate               1221.0     83.957412  ...   96.0     148.00000\n",
              "Respiration_Rate         1221.0     19.479115  ...   20.0      30.00000\n",
              "Body_Temperature         1221.0     36.579034  ...   36.8      41.00000\n",
              "Saturation               1221.0     97.598690  ...   98.0     100.00000\n",
              "Total_Stay_duration/min  1221.0  11395.886179  ...  620.0  709510.00000\n",
              "KTAS_duration/min        1221.0      5.472563  ...    7.0      17.36667\n",
              "\n",
              "[10 rows x 8 columns]"
            ]
          },
          "metadata": {
            "tags": []
          },
          "execution_count": 62
        }
      ]
    },
    {
      "cell_type": "markdown",
      "metadata": {
        "id": "U2gyCudt9B8w"
      },
      "source": [
        "#### 5.2 Correlation Matrix\r\n"
      ]
    },
    {
      "cell_type": "markdown",
      "metadata": {
        "id": "MAv80HD79HK0"
      },
      "source": [
        "We will construct this correlation matrix by the end of this analysis\r\n",
        "\r\n",
        "Each row and column represents a variable, and each value in this matrix is the **correlation coefficient** between the variables represented by the corresponding row and column.\r\n",
        "\r\n",
        "The Correlation matrix is an important data analysis metric that is computed to summarize data to understand the relationship between various variables and make decisions accordingly.\r\n",
        "\r\n",
        "Each cell in the correlation matrix is a ‘correlation coefficient‘ between the two variables corresponding to the row and column of the cell."
      ]
    },
    {
      "cell_type": "code",
      "metadata": {
        "colab": {
          "base_uri": "https://localhost:8080/",
          "height": 518
        },
        "id": "nGR8eS8_5cAB",
        "outputId": "4f482eff-ccca-4e97-bda6-a065fbc33804"
      },
      "source": [
        "cor = df.corr()\r\n",
        "pos=0\r\n",
        "plt.figure(figsize=(10,6))\r\n",
        "sns.heatmap(cor, xticklabels = cor.columns, yticklabels=cor.columns, annot=True, cmap='magma')\r\n",
        "plt.title(\"Correlation matrix of Triage Data\")"
      ],
      "execution_count": 63,
      "outputs": [
        {
          "output_type": "execute_result",
          "data": {
            "text/plain": [
              "Text(0.5, 1.0, 'Correlation matrix of Triage Data')"
            ]
          },
          "metadata": {
            "tags": []
          },
          "execution_count": 63
        },
        {
          "output_type": "display_data",
          "data": {
            "image/png": "[encoded data removed]",
            "text/plain": [
              "<Figure size 720x432 with 2 Axes>"
            ]
          },
          "metadata": {
            "tags": [],
            "needs_background": "light"
          }
        }
      ]
    },
    {
      "cell_type": "markdown",
      "metadata": {
        "id": "zbixxent9hLL"
      },
      "source": [
        "The value 0.00034 indicates there doesn’t exist a relationship between Saturaiton and Heart_Rate variables. \r\n",
        "\r\n",
        "The value 0.77 shows that there is a relationship between Diastolic_BP and Systolid_BP."
      ]
    },
    {
      "cell_type": "markdown",
      "metadata": {
        "id": "9Q3orPlhDW6q"
      },
      "source": [
        "## 6. Data Segmentation with Clustering Methods"
      ]
    },
    {
      "cell_type": "markdown",
      "metadata": {
        "id": "coY6Tsta_oM3"
      },
      "source": [
        "#### K-Means Clustering Algorithm"
      ]
    },
    {
      "cell_type": "markdown",
      "metadata": {
        "id": "4aqEQ9n4IQlh"
      },
      "source": [
        "The algorithm works iteratively to assign each data point to one of K groups based on the features that are provided. Data points are clustered based on feature similarity\r\n"
      ]
    },
    {
      "cell_type": "markdown",
      "metadata": {
        "id": "Wqspz-HPIQew"
      },
      "source": [
        "In the project there are  five-level triage scale.So it should be 5 clusters.\r\n",
        "\r\n",
        "KMeans(n_clusters = 5): n_clusters = 5 means that create 5 cluster.\r\n",
        "\r\n",
        "( 1: Resuscitation , 2: Emergent , 3: Urgent, 4: Less Urgent, 5: Non urgent )"
      ]
    },
    {
      "cell_type": "code",
      "metadata": {
        "id": "DSIfaluADVzk"
      },
      "source": [
        "from sklearn.cluster import KMeans\r\n",
        "from sklearn.model_selection import train_test_split\r\n",
        "from sklearn.neighbors import KNeighborsClassifier"
      ],
      "execution_count": 64,
      "outputs": []
    },
    {
      "cell_type": "code",
      "metadata": {
        "id": "zZt26MK7Jboq"
      },
      "source": [
        "y = data[\"KTAS_Nurse\"]\r\n",
        "x_data = data.drop([\"Group_ED\", \"KTAS_Nurse\", \"KTAS_Expert\", \"Mistriage\", \"Main_Complaint\",\"Patient_Diagnosis\", \"Total_Stay_duration/min\", \"KTAS_duration/min\"],axis=1)"
      ],
      "execution_count": 65,
      "outputs": []
    },
    {
      "cell_type": "code",
      "metadata": {
        "id": "rYpOTNEJKKEj"
      },
      "source": [
        "# normalization \r\n",
        "x = (x_data - np.min(x_data))/(np.max(x_data)-np.min(x_data))"
      ],
      "execution_count": 66,
      "outputs": []
    },
    {
      "cell_type": "code",
      "metadata": {
        "id": "0X7mFVN1KMeS"
      },
      "source": [
        "# train test split data\r\n",
        "x_train, x_test, y_train, y_test = train_test_split(x,y,test_size = 0.3,random_state=1)"
      ],
      "execution_count": 67,
      "outputs": []
    },
    {
      "cell_type": "code",
      "metadata": {
        "colab": {
          "base_uri": "https://localhost:8080/"
        },
        "id": "js5vW88jMUBD",
        "outputId": "345233d4-3460-4e7a-eaad-f092d3473456"
      },
      "source": [
        "x_train.shape"
      ],
      "execution_count": 68,
      "outputs": [
        {
          "output_type": "execute_result",
          "data": {
            "text/plain": [
              "(854, 15)"
            ]
          },
          "metadata": {
            "tags": []
          },
          "execution_count": 68
        }
      ]
    },
    {
      "cell_type": "code",
      "metadata": {
        "colab": {
          "base_uri": "https://localhost:8080/"
        },
        "id": "xR6n0lMwKON1",
        "outputId": "35e33c73-238f-49e8-b17d-8f8483ed1cf0"
      },
      "source": [
        "y_train.shape"
      ],
      "execution_count": 69,
      "outputs": [
        {
          "output_type": "execute_result",
          "data": {
            "text/plain": [
              "(854,)"
            ]
          },
          "metadata": {
            "tags": []
          },
          "execution_count": 69
        }
      ]
    },
    {
      "cell_type": "code",
      "metadata": {
        "colab": {
          "base_uri": "https://localhost:8080/"
        },
        "id": "JQ8nMNjMMZc4",
        "outputId": "3c326daf-230c-4226-a70a-269f415d52ed"
      },
      "source": [
        "#traning data\r\n",
        "kmeans = KNeighborsClassifier(n_neighbors = 5)\r\n",
        "kmeans.fit(x_train, y_train)"
      ],
      "execution_count": 70,
      "outputs": [
        {
          "output_type": "execute_result",
          "data": {
            "text/plain": [
              "KNeighborsClassifier(algorithm='auto', leaf_size=30, metric='minkowski',\n",
              "                     metric_params=None, n_jobs=None, n_neighbors=5, p=2,\n",
              "                     weights='uniform')"
            ]
          },
          "metadata": {
            "tags": []
          },
          "execution_count": 70
        }
      ]
    },
    {
      "cell_type": "code",
      "metadata": {
        "colab": {
          "base_uri": "https://localhost:8080/"
        },
        "id": "xTyEN-dQNVop",
        "outputId": "2c9ee2f7-7b91-4876-e175-be499f46e151"
      },
      "source": [
        "#predicting data\r\n",
        "prediction = kmeans.predict(x_test)\r\n",
        "prediction"
      ],
      "execution_count": 71,
      "outputs": [
        {
          "output_type": "execute_result",
          "data": {
            "text/plain": [
              "array([4, 4, 3, 3, 4, 3, 4, 3, 4, 3, 4, 4, 4, 3, 2, 3, 4, 3, 3, 3, 3, 4,\n",
              "       3, 3, 4, 3, 3, 3, 3, 4, 4, 4, 4, 4, 4, 3, 4, 3, 4, 4, 4, 4, 4, 4,\n",
              "       3, 2, 3, 2, 4, 3, 4, 3, 2, 3, 3, 4, 4, 2, 4, 2, 3, 4, 4, 4, 3, 3,\n",
              "       3, 4, 3, 4, 2, 3, 4, 2, 4, 3, 4, 4, 3, 4, 3, 3, 3, 4, 4, 3, 4, 4,\n",
              "       4, 3, 4, 4, 4, 4, 2, 3, 3, 3, 4, 3, 4, 3, 4, 4, 3, 3, 4, 2, 3, 4,\n",
              "       3, 3, 3, 2, 3, 4, 4, 4, 4, 3, 3, 3, 4, 2, 3, 3, 4, 1, 4, 3, 2, 4,\n",
              "       3, 4, 4, 2, 4, 3, 4, 4, 3, 4, 4, 4, 4, 4, 3, 5, 4, 2, 4, 3, 3, 4,\n",
              "       2, 4, 4, 2, 3, 4, 3, 4, 3, 4, 3, 3, 4, 4, 3, 4, 4, 4, 3, 3, 3, 4,\n",
              "       3, 4, 4, 3, 3, 3, 3, 4, 4, 3, 4, 4, 4, 2, 4, 3, 5, 4, 4, 3, 4, 3,\n",
              "       4, 4, 4, 3, 3, 2, 4, 3, 4, 3, 4, 4, 3, 2, 3, 3, 4, 4, 4, 3, 2, 3,\n",
              "       2, 3, 4, 5, 3, 4, 4, 4, 4, 4, 3, 4, 3, 2, 3, 4, 3, 3, 3, 3, 3, 4,\n",
              "       3, 4, 4, 4, 3, 2, 4, 4, 4, 2, 3, 3, 4, 4, 3, 3, 4, 3, 4, 3, 4, 4,\n",
              "       3, 4, 4, 4, 2, 4, 3, 4, 3, 2, 5, 3, 4, 2, 3, 5, 4, 3, 3, 4, 3, 3,\n",
              "       4, 3, 5, 3, 3, 4, 4, 4, 4, 4, 3, 3, 3, 4, 3, 4, 5, 3, 4, 3, 3, 2,\n",
              "       2, 3, 3, 3, 4, 3, 3, 4, 4, 4, 4, 3, 3, 3, 3, 3, 2, 3, 2, 3, 3, 4,\n",
              "       4, 3, 4, 3, 4, 4, 3, 3, 4, 4, 3, 4, 4, 4, 4, 4, 2, 4, 3, 3, 4, 3,\n",
              "       3, 3, 3, 4, 4, 3, 4, 3, 3, 3, 4, 4, 4, 4, 4])"
            ]
          },
          "metadata": {
            "tags": []
          },
          "execution_count": 71
        }
      ]
    },
    {
      "cell_type": "code",
      "metadata": {
        "colab": {
          "base_uri": "https://localhost:8080/"
        },
        "id": "1s893f0YNsEP",
        "outputId": "0603a81d-4432-4ec1-ab1c-eecd275424ef"
      },
      "source": [
        "print(\" {} nn score: {} \".format(5, kmeans.score(x_test, y_test)))"
      ],
      "execution_count": 72,
      "outputs": [
        {
          "output_type": "stream",
          "text": [
            " 5 nn score: 0.47956403269754766 \n"
          ],
          "name": "stdout"
        }
      ]
    },
    {
      "cell_type": "code",
      "metadata": {
        "colab": {
          "base_uri": "https://localhost:8080/",
          "height": 198
        },
        "id": "z5BF2_TEcdjK",
        "outputId": "291a467f-f8ad-4204-eb8a-a5c2fb3b3b3b"
      },
      "source": [
        "real_pred = pd.DataFrame({'KTAS_Nurse': np.array(y_test).flatten(), 'KTAS_Predicted': prediction.flatten()})\r\n",
        "real_pred.head()"
      ],
      "execution_count": 73,
      "outputs": [
        {
          "output_type": "execute_result",
          "data": {
            "text/html": [
              "<div>\n",
              "<style scoped>\n",
              "    .dataframe tbody tr th:only-of-type {\n",
              "        vertical-align: middle;\n",
              "    }\n",
              "\n",
              "    .dataframe tbody tr th {\n",
              "        vertical-align: top;\n",
              "    }\n",
              "\n",
              "    .dataframe thead th {\n",
              "        text-align: right;\n",
              "    }\n",
              "</style>\n",
              "<table border=\"1\" class=\"dataframe\">\n",
              "  <thead>\n",
              "    <tr style=\"text-align: right;\">\n",
              "      <th></th>\n",
              "      <th>KTAS_Nurse</th>\n",
              "      <th>KTAS_Predicted</th>\n",
              "    </tr>\n",
              "  </thead>\n",
              "  <tbody>\n",
              "    <tr>\n",
              "      <th>0</th>\n",
              "      <td>2</td>\n",
              "      <td>4</td>\n",
              "    </tr>\n",
              "    <tr>\n",
              "      <th>1</th>\n",
              "      <td>3</td>\n",
              "      <td>4</td>\n",
              "    </tr>\n",
              "    <tr>\n",
              "      <th>2</th>\n",
              "      <td>5</td>\n",
              "      <td>3</td>\n",
              "    </tr>\n",
              "    <tr>\n",
              "      <th>3</th>\n",
              "      <td>3</td>\n",
              "      <td>3</td>\n",
              "    </tr>\n",
              "    <tr>\n",
              "      <th>4</th>\n",
              "      <td>3</td>\n",
              "      <td>4</td>\n",
              "    </tr>\n",
              "  </tbody>\n",
              "</table>\n",
              "</div>"
            ],
            "text/plain": [
              "   KTAS_Nurse  KTAS_Predicted\n",
              "0           2               4\n",
              "1           3               4\n",
              "2           5               3\n",
              "3           3               3\n",
              "4           3               4"
            ]
          },
          "metadata": {
            "tags": []
          },
          "execution_count": 73
        }
      ]
    },
    {
      "cell_type": "markdown",
      "metadata": {
        "id": "1GsZYEV7l-rH"
      },
      "source": [
        "The predictive power of the model 48%. We can say that this value is quite low.We can say that the variables we put into the model for this reason.Variable selection should be made with a specialist about the data and after the expert opinion is received, the process should be done to improve the predictive power of the model, such as hyper parameter tuning."
      ]
    }
  ]
}