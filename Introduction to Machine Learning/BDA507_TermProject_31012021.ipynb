{
  "nbformat": 4,
  "nbformat_minor": 0,
  "metadata": {
    "colab": {
      "name": "BDA507_TermProject.ipynb",
      "provenance": [],
      "collapsed_sections": []
    },
    "kernelspec": {
      "name": "python3",
      "display_name": "Python 3"
    }
  },
  "cells": [
    {
      "cell_type": "markdown",
      "metadata": {
        "id": "q0ZkxXiOHxNa"
      },
      "source": [
        "312002014 - Neriman GÜRSOY"
      ]
    },
    {
      "cell_type": "markdown",
      "metadata": {
        "id": "svSIoxHWA1OE"
      },
      "source": [
        "### 1. Project Definition"
      ]
    },
    {
      "cell_type": "markdown",
      "metadata": {
        "id": "COMgVY1pyi3A"
      },
      "source": [
        "In this project, I will first investigate the data for preprocessing to improve its quality. Then I will perform an exploratory data analysis(EDA) by data manipulation and data visualization steps. The main purpose is to identify which variables affect the price mostly and come up with a conclusion for the relationship between variables. In addition to these, I will study on some models to forecast prices of cars with given features. For the model, I will apply Linear Modelling.\r\n",
        " The processes during the assignment can be listed as below:\r\n",
        "\r\n",
        "1. Data Preprocessing\r\n",
        "2. Data Manipulation\r\n",
        "3. Data Visualization\r\n",
        "4. Forecasting (Linear Modelling)"
      ]
    },
    {
      "cell_type": "markdown",
      "metadata": {
        "id": "rBHPHLNbBVbP"
      },
      "source": [
        "### 2. Project Introduction"
      ]
    },
    {
      "cell_type": "markdown",
      "metadata": {
        "id": "nYx49bhiXP8y"
      },
      "source": [
        "In this project, I will analyze the 2020 online car market Turkey by using kaggle data set. The aim of this study is that to provide exploratory analysis by using library of pandas, numpy, seaborn etc. and to create a model for predicting of the car data. Hence, first preparing a proposal, then making an EDA and lastly, presenting a model to predict the price of the car.\r\n",
        "\r\n",
        "\r\n",
        "The tentative plan is as below:\r\n",
        "\r\n",
        "- Cleaning, tidying and manipulating the data\r\n",
        "\r\n",
        "- Using data visualizations to understand the data better\r\n",
        "\r\n",
        "- Specifying the most related feature(s) with (the most effective feature(s) on) prices of a car\r\n",
        "\r\n",
        "- Forecasting the car prices and creating a model\r\n",
        "\r\n",
        "- To come up with a conclusion\r\n",
        "\r\n",
        "This dataset contains the features and prices of the cars sold online in Turkey, in 2020. \r\n",
        "This data is obtained from [Kaggle](https://www.kaggle.com/alpertemel/turkey-car-market-2020) in order to make a comprehensive analysis about the online car market.\r\n",
        " The variables in the data set are as follows: date, brand, vehicle type, model year, fuel type, transmission, CCM, horse power, color, body type, seller, seller status, kilometers, and price. The main goal is to make the best forecast of the prices using the variables in the data set. "
      ]
    },
    {
      "cell_type": "markdown",
      "metadata": {
        "id": "pmSkt3D5DS8F"
      },
      "source": [
        "The variables in the data set are as follows: date, brand, vehicle type, model year, fuel type, transmission, CCM, horse power, color, body type, seller, seller status, kilometers, and price. The main goal is to make the best forecast of the prices using the variables in the data set. \r\n",
        "\r\n",
        "You can find the information of the data below. The info() method gives us an idea about the type of the data, how many columns it consists of, what type of its variables, and whether there is an empty NaN value in the data.\r\n",
        "When we look at the output we see that is DataFrame and it consists of 9044 observations with 15 features. We also can see that there is no any NaN value. We can say that the date variable is an object, that is string, model year variable is float, kilometers and price variables are integer values and others are object type."
      ]
    },
    {
      "cell_type": "code",
      "metadata": {
        "id": "7LwOpsqsD8Vt"
      },
      "source": [
        "import pandas as pd\r\n",
        "import numpy as np\r\n",
        "import matplotlib.pyplot as plt\r\n",
        "import seaborn as sns"
      ],
      "execution_count": null,
      "outputs": []
    },
    {
      "cell_type": "code",
      "metadata": {
        "colab": {
          "base_uri": "https://localhost:8080/"
        },
        "id": "rM1QI__mL5NZ",
        "outputId": "8e75cd5c-972a-418d-f50f-5d8cfa5d74f2"
      },
      "source": [
        "url='https://raw.githubusercontent.com/pjournal/mef04-nerigrsy/gh-pages/turkey_car_market.csv'\r\n",
        "data = pd.read_csv(url)\r\n",
        "data.info()"
      ],
      "execution_count": null,
      "outputs": [
        {
          "output_type": "stream",
          "text": [
            "<class 'pandas.core.frame.DataFrame'>\n",
            "RangeIndex: 9044 entries, 0 to 9043\n",
            "Data columns (total 15 columns):\n",
            " #   Column          Non-Null Count  Dtype  \n",
            "---  ------          --------------  -----  \n",
            " 0   İlan Tarihi     9044 non-null   object \n",
            " 1   Marka           9044 non-null   object \n",
            " 2   Arac Tip Grubu  9044 non-null   object \n",
            " 3   Arac Tip        9044 non-null   object \n",
            " 4   Model Yıl       9044 non-null   float64\n",
            " 5   Yakıt Turu      9044 non-null   object \n",
            " 6   Vites           9044 non-null   object \n",
            " 7   CCM             9044 non-null   object \n",
            " 8   Beygir Gucu     9044 non-null   object \n",
            " 9   Renk            9044 non-null   object \n",
            " 10  Kasa Tipi       9044 non-null   object \n",
            " 11  Kimden          9044 non-null   object \n",
            " 12  Durum           9044 non-null   object \n",
            " 13  Km              9044 non-null   int64  \n",
            " 14  Fiyat           9044 non-null   int64  \n",
            "dtypes: float64(1), int64(2), object(12)\n",
            "memory usage: 1.0+ MB\n"
          ],
          "name": "stdout"
        }
      ]
    },
    {
      "cell_type": "markdown",
      "metadata": {
        "id": "RO_muf7eVeJw"
      },
      "source": [
        "The **head()** method can be used to quickly browse the data. You can see the first five rows of the data below."
      ]
    },
    {
      "cell_type": "code",
      "metadata": {
        "colab": {
          "base_uri": "https://localhost:8080/",
          "height": 204
        },
        "id": "owcXsVqXUEc-",
        "outputId": "ce890f48-d13f-41ce-d545-5a09b40fb8d4"
      },
      "source": [
        "data.head()"
      ],
      "execution_count": null,
      "outputs": [
        {
          "output_type": "execute_result",
          "data": {
            "text/html": [
              "<div>\n",
              "<style scoped>\n",
              "    .dataframe tbody tr th:only-of-type {\n",
              "        vertical-align: middle;\n",
              "    }\n",
              "\n",
              "    .dataframe tbody tr th {\n",
              "        vertical-align: top;\n",
              "    }\n",
              "\n",
              "    .dataframe thead th {\n",
              "        text-align: right;\n",
              "    }\n",
              "</style>\n",
              "<table border=\"1\" class=\"dataframe\">\n",
              "  <thead>\n",
              "    <tr style=\"text-align: right;\">\n",
              "      <th></th>\n",
              "      <th>İlan Tarihi</th>\n",
              "      <th>Marka</th>\n",
              "      <th>Arac Tip Grubu</th>\n",
              "      <th>Arac Tip</th>\n",
              "      <th>Model Yıl</th>\n",
              "      <th>Yakıt Turu</th>\n",
              "      <th>Vites</th>\n",
              "      <th>CCM</th>\n",
              "      <th>Beygir Gucu</th>\n",
              "      <th>Renk</th>\n",
              "      <th>Kasa Tipi</th>\n",
              "      <th>Kimden</th>\n",
              "      <th>Durum</th>\n",
              "      <th>Km</th>\n",
              "      <th>Fiyat</th>\n",
              "    </tr>\n",
              "  </thead>\n",
              "  <tbody>\n",
              "    <tr>\n",
              "      <th>0</th>\n",
              "      <td>27/05/2020</td>\n",
              "      <td>Jaguar</td>\n",
              "      <td>XF</td>\n",
              "      <td>2.0 D Prestige Plus</td>\n",
              "      <td>2017.0</td>\n",
              "      <td>Dizel</td>\n",
              "      <td>Otomatik Vites</td>\n",
              "      <td>1801-2000 cc</td>\n",
              "      <td>176-200 BG</td>\n",
              "      <td>Lacivert</td>\n",
              "      <td>Hatchback 5 Kapı</td>\n",
              "      <td>Galeriden</td>\n",
              "      <td>2. El</td>\n",
              "      <td>26100</td>\n",
              "      <td>634500</td>\n",
              "    </tr>\n",
              "    <tr>\n",
              "      <th>1</th>\n",
              "      <td>16/06/2020</td>\n",
              "      <td>Acura</td>\n",
              "      <td>CL</td>\n",
              "      <td>-</td>\n",
              "      <td>2015.0</td>\n",
              "      <td>Dizel</td>\n",
              "      <td>Yarı Otomatik Vites</td>\n",
              "      <td>1301-1600 cc</td>\n",
              "      <td>101-125 BG</td>\n",
              "      <td>Mavi</td>\n",
              "      <td>Sedan</td>\n",
              "      <td>Sahibinden</td>\n",
              "      <td>2. El</td>\n",
              "      <td>127000</td>\n",
              "      <td>151500</td>\n",
              "    </tr>\n",
              "    <tr>\n",
              "      <th>2</th>\n",
              "      <td>14/06/2020</td>\n",
              "      <td>Acura</td>\n",
              "      <td>CL</td>\n",
              "      <td>2.2</td>\n",
              "      <td>1994.0</td>\n",
              "      <td>Benzin/LPG</td>\n",
              "      <td>Düz Vites</td>\n",
              "      <td>1301-1600 cc</td>\n",
              "      <td>101-125 BG</td>\n",
              "      <td>Turkuaz</td>\n",
              "      <td>Sedan</td>\n",
              "      <td>Sahibinden</td>\n",
              "      <td>2. El</td>\n",
              "      <td>175000</td>\n",
              "      <td>19750</td>\n",
              "    </tr>\n",
              "    <tr>\n",
              "      <th>3</th>\n",
              "      <td>11/06/2020</td>\n",
              "      <td>Acura</td>\n",
              "      <td>CL</td>\n",
              "      <td>-</td>\n",
              "      <td>2013.0</td>\n",
              "      <td>Dizel</td>\n",
              "      <td>Düz Vites</td>\n",
              "      <td>1301-1600 cc</td>\n",
              "      <td>76-100 BG</td>\n",
              "      <td>Kahverengi</td>\n",
              "      <td>Sedan</td>\n",
              "      <td>Sahibinden</td>\n",
              "      <td>2. El</td>\n",
              "      <td>325</td>\n",
              "      <td>52000</td>\n",
              "    </tr>\n",
              "    <tr>\n",
              "      <th>4</th>\n",
              "      <td>11/06/2020</td>\n",
              "      <td>Acura</td>\n",
              "      <td>CL</td>\n",
              "      <td>2.2</td>\n",
              "      <td>2010.0</td>\n",
              "      <td>Dizel</td>\n",
              "      <td>Otomatik Vites</td>\n",
              "      <td>1801-2000 cc</td>\n",
              "      <td>151-175 BG</td>\n",
              "      <td>Beyaz</td>\n",
              "      <td>Sedan</td>\n",
              "      <td>Sahibinden</td>\n",
              "      <td>2. El</td>\n",
              "      <td>207000</td>\n",
              "      <td>148750</td>\n",
              "    </tr>\n",
              "  </tbody>\n",
              "</table>\n",
              "</div>"
            ],
            "text/plain": [
              "  İlan Tarihi   Marka Arac Tip Grubu  ...  Durum      Km   Fiyat\n",
              "0  27/05/2020  Jaguar             XF  ...  2. El   26100  634500\n",
              "1  16/06/2020   Acura             CL  ...  2. El  127000  151500\n",
              "2  14/06/2020   Acura             CL  ...  2. El  175000   19750\n",
              "3  11/06/2020   Acura             CL  ...  2. El     325   52000\n",
              "4  11/06/2020   Acura             CL  ...  2. El  207000  148750\n",
              "\n",
              "[5 rows x 15 columns]"
            ]
          },
          "metadata": {
            "tags": []
          },
          "execution_count": 3
        }
      ]
    },
    {
      "cell_type": "markdown",
      "metadata": {
        "id": "ISgMakQ-Bbs3"
      },
      "source": [
        "### 3. Project Literature"
      ]
    },
    {
      "cell_type": "markdown",
      "metadata": {
        "id": "Bwuj27ulO4iA"
      },
      "source": [
        "Celik, O., & Osmanoglu, O. (2019) used a linear regression analysis to identify the variables that have an effect on the price. Then, by using this regression model, second hand prices of the cars were estimated via machine learning algorithm. The primary aim of machine learning is to develop models that can train to develop themselves and by detecting complex patterns. From the test results, it was found that the accuracy of the training was 81.15%. The model was able to accurately estimate the price of the cars by choosing the most suitable features . According to the results, it is thought that machine learning\r\n",
        "technique could be second-hand to estimate second hand car prices.\r\n",
        "\r\n",
        "Mehmet Özçalıcı (2017) studies have estimated the prediction for second hand cars. Using genetic algorithm which of these variables would predict the selling price was determined. In the study, it was determined that model year and engine power variables were more successful in predicting the price than other variables. According to the results of the study, tith the model in which five variables were selected, decision trees were established and the model was examined in detail. Successful results were obtained.\r\n",
        "\r\n",
        "Sameerchand Pudaruth (2014), investigated the determinants of the price of used-cars in Mauritius. Four different supervised machine learning algorithms were used in the study. These, multiple linear regression analysis, k-nearest neighbours, naïve bayes and decision trees. the results of the study is that the mean error with linear regression was about Rs51, 000 while for kNN it was about Rs27, 000 for Nissan cars and about Rs45, 000 for Toyota cars. J48 and NaiveBayes accuracy dangled between 60-70% for different combinations of parameters."
      ]
    },
    {
      "cell_type": "markdown",
      "metadata": {
        "id": "jZ-4p2pmBl8Y"
      },
      "source": [
        "### 4. Data Preprocessing:"
      ]
    },
    {
      "cell_type": "markdown",
      "metadata": {
        "id": "sW_TYEsjXcWA"
      },
      "source": [
        "The data is gathered from the [Kaggle](https://www.kaggle.com/alpertemel/turkey-car-market-2020). Also you can find the csv in my [Github Repository](https://github.com/pjournal/mef04-nerigrsy). The data are about the online car advertisements in Turkey market. There are 15 columns in the dataset. These are:\r\n",
        "\r\n",
        "1. Date : the date that the advertisement is published\r\n",
        "2. Brand : the brand of the car\r\n",
        "3. Vehicle_Type_Group : the vehicle type group of the car like Ranger, Sorento etc.\r\n",
        "4. Vehicle_Type : the vehicle type of the car like 1.6, Broadway etc.\r\n",
        "5. Model_Year : the year of the car is produced\r\n",
        "6. Fuel_Type : the fuel type that the car has like Diesel, Electricity etc.\r\n",
        "7. Gear : the gear type the car has like Automatic, Manual etc.\r\n",
        "8. CCM : the indicator of the motor capacity\r\n",
        "9. Horse_Power : the indicator of the motor power\r\n",
        "10. Color : the color of the car\r\n",
        "11. Body_Type : the type of the body of the car like Sedan, Minivan etc.\r\n",
        "12. Seller : the owner of the car\r\n",
        "13. Seller_Status : the status of the usage of the car like 0 km, 2nd Hand etc.\r\n",
        "14. Kilometers : the kilometer that the car traveled\r\n",
        "15. Price : the price of the car in that advertisement\r\n",
        "\r\n",
        "\r\n"
      ]
    },
    {
      "cell_type": "markdown",
      "metadata": {
        "id": "y9N6wMehZN4T"
      },
      "source": [
        "The data is prepared from the Turkish sites, so all values of columns are in Turkish. For this reason, before the exploratory analysis,  the name of the columns should be transformed to English. For this, the following code can be used."
      ]
    },
    {
      "cell_type": "code",
      "metadata": {
        "colab": {
          "base_uri": "https://localhost:8080/"
        },
        "id": "rSeodRpxd9OG",
        "outputId": "70824443-a0b0-4b4a-80f6-86d64978a379"
      },
      "source": [
        "data.columns"
      ],
      "execution_count": null,
      "outputs": [
        {
          "output_type": "execute_result",
          "data": {
            "text/plain": [
              "Index(['İlan Tarihi', 'Marka', 'Arac Tip Grubu', 'Arac Tip', 'Model Yıl',\n",
              "       'Yakıt Turu', 'Vites', 'CCM', 'Beygir Gucu', 'Renk', 'Kasa Tipi',\n",
              "       'Kimden', 'Durum', 'Km', 'Fiyat'],\n",
              "      dtype='object')"
            ]
          },
          "metadata": {
            "tags": []
          },
          "execution_count": 4
        }
      ]
    },
    {
      "cell_type": "code",
      "metadata": {
        "colab": {
          "base_uri": "https://localhost:8080/"
        },
        "id": "iJ4Y256KaB3h",
        "outputId": "6138fac1-0a59-4ffe-a5ab-1b445cc4ccf1"
      },
      "source": [
        "# renaming column names by using English meaning\r\n",
        "data=data.rename(columns={\"İlan Tarihi\" : \"Date\", \"Marka\" : \"Brand\", \"Arac Tip Grubu\" : \"Vehicle_Type_Group\", \"Arac Tip\" : \"Vehicle_Type\", \"Model Yıl\": \"Model_Year\", \"Yakıt Turu\" : \"Fuel_Type\", \r\n",
        "                               \"Vites\" : \"Gear\", \"CCM\" : \"CCM\", \"Beygir Gucu\" : \"Horse_Power\", \"Renk\" : \"Color\", \"Kasa Tipi\" : \"Body_Type\", \"Kimden\" : \"Seller\", \"Durum\" : \"Seller_Status\", \"Km\" : \"Kilometers\", \"Fiyat\" : \"Price\"})\r\n",
        "data.columns"
      ],
      "execution_count": null,
      "outputs": [
        {
          "output_type": "execute_result",
          "data": {
            "text/plain": [
              "Index(['Date', 'Brand', 'Vehicle_Type_Group', 'Vehicle_Type', 'Model_Year',\n",
              "       'Fuel_Type', 'Gear', 'CCM', 'Horse_Power', 'Color', 'Body_Type',\n",
              "       'Seller', 'Seller_Status', 'Kilometers', 'Price'],\n",
              "      dtype='object')"
            ]
          },
          "metadata": {
            "tags": []
          },
          "execution_count": 5
        }
      ]
    },
    {
      "cell_type": "code",
      "metadata": {
        "colab": {
          "base_uri": "https://localhost:8080/",
          "height": 204
        },
        "id": "uQlEeDlRkS_Q",
        "outputId": "5070fe7d-4e5e-4d1f-844c-4e8039bd50e8"
      },
      "source": [
        "data.head()"
      ],
      "execution_count": null,
      "outputs": [
        {
          "output_type": "execute_result",
          "data": {
            "text/html": [
              "<div>\n",
              "<style scoped>\n",
              "    .dataframe tbody tr th:only-of-type {\n",
              "        vertical-align: middle;\n",
              "    }\n",
              "\n",
              "    .dataframe tbody tr th {\n",
              "        vertical-align: top;\n",
              "    }\n",
              "\n",
              "    .dataframe thead th {\n",
              "        text-align: right;\n",
              "    }\n",
              "</style>\n",
              "<table border=\"1\" class=\"dataframe\">\n",
              "  <thead>\n",
              "    <tr style=\"text-align: right;\">\n",
              "      <th></th>\n",
              "      <th>Date</th>\n",
              "      <th>Brand</th>\n",
              "      <th>Vehicle_Type_Group</th>\n",
              "      <th>Vehicle_Type</th>\n",
              "      <th>Model_Year</th>\n",
              "      <th>Fuel_Type</th>\n",
              "      <th>Gear</th>\n",
              "      <th>CCM</th>\n",
              "      <th>Horse_Power</th>\n",
              "      <th>Color</th>\n",
              "      <th>Body_Type</th>\n",
              "      <th>Seller</th>\n",
              "      <th>Seller_Status</th>\n",
              "      <th>Kilometers</th>\n",
              "      <th>Price</th>\n",
              "    </tr>\n",
              "  </thead>\n",
              "  <tbody>\n",
              "    <tr>\n",
              "      <th>0</th>\n",
              "      <td>27/05/2020</td>\n",
              "      <td>Jaguar</td>\n",
              "      <td>XF</td>\n",
              "      <td>2.0 D Prestige Plus</td>\n",
              "      <td>2017.0</td>\n",
              "      <td>Dizel</td>\n",
              "      <td>Otomatik Vites</td>\n",
              "      <td>1801-2000 cc</td>\n",
              "      <td>176-200 BG</td>\n",
              "      <td>Lacivert</td>\n",
              "      <td>Hatchback 5 Kapı</td>\n",
              "      <td>Galeriden</td>\n",
              "      <td>2. El</td>\n",
              "      <td>26100</td>\n",
              "      <td>634500</td>\n",
              "    </tr>\n",
              "    <tr>\n",
              "      <th>1</th>\n",
              "      <td>16/06/2020</td>\n",
              "      <td>Acura</td>\n",
              "      <td>CL</td>\n",
              "      <td>-</td>\n",
              "      <td>2015.0</td>\n",
              "      <td>Dizel</td>\n",
              "      <td>Yarı Otomatik Vites</td>\n",
              "      <td>1301-1600 cc</td>\n",
              "      <td>101-125 BG</td>\n",
              "      <td>Mavi</td>\n",
              "      <td>Sedan</td>\n",
              "      <td>Sahibinden</td>\n",
              "      <td>2. El</td>\n",
              "      <td>127000</td>\n",
              "      <td>151500</td>\n",
              "    </tr>\n",
              "    <tr>\n",
              "      <th>2</th>\n",
              "      <td>14/06/2020</td>\n",
              "      <td>Acura</td>\n",
              "      <td>CL</td>\n",
              "      <td>2.2</td>\n",
              "      <td>1994.0</td>\n",
              "      <td>Benzin/LPG</td>\n",
              "      <td>Düz Vites</td>\n",
              "      <td>1301-1600 cc</td>\n",
              "      <td>101-125 BG</td>\n",
              "      <td>Turkuaz</td>\n",
              "      <td>Sedan</td>\n",
              "      <td>Sahibinden</td>\n",
              "      <td>2. El</td>\n",
              "      <td>175000</td>\n",
              "      <td>19750</td>\n",
              "    </tr>\n",
              "    <tr>\n",
              "      <th>3</th>\n",
              "      <td>11/06/2020</td>\n",
              "      <td>Acura</td>\n",
              "      <td>CL</td>\n",
              "      <td>-</td>\n",
              "      <td>2013.0</td>\n",
              "      <td>Dizel</td>\n",
              "      <td>Düz Vites</td>\n",
              "      <td>1301-1600 cc</td>\n",
              "      <td>76-100 BG</td>\n",
              "      <td>Kahverengi</td>\n",
              "      <td>Sedan</td>\n",
              "      <td>Sahibinden</td>\n",
              "      <td>2. El</td>\n",
              "      <td>325</td>\n",
              "      <td>52000</td>\n",
              "    </tr>\n",
              "    <tr>\n",
              "      <th>4</th>\n",
              "      <td>11/06/2020</td>\n",
              "      <td>Acura</td>\n",
              "      <td>CL</td>\n",
              "      <td>2.2</td>\n",
              "      <td>2010.0</td>\n",
              "      <td>Dizel</td>\n",
              "      <td>Otomatik Vites</td>\n",
              "      <td>1801-2000 cc</td>\n",
              "      <td>151-175 BG</td>\n",
              "      <td>Beyaz</td>\n",
              "      <td>Sedan</td>\n",
              "      <td>Sahibinden</td>\n",
              "      <td>2. El</td>\n",
              "      <td>207000</td>\n",
              "      <td>148750</td>\n",
              "    </tr>\n",
              "  </tbody>\n",
              "</table>\n",
              "</div>"
            ],
            "text/plain": [
              "         Date   Brand Vehicle_Type_Group  ... Seller_Status  Kilometers   Price\n",
              "0  27/05/2020  Jaguar                 XF  ...         2. El       26100  634500\n",
              "1  16/06/2020   Acura                 CL  ...         2. El      127000  151500\n",
              "2  14/06/2020   Acura                 CL  ...         2. El      175000   19750\n",
              "3  11/06/2020   Acura                 CL  ...         2. El         325   52000\n",
              "4  11/06/2020   Acura                 CL  ...         2. El      207000  148750\n",
              "\n",
              "[5 rows x 15 columns]"
            ]
          },
          "metadata": {
            "tags": []
          },
          "execution_count": 6
        }
      ]
    },
    {
      "cell_type": "markdown",
      "metadata": {
        "id": "HvYq-UxvzP7T"
      },
      "source": [
        "We can add the year and month of advertisements in Year and Month column. To be able to see all columns in order, we put the columns about the date to the beginning."
      ]
    },
    {
      "cell_type": "code",
      "metadata": {
        "colab": {
          "base_uri": "https://localhost:8080/"
        },
        "id": "-F8ADw0p1GRb",
        "outputId": "3293bbe7-b6d8-41e5-ddfe-345fb30ca3c0"
      },
      "source": [
        "#to see types of the column\r\n",
        "data.dtypes"
      ],
      "execution_count": null,
      "outputs": [
        {
          "output_type": "execute_result",
          "data": {
            "text/plain": [
              "Date                   object\n",
              "Brand                  object\n",
              "Vehicle_Type_Group     object\n",
              "Vehicle_Type           object\n",
              "Model_Year            float64\n",
              "Fuel_Type              object\n",
              "Gear                   object\n",
              "CCM                    object\n",
              "Horse_Power            object\n",
              "Color                  object\n",
              "Body_Type              object\n",
              "Seller                 object\n",
              "Seller_Status          object\n",
              "Kilometers              int64\n",
              "Price                   int64\n",
              "dtype: object"
            ]
          },
          "metadata": {
            "tags": []
          },
          "execution_count": 7
        }
      ]
    },
    {
      "cell_type": "code",
      "metadata": {
        "colab": {
          "base_uri": "https://localhost:8080/"
        },
        "id": "YygbK7n8uWQ_",
        "outputId": "97c16af7-cf1f-43db-95f5-ddb7f226b878"
      },
      "source": [
        "#converting of Date column from string to datetime\r\n",
        "data['Date']=pd.to_datetime(data['Date'])\r\n",
        "data.dtypes"
      ],
      "execution_count": null,
      "outputs": [
        {
          "output_type": "execute_result",
          "data": {
            "text/plain": [
              "Date                  datetime64[ns]\n",
              "Brand                         object\n",
              "Vehicle_Type_Group            object\n",
              "Vehicle_Type                  object\n",
              "Model_Year                   float64\n",
              "Fuel_Type                     object\n",
              "Gear                          object\n",
              "CCM                           object\n",
              "Horse_Power                   object\n",
              "Color                         object\n",
              "Body_Type                     object\n",
              "Seller                        object\n",
              "Seller_Status                 object\n",
              "Kilometers                     int64\n",
              "Price                          int64\n",
              "dtype: object"
            ]
          },
          "metadata": {
            "tags": []
          },
          "execution_count": 8
        }
      ]
    },
    {
      "cell_type": "code",
      "metadata": {
        "colab": {
          "base_uri": "https://localhost:8080/",
          "height": 204
        },
        "id": "wZ9OV_5T8wRq",
        "outputId": "5c596531-3326-4bb5-dc10-6509379fb998"
      },
      "source": [
        "data['Year'] = pd.DatetimeIndex(data['Date']).year\r\n",
        "data['Month'] = pd.DatetimeIndex(data['Date']).month\r\n",
        "data.head()"
      ],
      "execution_count": null,
      "outputs": [
        {
          "output_type": "execute_result",
          "data": {
            "text/html": [
              "<div>\n",
              "<style scoped>\n",
              "    .dataframe tbody tr th:only-of-type {\n",
              "        vertical-align: middle;\n",
              "    }\n",
              "\n",
              "    .dataframe tbody tr th {\n",
              "        vertical-align: top;\n",
              "    }\n",
              "\n",
              "    .dataframe thead th {\n",
              "        text-align: right;\n",
              "    }\n",
              "</style>\n",
              "<table border=\"1\" class=\"dataframe\">\n",
              "  <thead>\n",
              "    <tr style=\"text-align: right;\">\n",
              "      <th></th>\n",
              "      <th>Date</th>\n",
              "      <th>Brand</th>\n",
              "      <th>Vehicle_Type_Group</th>\n",
              "      <th>Vehicle_Type</th>\n",
              "      <th>Model_Year</th>\n",
              "      <th>Fuel_Type</th>\n",
              "      <th>Gear</th>\n",
              "      <th>CCM</th>\n",
              "      <th>Horse_Power</th>\n",
              "      <th>Color</th>\n",
              "      <th>Body_Type</th>\n",
              "      <th>Seller</th>\n",
              "      <th>Seller_Status</th>\n",
              "      <th>Kilometers</th>\n",
              "      <th>Price</th>\n",
              "      <th>Year</th>\n",
              "      <th>Month</th>\n",
              "    </tr>\n",
              "  </thead>\n",
              "  <tbody>\n",
              "    <tr>\n",
              "      <th>0</th>\n",
              "      <td>2020-05-27</td>\n",
              "      <td>Jaguar</td>\n",
              "      <td>XF</td>\n",
              "      <td>2.0 D Prestige Plus</td>\n",
              "      <td>2017.0</td>\n",
              "      <td>Dizel</td>\n",
              "      <td>Otomatik Vites</td>\n",
              "      <td>1801-2000 cc</td>\n",
              "      <td>176-200 BG</td>\n",
              "      <td>Lacivert</td>\n",
              "      <td>Hatchback 5 Kapı</td>\n",
              "      <td>Galeriden</td>\n",
              "      <td>2. El</td>\n",
              "      <td>26100</td>\n",
              "      <td>634500</td>\n",
              "      <td>2020</td>\n",
              "      <td>5</td>\n",
              "    </tr>\n",
              "    <tr>\n",
              "      <th>1</th>\n",
              "      <td>2020-06-16</td>\n",
              "      <td>Acura</td>\n",
              "      <td>CL</td>\n",
              "      <td>-</td>\n",
              "      <td>2015.0</td>\n",
              "      <td>Dizel</td>\n",
              "      <td>Yarı Otomatik Vites</td>\n",
              "      <td>1301-1600 cc</td>\n",
              "      <td>101-125 BG</td>\n",
              "      <td>Mavi</td>\n",
              "      <td>Sedan</td>\n",
              "      <td>Sahibinden</td>\n",
              "      <td>2. El</td>\n",
              "      <td>127000</td>\n",
              "      <td>151500</td>\n",
              "      <td>2020</td>\n",
              "      <td>6</td>\n",
              "    </tr>\n",
              "    <tr>\n",
              "      <th>2</th>\n",
              "      <td>2020-06-14</td>\n",
              "      <td>Acura</td>\n",
              "      <td>CL</td>\n",
              "      <td>2.2</td>\n",
              "      <td>1994.0</td>\n",
              "      <td>Benzin/LPG</td>\n",
              "      <td>Düz Vites</td>\n",
              "      <td>1301-1600 cc</td>\n",
              "      <td>101-125 BG</td>\n",
              "      <td>Turkuaz</td>\n",
              "      <td>Sedan</td>\n",
              "      <td>Sahibinden</td>\n",
              "      <td>2. El</td>\n",
              "      <td>175000</td>\n",
              "      <td>19750</td>\n",
              "      <td>2020</td>\n",
              "      <td>6</td>\n",
              "    </tr>\n",
              "    <tr>\n",
              "      <th>3</th>\n",
              "      <td>2020-11-06</td>\n",
              "      <td>Acura</td>\n",
              "      <td>CL</td>\n",
              "      <td>-</td>\n",
              "      <td>2013.0</td>\n",
              "      <td>Dizel</td>\n",
              "      <td>Düz Vites</td>\n",
              "      <td>1301-1600 cc</td>\n",
              "      <td>76-100 BG</td>\n",
              "      <td>Kahverengi</td>\n",
              "      <td>Sedan</td>\n",
              "      <td>Sahibinden</td>\n",
              "      <td>2. El</td>\n",
              "      <td>325</td>\n",
              "      <td>52000</td>\n",
              "      <td>2020</td>\n",
              "      <td>11</td>\n",
              "    </tr>\n",
              "    <tr>\n",
              "      <th>4</th>\n",
              "      <td>2020-11-06</td>\n",
              "      <td>Acura</td>\n",
              "      <td>CL</td>\n",
              "      <td>2.2</td>\n",
              "      <td>2010.0</td>\n",
              "      <td>Dizel</td>\n",
              "      <td>Otomatik Vites</td>\n",
              "      <td>1801-2000 cc</td>\n",
              "      <td>151-175 BG</td>\n",
              "      <td>Beyaz</td>\n",
              "      <td>Sedan</td>\n",
              "      <td>Sahibinden</td>\n",
              "      <td>2. El</td>\n",
              "      <td>207000</td>\n",
              "      <td>148750</td>\n",
              "      <td>2020</td>\n",
              "      <td>11</td>\n",
              "    </tr>\n",
              "  </tbody>\n",
              "</table>\n",
              "</div>"
            ],
            "text/plain": [
              "        Date   Brand Vehicle_Type_Group  ...   Price  Year Month\n",
              "0 2020-05-27  Jaguar                 XF  ...  634500  2020     5\n",
              "1 2020-06-16   Acura                 CL  ...  151500  2020     6\n",
              "2 2020-06-14   Acura                 CL  ...   19750  2020     6\n",
              "3 2020-11-06   Acura                 CL  ...   52000  2020    11\n",
              "4 2020-11-06   Acura                 CL  ...  148750  2020    11\n",
              "\n",
              "[5 rows x 17 columns]"
            ]
          },
          "metadata": {
            "tags": []
          },
          "execution_count": 9
        }
      ]
    },
    {
      "cell_type": "code",
      "metadata": {
        "colab": {
          "base_uri": "https://localhost:8080/",
          "height": 204
        },
        "id": "_RW9B_ag-gCX",
        "outputId": "c7e13cd1-04fc-447d-9702-b8afcd6cb75a"
      },
      "source": [
        "# to put the columns about the date to the beginning\r\n",
        "data=data.reindex(columns=['Year', 'Month', 'Date', 'Brand', 'Vehicle_Type_Group', 'Vehicle_Type', 'Model_Year', 'Fuel_Type', 'Gear', 'CCM', 'Horse_Power', 'Color', 'Body_Type', 'Seller', 'Seller_Status', 'Kilometers', 'Price'])\r\n",
        "data.head()"
      ],
      "execution_count": null,
      "outputs": [
        {
          "output_type": "execute_result",
          "data": {
            "text/html": [
              "<div>\n",
              "<style scoped>\n",
              "    .dataframe tbody tr th:only-of-type {\n",
              "        vertical-align: middle;\n",
              "    }\n",
              "\n",
              "    .dataframe tbody tr th {\n",
              "        vertical-align: top;\n",
              "    }\n",
              "\n",
              "    .dataframe thead th {\n",
              "        text-align: right;\n",
              "    }\n",
              "</style>\n",
              "<table border=\"1\" class=\"dataframe\">\n",
              "  <thead>\n",
              "    <tr style=\"text-align: right;\">\n",
              "      <th></th>\n",
              "      <th>Year</th>\n",
              "      <th>Month</th>\n",
              "      <th>Date</th>\n",
              "      <th>Brand</th>\n",
              "      <th>Vehicle_Type_Group</th>\n",
              "      <th>Vehicle_Type</th>\n",
              "      <th>Model_Year</th>\n",
              "      <th>Fuel_Type</th>\n",
              "      <th>Gear</th>\n",
              "      <th>CCM</th>\n",
              "      <th>Horse_Power</th>\n",
              "      <th>Color</th>\n",
              "      <th>Body_Type</th>\n",
              "      <th>Seller</th>\n",
              "      <th>Seller_Status</th>\n",
              "      <th>Kilometers</th>\n",
              "      <th>Price</th>\n",
              "    </tr>\n",
              "  </thead>\n",
              "  <tbody>\n",
              "    <tr>\n",
              "      <th>0</th>\n",
              "      <td>2020</td>\n",
              "      <td>5</td>\n",
              "      <td>2020-05-27</td>\n",
              "      <td>Jaguar</td>\n",
              "      <td>XF</td>\n",
              "      <td>2.0 D Prestige Plus</td>\n",
              "      <td>2017.0</td>\n",
              "      <td>Dizel</td>\n",
              "      <td>Otomatik Vites</td>\n",
              "      <td>1801-2000 cc</td>\n",
              "      <td>176-200 BG</td>\n",
              "      <td>Lacivert</td>\n",
              "      <td>Hatchback 5 Kapı</td>\n",
              "      <td>Galeriden</td>\n",
              "      <td>2. El</td>\n",
              "      <td>26100</td>\n",
              "      <td>634500</td>\n",
              "    </tr>\n",
              "    <tr>\n",
              "      <th>1</th>\n",
              "      <td>2020</td>\n",
              "      <td>6</td>\n",
              "      <td>2020-06-16</td>\n",
              "      <td>Acura</td>\n",
              "      <td>CL</td>\n",
              "      <td>-</td>\n",
              "      <td>2015.0</td>\n",
              "      <td>Dizel</td>\n",
              "      <td>Yarı Otomatik Vites</td>\n",
              "      <td>1301-1600 cc</td>\n",
              "      <td>101-125 BG</td>\n",
              "      <td>Mavi</td>\n",
              "      <td>Sedan</td>\n",
              "      <td>Sahibinden</td>\n",
              "      <td>2. El</td>\n",
              "      <td>127000</td>\n",
              "      <td>151500</td>\n",
              "    </tr>\n",
              "    <tr>\n",
              "      <th>2</th>\n",
              "      <td>2020</td>\n",
              "      <td>6</td>\n",
              "      <td>2020-06-14</td>\n",
              "      <td>Acura</td>\n",
              "      <td>CL</td>\n",
              "      <td>2.2</td>\n",
              "      <td>1994.0</td>\n",
              "      <td>Benzin/LPG</td>\n",
              "      <td>Düz Vites</td>\n",
              "      <td>1301-1600 cc</td>\n",
              "      <td>101-125 BG</td>\n",
              "      <td>Turkuaz</td>\n",
              "      <td>Sedan</td>\n",
              "      <td>Sahibinden</td>\n",
              "      <td>2. El</td>\n",
              "      <td>175000</td>\n",
              "      <td>19750</td>\n",
              "    </tr>\n",
              "    <tr>\n",
              "      <th>3</th>\n",
              "      <td>2020</td>\n",
              "      <td>11</td>\n",
              "      <td>2020-11-06</td>\n",
              "      <td>Acura</td>\n",
              "      <td>CL</td>\n",
              "      <td>-</td>\n",
              "      <td>2013.0</td>\n",
              "      <td>Dizel</td>\n",
              "      <td>Düz Vites</td>\n",
              "      <td>1301-1600 cc</td>\n",
              "      <td>76-100 BG</td>\n",
              "      <td>Kahverengi</td>\n",
              "      <td>Sedan</td>\n",
              "      <td>Sahibinden</td>\n",
              "      <td>2. El</td>\n",
              "      <td>325</td>\n",
              "      <td>52000</td>\n",
              "    </tr>\n",
              "    <tr>\n",
              "      <th>4</th>\n",
              "      <td>2020</td>\n",
              "      <td>11</td>\n",
              "      <td>2020-11-06</td>\n",
              "      <td>Acura</td>\n",
              "      <td>CL</td>\n",
              "      <td>2.2</td>\n",
              "      <td>2010.0</td>\n",
              "      <td>Dizel</td>\n",
              "      <td>Otomatik Vites</td>\n",
              "      <td>1801-2000 cc</td>\n",
              "      <td>151-175 BG</td>\n",
              "      <td>Beyaz</td>\n",
              "      <td>Sedan</td>\n",
              "      <td>Sahibinden</td>\n",
              "      <td>2. El</td>\n",
              "      <td>207000</td>\n",
              "      <td>148750</td>\n",
              "    </tr>\n",
              "  </tbody>\n",
              "</table>\n",
              "</div>"
            ],
            "text/plain": [
              "   Year  Month       Date   Brand  ...      Seller Seller_Status  Kilometers   Price\n",
              "0  2020      5 2020-05-27  Jaguar  ...   Galeriden         2. El       26100  634500\n",
              "1  2020      6 2020-06-16   Acura  ...  Sahibinden         2. El      127000  151500\n",
              "2  2020      6 2020-06-14   Acura  ...  Sahibinden         2. El      175000   19750\n",
              "3  2020     11 2020-11-06   Acura  ...  Sahibinden         2. El         325   52000\n",
              "4  2020     11 2020-11-06   Acura  ...  Sahibinden         2. El      207000  148750\n",
              "\n",
              "[5 rows x 17 columns]"
            ]
          },
          "metadata": {
            "tags": []
          },
          "execution_count": 10
        }
      ]
    },
    {
      "cell_type": "markdown",
      "metadata": {
        "id": "OQRD8OKL6S2O"
      },
      "source": [
        "Also, we can change the type of the Model_Year from float to integer."
      ]
    },
    {
      "cell_type": "code",
      "metadata": {
        "colab": {
          "base_uri": "https://localhost:8080/",
          "height": 204
        },
        "id": "4s7CDB-V6cYN",
        "outputId": "b338aad8-3595-4a7c-c409-a79722164bf2"
      },
      "source": [
        "data['Model_Year'] = data['Model_Year'].astype(int)\r\n",
        "data.head()"
      ],
      "execution_count": null,
      "outputs": [
        {
          "output_type": "execute_result",
          "data": {
            "text/html": [
              "<div>\n",
              "<style scoped>\n",
              "    .dataframe tbody tr th:only-of-type {\n",
              "        vertical-align: middle;\n",
              "    }\n",
              "\n",
              "    .dataframe tbody tr th {\n",
              "        vertical-align: top;\n",
              "    }\n",
              "\n",
              "    .dataframe thead th {\n",
              "        text-align: right;\n",
              "    }\n",
              "</style>\n",
              "<table border=\"1\" class=\"dataframe\">\n",
              "  <thead>\n",
              "    <tr style=\"text-align: right;\">\n",
              "      <th></th>\n",
              "      <th>Year</th>\n",
              "      <th>Month</th>\n",
              "      <th>Date</th>\n",
              "      <th>Brand</th>\n",
              "      <th>Vehicle_Type_Group</th>\n",
              "      <th>Vehicle_Type</th>\n",
              "      <th>Model_Year</th>\n",
              "      <th>Fuel_Type</th>\n",
              "      <th>Gear</th>\n",
              "      <th>CCM</th>\n",
              "      <th>Horse_Power</th>\n",
              "      <th>Color</th>\n",
              "      <th>Body_Type</th>\n",
              "      <th>Seller</th>\n",
              "      <th>Seller_Status</th>\n",
              "      <th>Kilometers</th>\n",
              "      <th>Price</th>\n",
              "    </tr>\n",
              "  </thead>\n",
              "  <tbody>\n",
              "    <tr>\n",
              "      <th>0</th>\n",
              "      <td>2020</td>\n",
              "      <td>5</td>\n",
              "      <td>2020-05-27</td>\n",
              "      <td>Jaguar</td>\n",
              "      <td>XF</td>\n",
              "      <td>2.0 D Prestige Plus</td>\n",
              "      <td>2017</td>\n",
              "      <td>Dizel</td>\n",
              "      <td>Otomatik Vites</td>\n",
              "      <td>1801-2000 cc</td>\n",
              "      <td>176-200 BG</td>\n",
              "      <td>Lacivert</td>\n",
              "      <td>Hatchback 5 Kapı</td>\n",
              "      <td>Galeriden</td>\n",
              "      <td>2. El</td>\n",
              "      <td>26100</td>\n",
              "      <td>634500</td>\n",
              "    </tr>\n",
              "    <tr>\n",
              "      <th>1</th>\n",
              "      <td>2020</td>\n",
              "      <td>6</td>\n",
              "      <td>2020-06-16</td>\n",
              "      <td>Acura</td>\n",
              "      <td>CL</td>\n",
              "      <td>-</td>\n",
              "      <td>2015</td>\n",
              "      <td>Dizel</td>\n",
              "      <td>Yarı Otomatik Vites</td>\n",
              "      <td>1301-1600 cc</td>\n",
              "      <td>101-125 BG</td>\n",
              "      <td>Mavi</td>\n",
              "      <td>Sedan</td>\n",
              "      <td>Sahibinden</td>\n",
              "      <td>2. El</td>\n",
              "      <td>127000</td>\n",
              "      <td>151500</td>\n",
              "    </tr>\n",
              "    <tr>\n",
              "      <th>2</th>\n",
              "      <td>2020</td>\n",
              "      <td>6</td>\n",
              "      <td>2020-06-14</td>\n",
              "      <td>Acura</td>\n",
              "      <td>CL</td>\n",
              "      <td>2.2</td>\n",
              "      <td>1994</td>\n",
              "      <td>Benzin/LPG</td>\n",
              "      <td>Düz Vites</td>\n",
              "      <td>1301-1600 cc</td>\n",
              "      <td>101-125 BG</td>\n",
              "      <td>Turkuaz</td>\n",
              "      <td>Sedan</td>\n",
              "      <td>Sahibinden</td>\n",
              "      <td>2. El</td>\n",
              "      <td>175000</td>\n",
              "      <td>19750</td>\n",
              "    </tr>\n",
              "    <tr>\n",
              "      <th>3</th>\n",
              "      <td>2020</td>\n",
              "      <td>11</td>\n",
              "      <td>2020-11-06</td>\n",
              "      <td>Acura</td>\n",
              "      <td>CL</td>\n",
              "      <td>-</td>\n",
              "      <td>2013</td>\n",
              "      <td>Dizel</td>\n",
              "      <td>Düz Vites</td>\n",
              "      <td>1301-1600 cc</td>\n",
              "      <td>76-100 BG</td>\n",
              "      <td>Kahverengi</td>\n",
              "      <td>Sedan</td>\n",
              "      <td>Sahibinden</td>\n",
              "      <td>2. El</td>\n",
              "      <td>325</td>\n",
              "      <td>52000</td>\n",
              "    </tr>\n",
              "    <tr>\n",
              "      <th>4</th>\n",
              "      <td>2020</td>\n",
              "      <td>11</td>\n",
              "      <td>2020-11-06</td>\n",
              "      <td>Acura</td>\n",
              "      <td>CL</td>\n",
              "      <td>2.2</td>\n",
              "      <td>2010</td>\n",
              "      <td>Dizel</td>\n",
              "      <td>Otomatik Vites</td>\n",
              "      <td>1801-2000 cc</td>\n",
              "      <td>151-175 BG</td>\n",
              "      <td>Beyaz</td>\n",
              "      <td>Sedan</td>\n",
              "      <td>Sahibinden</td>\n",
              "      <td>2. El</td>\n",
              "      <td>207000</td>\n",
              "      <td>148750</td>\n",
              "    </tr>\n",
              "  </tbody>\n",
              "</table>\n",
              "</div>"
            ],
            "text/plain": [
              "   Year  Month       Date   Brand  ...      Seller Seller_Status  Kilometers   Price\n",
              "0  2020      5 2020-05-27  Jaguar  ...   Galeriden         2. El       26100  634500\n",
              "1  2020      6 2020-06-16   Acura  ...  Sahibinden         2. El      127000  151500\n",
              "2  2020      6 2020-06-14   Acura  ...  Sahibinden         2. El      175000   19750\n",
              "3  2020     11 2020-11-06   Acura  ...  Sahibinden         2. El         325   52000\n",
              "4  2020     11 2020-11-06   Acura  ...  Sahibinden         2. El      207000  148750\n",
              "\n",
              "[5 rows x 17 columns]"
            ]
          },
          "metadata": {
            "tags": []
          },
          "execution_count": 11
        }
      ]
    },
    {
      "cell_type": "markdown",
      "metadata": {
        "id": "8mo_33K4_Xmx"
      },
      "source": [
        "From now on, we have all columns ready for future analysis and models."
      ]
    },
    {
      "cell_type": "markdown",
      "metadata": {
        "id": "TNH0ZHG8_kf-"
      },
      "source": [
        "As we added two more columns, we have 17 columns. We have some categorical columns and numerical columns."
      ]
    },
    {
      "cell_type": "code",
      "metadata": {
        "colab": {
          "base_uri": "https://localhost:8080/"
        },
        "id": "ibYnD_Mb_iCf",
        "outputId": "f8a1117e-8bd2-473e-c717-d4da3132faf1"
      },
      "source": [
        "data.info()"
      ],
      "execution_count": null,
      "outputs": [
        {
          "output_type": "stream",
          "text": [
            "<class 'pandas.core.frame.DataFrame'>\n",
            "RangeIndex: 9044 entries, 0 to 9043\n",
            "Data columns (total 17 columns):\n",
            " #   Column              Non-Null Count  Dtype         \n",
            "---  ------              --------------  -----         \n",
            " 0   Year                9044 non-null   int64         \n",
            " 1   Month               9044 non-null   int64         \n",
            " 2   Date                9044 non-null   datetime64[ns]\n",
            " 3   Brand               9044 non-null   object        \n",
            " 4   Vehicle_Type_Group  9044 non-null   object        \n",
            " 5   Vehicle_Type        9044 non-null   object        \n",
            " 6   Model_Year          9044 non-null   int64         \n",
            " 7   Fuel_Type           9044 non-null   object        \n",
            " 8   Gear                9044 non-null   object        \n",
            " 9   CCM                 9044 non-null   object        \n",
            " 10  Horse_Power         9044 non-null   object        \n",
            " 11  Color               9044 non-null   object        \n",
            " 12  Body_Type           9044 non-null   object        \n",
            " 13  Seller              9044 non-null   object        \n",
            " 14  Seller_Status       9044 non-null   object        \n",
            " 15  Kilometers          9044 non-null   int64         \n",
            " 16  Price               9044 non-null   int64         \n",
            "dtypes: datetime64[ns](1), int64(5), object(11)\n",
            "memory usage: 1.2+ MB\n"
          ],
          "name": "stdout"
        }
      ]
    },
    {
      "cell_type": "markdown",
      "metadata": {
        "id": "K9x97V6q_2nx"
      },
      "source": [
        "#### Handling “Don’t Know” Values :"
      ]
    },
    {
      "cell_type": "markdown",
      "metadata": {
        "id": "eNl9pwnwAAfB"
      },
      "source": [
        "As always, we need to check for null values in the data."
      ]
    },
    {
      "cell_type": "code",
      "metadata": {
        "colab": {
          "base_uri": "https://localhost:8080/"
        },
        "id": "IYe-tdJg_5XR",
        "outputId": "84ee350a-0b2b-47aa-a5d5-349d9b1187da"
      },
      "source": [
        "data.isnull().any()"
      ],
      "execution_count": null,
      "outputs": [
        {
          "output_type": "execute_result",
          "data": {
            "text/plain": [
              "Year                  False\n",
              "Month                 False\n",
              "Date                  False\n",
              "Brand                 False\n",
              "Vehicle_Type_Group    False\n",
              "Vehicle_Type          False\n",
              "Model_Year            False\n",
              "Fuel_Type             False\n",
              "Gear                  False\n",
              "CCM                   False\n",
              "Horse_Power           False\n",
              "Color                 False\n",
              "Body_Type             False\n",
              "Seller                False\n",
              "Seller_Status         False\n",
              "Kilometers            False\n",
              "Price                 False\n",
              "dtype: bool"
            ]
          },
          "metadata": {
            "tags": []
          },
          "execution_count": 13
        }
      ]
    },
    {
      "cell_type": "markdown",
      "metadata": {
        "id": "lRQpAjimFVWm"
      },
      "source": [
        "When we look for null values, the data don’t have any null values. But, there are some rows that contains Don’t Know (Bilmiyorum) value in CCM and Horse_Power columns."
      ]
    },
    {
      "cell_type": "code",
      "metadata": {
        "colab": {
          "base_uri": "https://localhost:8080/"
        },
        "id": "ywdeXjVEHU0e",
        "outputId": "fd456682-2573-40df-8e42-c82cdc52ca55"
      },
      "source": [
        "columns=data.columns\r\n",
        "for i in columns:\r\n",
        "  print(i, len(data.loc[data[i] == \"Bilmiyorum\"]))"
      ],
      "execution_count": null,
      "outputs": [
        {
          "output_type": "stream",
          "text": [
            "Year 0\n",
            "Month 0\n",
            "Date 0\n",
            "Brand 0\n",
            "Vehicle_Type_Group 0\n",
            "Vehicle_Type 0\n",
            "Model_Year 0\n",
            "Fuel_Type 0\n",
            "Gear 0\n",
            "CCM 108\n",
            "Horse_Power 5549\n",
            "Color 0\n",
            "Body_Type 0\n",
            "Seller 0\n",
            "Seller_Status 0\n",
            "Kilometers 0\n",
            "Price 0\n"
          ],
          "name": "stdout"
        }
      ]
    },
    {
      "cell_type": "code",
      "metadata": {
        "colab": {
          "base_uri": "https://localhost:8080/"
        },
        "id": "If6fqdnKG_u_",
        "outputId": "35978781-d69f-4295-a757-66c04527537b"
      },
      "source": [
        "len(data.loc[data['Horse_Power'] == \"Bilmiyorum\"])"
      ],
      "execution_count": null,
      "outputs": [
        {
          "output_type": "execute_result",
          "data": {
            "text/plain": [
              "5549"
            ]
          },
          "metadata": {
            "tags": []
          },
          "execution_count": 15
        }
      ]
    },
    {
      "cell_type": "code",
      "metadata": {
        "colab": {
          "base_uri": "https://localhost:8080/"
        },
        "id": "Ym0GFHQKHqRN",
        "outputId": "970df97c-58fa-4c60-f4a7-3eb1cb85e501"
      },
      "source": [
        "len(data.loc[data['CCM'] == \"Bilmiyorum\"])"
      ],
      "execution_count": null,
      "outputs": [
        {
          "output_type": "execute_result",
          "data": {
            "text/plain": [
              "108"
            ]
          },
          "metadata": {
            "tags": []
          },
          "execution_count": 16
        }
      ]
    },
    {
      "cell_type": "markdown",
      "metadata": {
        "id": "Rh0GAUWlGQ3e"
      },
      "source": [
        "We can replace the 'Bilmiyorum' values to NaN."
      ]
    },
    {
      "cell_type": "code",
      "metadata": {
        "id": "HDWn2iZYEuQL"
      },
      "source": [
        "data = data.replace({'Bilmiyorum': np.nan})"
      ],
      "execution_count": null,
      "outputs": []
    },
    {
      "cell_type": "code",
      "metadata": {
        "colab": {
          "base_uri": "https://localhost:8080/",
          "height": 49
        },
        "id": "qqBRWikpGTrr",
        "outputId": "42037853-4917-4b2a-8e60-ba575dd2b82f"
      },
      "source": [
        "data.loc[data['Horse_Power'] == \"Bilmiyorum\"]"
      ],
      "execution_count": null,
      "outputs": [
        {
          "output_type": "execute_result",
          "data": {
            "text/html": [
              "<div>\n",
              "<style scoped>\n",
              "    .dataframe tbody tr th:only-of-type {\n",
              "        vertical-align: middle;\n",
              "    }\n",
              "\n",
              "    .dataframe tbody tr th {\n",
              "        vertical-align: top;\n",
              "    }\n",
              "\n",
              "    .dataframe thead th {\n",
              "        text-align: right;\n",
              "    }\n",
              "</style>\n",
              "<table border=\"1\" class=\"dataframe\">\n",
              "  <thead>\n",
              "    <tr style=\"text-align: right;\">\n",
              "      <th></th>\n",
              "      <th>Year</th>\n",
              "      <th>Month</th>\n",
              "      <th>Date</th>\n",
              "      <th>Brand</th>\n",
              "      <th>Vehicle_Type_Group</th>\n",
              "      <th>Vehicle_Type</th>\n",
              "      <th>Model_Year</th>\n",
              "      <th>Fuel_Type</th>\n",
              "      <th>Gear</th>\n",
              "      <th>CCM</th>\n",
              "      <th>Horse_Power</th>\n",
              "      <th>Color</th>\n",
              "      <th>Body_Type</th>\n",
              "      <th>Seller</th>\n",
              "      <th>Seller_Status</th>\n",
              "      <th>Kilometers</th>\n",
              "      <th>Price</th>\n",
              "    </tr>\n",
              "  </thead>\n",
              "  <tbody>\n",
              "  </tbody>\n",
              "</table>\n",
              "</div>"
            ],
            "text/plain": [
              "Empty DataFrame\n",
              "Columns: [Year, Month, Date, Brand, Vehicle_Type_Group, Vehicle_Type, Model_Year, Fuel_Type, Gear, CCM, Horse_Power, Color, Body_Type, Seller, Seller_Status, Kilometers, Price]\n",
              "Index: []"
            ]
          },
          "metadata": {
            "tags": []
          },
          "execution_count": 18
        }
      ]
    },
    {
      "cell_type": "code",
      "metadata": {
        "colab": {
          "base_uri": "https://localhost:8080/",
          "height": 49
        },
        "id": "cMlw-NdN50dw",
        "outputId": "b630069b-4d8f-4c2f-d0df-a7f9dac29e21"
      },
      "source": [
        "data.loc[data['CCM'] == \"Bilmiyorum\"]"
      ],
      "execution_count": null,
      "outputs": [
        {
          "output_type": "execute_result",
          "data": {
            "text/html": [
              "<div>\n",
              "<style scoped>\n",
              "    .dataframe tbody tr th:only-of-type {\n",
              "        vertical-align: middle;\n",
              "    }\n",
              "\n",
              "    .dataframe tbody tr th {\n",
              "        vertical-align: top;\n",
              "    }\n",
              "\n",
              "    .dataframe thead th {\n",
              "        text-align: right;\n",
              "    }\n",
              "</style>\n",
              "<table border=\"1\" class=\"dataframe\">\n",
              "  <thead>\n",
              "    <tr style=\"text-align: right;\">\n",
              "      <th></th>\n",
              "      <th>Year</th>\n",
              "      <th>Month</th>\n",
              "      <th>Date</th>\n",
              "      <th>Brand</th>\n",
              "      <th>Vehicle_Type_Group</th>\n",
              "      <th>Vehicle_Type</th>\n",
              "      <th>Model_Year</th>\n",
              "      <th>Fuel_Type</th>\n",
              "      <th>Gear</th>\n",
              "      <th>CCM</th>\n",
              "      <th>Horse_Power</th>\n",
              "      <th>Color</th>\n",
              "      <th>Body_Type</th>\n",
              "      <th>Seller</th>\n",
              "      <th>Seller_Status</th>\n",
              "      <th>Kilometers</th>\n",
              "      <th>Price</th>\n",
              "    </tr>\n",
              "  </thead>\n",
              "  <tbody>\n",
              "  </tbody>\n",
              "</table>\n",
              "</div>"
            ],
            "text/plain": [
              "Empty DataFrame\n",
              "Columns: [Year, Month, Date, Brand, Vehicle_Type_Group, Vehicle_Type, Model_Year, Fuel_Type, Gear, CCM, Horse_Power, Color, Body_Type, Seller, Seller_Status, Kilometers, Price]\n",
              "Index: []"
            ]
          },
          "metadata": {
            "tags": []
          },
          "execution_count": 19
        }
      ]
    },
    {
      "cell_type": "markdown",
      "metadata": {
        "id": "Dw-pQKnlGaaf"
      },
      "source": [
        "There are a total of 9044 observations in the data set. The Horse_Power column consists of 5549 NaN values, which is more than fifty percent of the data set. We can remove this column from the dataset as we don't need to take risks."
      ]
    },
    {
      "cell_type": "code",
      "metadata": {
        "id": "OvFm04FmDm66"
      },
      "source": [
        "data = data.drop(columns=['Horse_Power'])"
      ],
      "execution_count": null,
      "outputs": []
    },
    {
      "cell_type": "markdown",
      "metadata": {
        "id": "SjeId-0QIWz4"
      },
      "source": [
        "The dataset has 16 columns anymore. But we have still NaN values in the CCM column. For these NaN values, we can calculate the most frequently recurring values that is the mode and then fill in the NaN values with this value."
      ]
    },
    {
      "cell_type": "code",
      "metadata": {
        "colab": {
          "base_uri": "https://localhost:8080/"
        },
        "id": "8YCOod_XIR48",
        "outputId": "63023417-7a54-4f6e-93df-137b71f1b8e6"
      },
      "source": [
        "data.info()"
      ],
      "execution_count": null,
      "outputs": [
        {
          "output_type": "stream",
          "text": [
            "<class 'pandas.core.frame.DataFrame'>\n",
            "RangeIndex: 9044 entries, 0 to 9043\n",
            "Data columns (total 16 columns):\n",
            " #   Column              Non-Null Count  Dtype         \n",
            "---  ------              --------------  -----         \n",
            " 0   Year                9044 non-null   int64         \n",
            " 1   Month               9044 non-null   int64         \n",
            " 2   Date                9044 non-null   datetime64[ns]\n",
            " 3   Brand               9044 non-null   object        \n",
            " 4   Vehicle_Type_Group  9044 non-null   object        \n",
            " 5   Vehicle_Type        9044 non-null   object        \n",
            " 6   Model_Year          9044 non-null   int64         \n",
            " 7   Fuel_Type           9044 non-null   object        \n",
            " 8   Gear                9044 non-null   object        \n",
            " 9   CCM                 8936 non-null   object        \n",
            " 10  Color               9044 non-null   object        \n",
            " 11  Body_Type           9044 non-null   object        \n",
            " 12  Seller              9044 non-null   object        \n",
            " 13  Seller_Status       9044 non-null   object        \n",
            " 14  Kilometers          9044 non-null   int64         \n",
            " 15  Price               9044 non-null   int64         \n",
            "dtypes: datetime64[ns](1), int64(5), object(10)\n",
            "memory usage: 1.1+ MB\n"
          ],
          "name": "stdout"
        }
      ]
    },
    {
      "cell_type": "markdown",
      "metadata": {
        "id": "CI4EO__s15rP"
      },
      "source": [
        "The CCM columns has 108 NaN values"
      ]
    },
    {
      "cell_type": "code",
      "metadata": {
        "colab": {
          "base_uri": "https://localhost:8080/"
        },
        "id": "FN5puUlOK3kF",
        "outputId": "030a3623-280e-4f05-d0b2-46a7879dc933"
      },
      "source": [
        "data['CCM'].isnull().any()"
      ],
      "execution_count": null,
      "outputs": [
        {
          "output_type": "execute_result",
          "data": {
            "text/plain": [
              "True"
            ]
          },
          "metadata": {
            "tags": []
          },
          "execution_count": 22
        }
      ]
    },
    {
      "cell_type": "code",
      "metadata": {
        "id": "4sCiwedmR2hW"
      },
      "source": [
        "#filling NaN values with the mode.\r\n",
        "data['CCM'] = data['CCM'].fillna(data['CCM'].mode()[0])"
      ],
      "execution_count": null,
      "outputs": []
    },
    {
      "cell_type": "code",
      "metadata": {
        "colab": {
          "base_uri": "https://localhost:8080/"
        },
        "id": "zltaarou2eRA",
        "outputId": "358f8968-84df-4055-f38e-5a2ffdfe61c4"
      },
      "source": [
        "#the dataframe does not have any NaN value.\r\n",
        "\r\n",
        "data['CCM'].isnull().values.any() \r\n",
        "data.isnull().any()"
      ],
      "execution_count": null,
      "outputs": [
        {
          "output_type": "execute_result",
          "data": {
            "text/plain": [
              "Year                  False\n",
              "Month                 False\n",
              "Date                  False\n",
              "Brand                 False\n",
              "Vehicle_Type_Group    False\n",
              "Vehicle_Type          False\n",
              "Model_Year            False\n",
              "Fuel_Type             False\n",
              "Gear                  False\n",
              "CCM                   False\n",
              "Color                 False\n",
              "Body_Type             False\n",
              "Seller                False\n",
              "Seller_Status         False\n",
              "Kilometers            False\n",
              "Price                 False\n",
              "dtype: bool"
            ]
          },
          "metadata": {
            "tags": []
          },
          "execution_count": 24
        }
      ]
    },
    {
      "cell_type": "code",
      "metadata": {
        "colab": {
          "base_uri": "https://localhost:8080/"
        },
        "id": "zgL_FqoJ2zEK",
        "outputId": "dd0cec0d-061b-4fcb-b972-f417e2fd5387"
      },
      "source": [
        "data['CCM'].head(100)"
      ],
      "execution_count": null,
      "outputs": [
        {
          "output_type": "execute_result",
          "data": {
            "text/plain": [
              "0        1801-2000 cc\n",
              "1        1301-1600 cc\n",
              "2        1301-1600 cc\n",
              "3        1301-1600 cc\n",
              "4        1801-2000 cc\n",
              "           ...       \n",
              "95       1801-2000 cc\n",
              "96       1801-2000 cc\n",
              "97       1801-2000 cc\n",
              "98    1300 cc ve altı\n",
              "99       1801-2000 cc\n",
              "Name: CCM, Length: 100, dtype: object"
            ]
          },
          "metadata": {
            "tags": []
          },
          "execution_count": 25
        }
      ]
    },
    {
      "cell_type": "markdown",
      "metadata": {
        "id": "9n0jLNPu5GC4"
      },
      "source": [
        "#### Check Accuracy of Values :"
      ]
    },
    {
      "cell_type": "markdown",
      "metadata": {
        "id": "U2LT6kbM5UA5"
      },
      "source": [
        "Before starting any of the analysis, we need to check the accuracy of values. For example, we can look for the **Price** column that has negative values."
      ]
    },
    {
      "cell_type": "code",
      "metadata": {
        "colab": {
          "base_uri": "https://localhost:8080/"
        },
        "id": "WptGLK6b5U3F",
        "outputId": "41e5b890-4911-4719-afa6-c2dba48fe426"
      },
      "source": [
        "len(data.loc[data['Price'] < 0])"
      ],
      "execution_count": null,
      "outputs": [
        {
          "output_type": "execute_result",
          "data": {
            "text/plain": [
              "0"
            ]
          },
          "metadata": {
            "tags": []
          },
          "execution_count": 26
        }
      ]
    },
    {
      "cell_type": "markdown",
      "metadata": {
        "id": "zRqXck9w5vrD"
      },
      "source": [
        "So, we can say that the values in the Price column are valid values. We can look for the **Kilometers** column that has negative values."
      ]
    },
    {
      "cell_type": "code",
      "metadata": {
        "colab": {
          "base_uri": "https://localhost:8080/"
        },
        "id": "pMReFPnx5usf",
        "outputId": "3add00f5-777d-4d96-de4d-988a9f9fd791"
      },
      "source": [
        "len(data.loc[data['Kilometers'] < 0])"
      ],
      "execution_count": null,
      "outputs": [
        {
          "output_type": "execute_result",
          "data": {
            "text/plain": [
              "0"
            ]
          },
          "metadata": {
            "tags": []
          },
          "execution_count": 27
        }
      ]
    },
    {
      "cell_type": "markdown",
      "metadata": {
        "id": "GEDeZMJ451tq"
      },
      "source": [
        "So, we can say that the values in the Kilometers column are valid values. We can look for the **Model_Year** column that has values that can not be a year."
      ]
    },
    {
      "cell_type": "code",
      "metadata": {
        "colab": {
          "base_uri": "https://localhost:8080/"
        },
        "id": "3hKoXf6R7l4e",
        "outputId": "3fc5caf5-95fa-4d06-ce52-3cc903b74d7c"
      },
      "source": [
        " sorted(data['Model_Year'].unique())"
      ],
      "execution_count": null,
      "outputs": [
        {
          "output_type": "execute_result",
          "data": {
            "text/plain": [
              "[1959,\n",
              " 1961,\n",
              " 1976,\n",
              " 1977,\n",
              " 1978,\n",
              " 1979,\n",
              " 1981,\n",
              " 1982,\n",
              " 1983,\n",
              " 1984,\n",
              " 1985,\n",
              " 1986,\n",
              " 1987,\n",
              " 1988,\n",
              " 1989,\n",
              " 1990,\n",
              " 1991,\n",
              " 1992,\n",
              " 1993,\n",
              " 1994,\n",
              " 1995,\n",
              " 1996,\n",
              " 1997,\n",
              " 1998,\n",
              " 1999,\n",
              " 2000,\n",
              " 2001,\n",
              " 2002,\n",
              " 2003,\n",
              " 2004,\n",
              " 2005,\n",
              " 2006,\n",
              " 2007,\n",
              " 2008,\n",
              " 2009,\n",
              " 2010,\n",
              " 2011,\n",
              " 2012,\n",
              " 2013,\n",
              " 2014,\n",
              " 2015,\n",
              " 2016,\n",
              " 2017,\n",
              " 2018,\n",
              " 2019,\n",
              " 2020]"
            ]
          },
          "metadata": {
            "tags": []
          },
          "execution_count": 30
        }
      ]
    },
    {
      "cell_type": "code",
      "metadata": {
        "colab": {
          "base_uri": "https://localhost:8080/"
        },
        "id": "poQG1OmvBRFj",
        "outputId": "7a631a77-261c-4f91-9fb7-0f76b59d02b6"
      },
      "source": [
        "data['Model_Year'] > pd.DatetimeIndex(data['Date']).year"
      ],
      "execution_count": null,
      "outputs": [
        {
          "output_type": "execute_result",
          "data": {
            "text/plain": [
              "0       False\n",
              "1       False\n",
              "2       False\n",
              "3       False\n",
              "4       False\n",
              "        ...  \n",
              "9039    False\n",
              "9040    False\n",
              "9041    False\n",
              "9042    False\n",
              "9043    False\n",
              "Length: 9044, dtype: bool"
            ]
          },
          "metadata": {
            "tags": []
          },
          "execution_count": 31
        }
      ]
    },
    {
      "cell_type": "markdown",
      "metadata": {
        "id": "sYuyMghuEk2s"
      },
      "source": [
        "So, we can say that the values in the Model_Year column are valid values and model years of all cars in the advertisements are appropriate with dates of advertisements. We can check for the advertisements whose Seller_Status is 2nd Hand and Kilometers is 0."
      ]
    },
    {
      "cell_type": "code",
      "metadata": {
        "colab": {
          "base_uri": "https://localhost:8080/",
          "height": 297
        },
        "id": "BJJPC2KGHdy6",
        "outputId": "c040812e-e323-4eca-e01f-3d9579235e0e"
      },
      "source": [
        "data.loc[(data['Seller_Status'] == '2. El') & (data['Kilometers'] == 0)]"
      ],
      "execution_count": null,
      "outputs": [
        {
          "output_type": "execute_result",
          "data": {
            "text/html": [
              "<div>\n",
              "<style scoped>\n",
              "    .dataframe tbody tr th:only-of-type {\n",
              "        vertical-align: middle;\n",
              "    }\n",
              "\n",
              "    .dataframe tbody tr th {\n",
              "        vertical-align: top;\n",
              "    }\n",
              "\n",
              "    .dataframe thead th {\n",
              "        text-align: right;\n",
              "    }\n",
              "</style>\n",
              "<table border=\"1\" class=\"dataframe\">\n",
              "  <thead>\n",
              "    <tr style=\"text-align: right;\">\n",
              "      <th></th>\n",
              "      <th>Year</th>\n",
              "      <th>Month</th>\n",
              "      <th>Date</th>\n",
              "      <th>Brand</th>\n",
              "      <th>Vehicle_Type_Group</th>\n",
              "      <th>Vehicle_Type</th>\n",
              "      <th>Model_Year</th>\n",
              "      <th>Fuel_Type</th>\n",
              "      <th>Gear</th>\n",
              "      <th>CCM</th>\n",
              "      <th>Color</th>\n",
              "      <th>Body_Type</th>\n",
              "      <th>Seller</th>\n",
              "      <th>Seller_Status</th>\n",
              "      <th>Kilometers</th>\n",
              "      <th>Price</th>\n",
              "    </tr>\n",
              "  </thead>\n",
              "  <tbody>\n",
              "    <tr>\n",
              "      <th>1712</th>\n",
              "      <td>2020</td>\n",
              "      <td>11</td>\n",
              "      <td>2020-11-06</td>\n",
              "      <td>Fiat</td>\n",
              "      <td>Tipo</td>\n",
              "      <td>1.4 SX ie</td>\n",
              "      <td>1997</td>\n",
              "      <td>Benzin/LPG</td>\n",
              "      <td>Düz Vites</td>\n",
              "      <td>1301-1600 cc</td>\n",
              "      <td>Mavi</td>\n",
              "      <td>Hatchback 5 Kapı</td>\n",
              "      <td>Sahibinden</td>\n",
              "      <td>2. El</td>\n",
              "      <td>0</td>\n",
              "      <td>15300</td>\n",
              "    </tr>\n",
              "    <tr>\n",
              "      <th>2318</th>\n",
              "      <td>2020</td>\n",
              "      <td>3</td>\n",
              "      <td>2020-03-24</td>\n",
              "      <td>Fiat</td>\n",
              "      <td>Diğer</td>\n",
              "      <td>Diğer</td>\n",
              "      <td>1995</td>\n",
              "      <td>Benzin/LPG</td>\n",
              "      <td>Düz Vites</td>\n",
              "      <td>1301-1600 cc</td>\n",
              "      <td>Mavi</td>\n",
              "      <td>Hatchback 5 Kapı</td>\n",
              "      <td>Sahibinden</td>\n",
              "      <td>2. El</td>\n",
              "      <td>0</td>\n",
              "      <td>20500</td>\n",
              "    </tr>\n",
              "    <tr>\n",
              "      <th>3938</th>\n",
              "      <td>2020</td>\n",
              "      <td>3</td>\n",
              "      <td>2020-03-20</td>\n",
              "      <td>Jeep</td>\n",
              "      <td>CJ-6</td>\n",
              "      <td>CJ-6</td>\n",
              "      <td>1979</td>\n",
              "      <td>Benzin/LPG</td>\n",
              "      <td>Düz Vites</td>\n",
              "      <td>1300 cc ve altı</td>\n",
              "      <td>Gri</td>\n",
              "      <td>Diğer</td>\n",
              "      <td>Galeriden</td>\n",
              "      <td>2. El</td>\n",
              "      <td>0</td>\n",
              "      <td>69950</td>\n",
              "    </tr>\n",
              "    <tr>\n",
              "      <th>4672</th>\n",
              "      <td>2020</td>\n",
              "      <td>4</td>\n",
              "      <td>2020-04-18</td>\n",
              "      <td>Mercedes</td>\n",
              "      <td>Diğer</td>\n",
              "      <td>Diğer</td>\n",
              "      <td>1976</td>\n",
              "      <td>Benzin</td>\n",
              "      <td>Düz Vites</td>\n",
              "      <td>1300 cc ve altı</td>\n",
              "      <td>Kırmızı</td>\n",
              "      <td>Diğer</td>\n",
              "      <td>Galeriden</td>\n",
              "      <td>2. El</td>\n",
              "      <td>0</td>\n",
              "      <td>107000</td>\n",
              "    </tr>\n",
              "    <tr>\n",
              "      <th>5026</th>\n",
              "      <td>2020</td>\n",
              "      <td>3</td>\n",
              "      <td>2020-03-06</td>\n",
              "      <td>Nissan</td>\n",
              "      <td>Navara</td>\n",
              "      <td>2.5 TDI 4X4 LE</td>\n",
              "      <td>2008</td>\n",
              "      <td>Dizel</td>\n",
              "      <td>Otomatik Vites</td>\n",
              "      <td>2001-2500 cc</td>\n",
              "      <td>Siyah</td>\n",
              "      <td>Arazi Aracı</td>\n",
              "      <td>Galeriden</td>\n",
              "      <td>2. El</td>\n",
              "      <td>0</td>\n",
              "      <td>79750</td>\n",
              "    </tr>\n",
              "    <tr>\n",
              "      <th>5027</th>\n",
              "      <td>2020</td>\n",
              "      <td>3</td>\n",
              "      <td>2020-03-06</td>\n",
              "      <td>Nissan</td>\n",
              "      <td>Navara</td>\n",
              "      <td>2.5 TDI 4X4 LE</td>\n",
              "      <td>2008</td>\n",
              "      <td>Dizel</td>\n",
              "      <td>Otomatik Vites</td>\n",
              "      <td>2001-2500 cc</td>\n",
              "      <td>Siyah</td>\n",
              "      <td>Arazi Aracı</td>\n",
              "      <td>Galeriden</td>\n",
              "      <td>2. El</td>\n",
              "      <td>0</td>\n",
              "      <td>79750</td>\n",
              "    </tr>\n",
              "    <tr>\n",
              "      <th>5315</th>\n",
              "      <td>2020</td>\n",
              "      <td>12</td>\n",
              "      <td>2020-12-06</td>\n",
              "      <td>Opel</td>\n",
              "      <td>Corsa</td>\n",
              "      <td>1.2 Edition</td>\n",
              "      <td>2020</td>\n",
              "      <td>Benzin</td>\n",
              "      <td>Otomatik Vites</td>\n",
              "      <td>1300 cc ve altı</td>\n",
              "      <td>Turuncu</td>\n",
              "      <td>Hatchback 5 Kapı</td>\n",
              "      <td>Galeriden</td>\n",
              "      <td>2. El</td>\n",
              "      <td>0</td>\n",
              "      <td>159900</td>\n",
              "    </tr>\n",
              "    <tr>\n",
              "      <th>9021</th>\n",
              "      <td>2020</td>\n",
              "      <td>12</td>\n",
              "      <td>2020-12-06</td>\n",
              "      <td>Tofaş</td>\n",
              "      <td>Şahin</td>\n",
              "      <td>Şahin 5 vites</td>\n",
              "      <td>1992</td>\n",
              "      <td>Benzin/LPG</td>\n",
              "      <td>Düz Vites</td>\n",
              "      <td>1301-1600 cc</td>\n",
              "      <td>Siyah</td>\n",
              "      <td>Sedan</td>\n",
              "      <td>Sahibinden</td>\n",
              "      <td>2. El</td>\n",
              "      <td>0</td>\n",
              "      <td>13500</td>\n",
              "    </tr>\n",
              "  </tbody>\n",
              "</table>\n",
              "</div>"
            ],
            "text/plain": [
              "      Year  Month       Date  ... Seller_Status Kilometers   Price\n",
              "1712  2020     11 2020-11-06  ...         2. El          0   15300\n",
              "2318  2020      3 2020-03-24  ...         2. El          0   20500\n",
              "3938  2020      3 2020-03-20  ...         2. El          0   69950\n",
              "4672  2020      4 2020-04-18  ...         2. El          0  107000\n",
              "5026  2020      3 2020-03-06  ...         2. El          0   79750\n",
              "5027  2020      3 2020-03-06  ...         2. El          0   79750\n",
              "5315  2020     12 2020-12-06  ...         2. El          0  159900\n",
              "9021  2020     12 2020-12-06  ...         2. El          0   13500\n",
              "\n",
              "[8 rows x 16 columns]"
            ]
          },
          "metadata": {
            "tags": []
          },
          "execution_count": 32
        }
      ]
    },
    {
      "cell_type": "markdown",
      "metadata": {
        "id": "6__dBR5NHvpA"
      },
      "source": [
        "There are 8 advertisements meaning that the Seller (sahibinden, Galeriden) has a secondhand car, which means the car is used, but it is not driven any kilometers. In practice it is not a common case but we can assume that it can be correct."
      ]
    },
    {
      "cell_type": "markdown",
      "metadata": {
        "id": "oKivX8mLH466"
      },
      "source": [
        "We can check for the highest 10 price in the dataset."
      ]
    },
    {
      "cell_type": "code",
      "metadata": {
        "colab": {
          "base_uri": "https://localhost:8080/",
          "height": 359
        },
        "id": "6akL5emHJrKT",
        "outputId": "86ec7ab2-3735-4b80-f189-85247ce7c2eb"
      },
      "source": [
        "data.sort_values(by='Price', ascending=False).head(10)"
      ],
      "execution_count": null,
      "outputs": [
        {
          "output_type": "execute_result",
          "data": {
            "text/html": [
              "<div>\n",
              "<style scoped>\n",
              "    .dataframe tbody tr th:only-of-type {\n",
              "        vertical-align: middle;\n",
              "    }\n",
              "\n",
              "    .dataframe tbody tr th {\n",
              "        vertical-align: top;\n",
              "    }\n",
              "\n",
              "    .dataframe thead th {\n",
              "        text-align: right;\n",
              "    }\n",
              "</style>\n",
              "<table border=\"1\" class=\"dataframe\">\n",
              "  <thead>\n",
              "    <tr style=\"text-align: right;\">\n",
              "      <th></th>\n",
              "      <th>Year</th>\n",
              "      <th>Month</th>\n",
              "      <th>Date</th>\n",
              "      <th>Brand</th>\n",
              "      <th>Vehicle_Type_Group</th>\n",
              "      <th>Vehicle_Type</th>\n",
              "      <th>Model_Year</th>\n",
              "      <th>Fuel_Type</th>\n",
              "      <th>Gear</th>\n",
              "      <th>CCM</th>\n",
              "      <th>Color</th>\n",
              "      <th>Body_Type</th>\n",
              "      <th>Seller</th>\n",
              "      <th>Seller_Status</th>\n",
              "      <th>Kilometers</th>\n",
              "      <th>Price</th>\n",
              "    </tr>\n",
              "  </thead>\n",
              "  <tbody>\n",
              "    <tr>\n",
              "      <th>3478</th>\n",
              "      <td>2020</td>\n",
              "      <td>12</td>\n",
              "      <td>2020-12-05</td>\n",
              "      <td>Hyundai</td>\n",
              "      <td>I20</td>\n",
              "      <td>1.4 CRDI Jump</td>\n",
              "      <td>2013</td>\n",
              "      <td>Dizel</td>\n",
              "      <td>Düz Vites</td>\n",
              "      <td>1300 cc ve altı</td>\n",
              "      <td>Beyaz</td>\n",
              "      <td>Hatchback 5 Kapı</td>\n",
              "      <td>Sahibinden</td>\n",
              "      <td>2. El</td>\n",
              "      <td>140000</td>\n",
              "      <td>5086500</td>\n",
              "    </tr>\n",
              "    <tr>\n",
              "      <th>4704</th>\n",
              "      <td>2020</td>\n",
              "      <td>4</td>\n",
              "      <td>2020-04-18</td>\n",
              "      <td>Mercedes</td>\n",
              "      <td>Maybach S</td>\n",
              "      <td>S 560</td>\n",
              "      <td>2020</td>\n",
              "      <td>Benzin</td>\n",
              "      <td>Otomatik Vites</td>\n",
              "      <td>3501-4000 cc</td>\n",
              "      <td>Siyah</td>\n",
              "      <td>Sedan</td>\n",
              "      <td>Galeriden</td>\n",
              "      <td>0 km</td>\n",
              "      <td>0</td>\n",
              "      <td>3360000</td>\n",
              "    </tr>\n",
              "    <tr>\n",
              "      <th>4410</th>\n",
              "      <td>2020</td>\n",
              "      <td>12</td>\n",
              "      <td>2020-12-05</td>\n",
              "      <td>Mercedes</td>\n",
              "      <td>Maybach S</td>\n",
              "      <td>S 560</td>\n",
              "      <td>2020</td>\n",
              "      <td>Benzin</td>\n",
              "      <td>Otomatik Vites</td>\n",
              "      <td>3501-4000 cc</td>\n",
              "      <td>Siyah</td>\n",
              "      <td>Sedan</td>\n",
              "      <td>Galeriden</td>\n",
              "      <td>0 km</td>\n",
              "      <td>0</td>\n",
              "      <td>3360000</td>\n",
              "    </tr>\n",
              "    <tr>\n",
              "      <th>4588</th>\n",
              "      <td>2020</td>\n",
              "      <td>4</td>\n",
              "      <td>2020-04-18</td>\n",
              "      <td>Mercedes</td>\n",
              "      <td>G Serisi</td>\n",
              "      <td>63 AMG</td>\n",
              "      <td>2020</td>\n",
              "      <td>Benzin</td>\n",
              "      <td>Otomatik Vites</td>\n",
              "      <td>3501-4000 cc</td>\n",
              "      <td>Siyah</td>\n",
              "      <td>Arazi Aracı</td>\n",
              "      <td>Galeriden</td>\n",
              "      <td>0 km</td>\n",
              "      <td>0</td>\n",
              "      <td>3310000</td>\n",
              "    </tr>\n",
              "    <tr>\n",
              "      <th>4589</th>\n",
              "      <td>2020</td>\n",
              "      <td>4</td>\n",
              "      <td>2020-04-18</td>\n",
              "      <td>Mercedes</td>\n",
              "      <td>G Serisi</td>\n",
              "      <td>63 AMG</td>\n",
              "      <td>2020</td>\n",
              "      <td>Benzin</td>\n",
              "      <td>Otomatik Vites</td>\n",
              "      <td>3501-4000 cc</td>\n",
              "      <td>Beyaz</td>\n",
              "      <td>Arazi Aracı</td>\n",
              "      <td>Galeriden</td>\n",
              "      <td>0 km</td>\n",
              "      <td>0</td>\n",
              "      <td>3300000</td>\n",
              "    </tr>\n",
              "    <tr>\n",
              "      <th>4826</th>\n",
              "      <td>2020</td>\n",
              "      <td>4</td>\n",
              "      <td>2020-04-17</td>\n",
              "      <td>Mercedes</td>\n",
              "      <td>G Serisi</td>\n",
              "      <td>63 AMG</td>\n",
              "      <td>2020</td>\n",
              "      <td>Benzin</td>\n",
              "      <td>Otomatik Vites</td>\n",
              "      <td>3501-4000 cc</td>\n",
              "      <td>Siyah</td>\n",
              "      <td>Arazi Aracı</td>\n",
              "      <td>Galeriden</td>\n",
              "      <td>0 km</td>\n",
              "      <td>0</td>\n",
              "      <td>3250000</td>\n",
              "    </tr>\n",
              "    <tr>\n",
              "      <th>4824</th>\n",
              "      <td>2020</td>\n",
              "      <td>4</td>\n",
              "      <td>2020-04-17</td>\n",
              "      <td>Mercedes</td>\n",
              "      <td>G Serisi</td>\n",
              "      <td>63 AMG</td>\n",
              "      <td>2020</td>\n",
              "      <td>Benzin</td>\n",
              "      <td>Otomatik Vites</td>\n",
              "      <td>3501-4000 cc</td>\n",
              "      <td>Siyah</td>\n",
              "      <td>Arazi Aracı</td>\n",
              "      <td>Galeriden</td>\n",
              "      <td>2. El</td>\n",
              "      <td>900</td>\n",
              "      <td>3250000</td>\n",
              "    </tr>\n",
              "    <tr>\n",
              "      <th>4571</th>\n",
              "      <td>2020</td>\n",
              "      <td>4</td>\n",
              "      <td>2020-04-18</td>\n",
              "      <td>Mercedes</td>\n",
              "      <td>G Serisi</td>\n",
              "      <td>400 D</td>\n",
              "      <td>2020</td>\n",
              "      <td>Dizel</td>\n",
              "      <td>Otomatik Vites</td>\n",
              "      <td>2501-3000 cc</td>\n",
              "      <td>Siyah</td>\n",
              "      <td>Arazi Aracı</td>\n",
              "      <td>Galeriden</td>\n",
              "      <td>0 km</td>\n",
              "      <td>0</td>\n",
              "      <td>2720000</td>\n",
              "    </tr>\n",
              "    <tr>\n",
              "      <th>391</th>\n",
              "      <td>2020</td>\n",
              "      <td>4</td>\n",
              "      <td>2020-04-17</td>\n",
              "      <td>Audi</td>\n",
              "      <td>RS Q8</td>\n",
              "      <td>4.0 TFSI</td>\n",
              "      <td>2020</td>\n",
              "      <td>Benzin</td>\n",
              "      <td>Otomatik Vites</td>\n",
              "      <td>3501-4000 cc</td>\n",
              "      <td>Beyaz</td>\n",
              "      <td>Arazi Aracı</td>\n",
              "      <td>Galeriden</td>\n",
              "      <td>0 km</td>\n",
              "      <td>0</td>\n",
              "      <td>2720000</td>\n",
              "    </tr>\n",
              "    <tr>\n",
              "      <th>422</th>\n",
              "      <td>2020</td>\n",
              "      <td>4</td>\n",
              "      <td>2020-04-17</td>\n",
              "      <td>Audi</td>\n",
              "      <td>RS Q8</td>\n",
              "      <td>4.0 TFSI</td>\n",
              "      <td>2020</td>\n",
              "      <td>Benzin</td>\n",
              "      <td>Otomatik Vites</td>\n",
              "      <td>3501-4000 cc</td>\n",
              "      <td>Füme</td>\n",
              "      <td>Arazi Aracı</td>\n",
              "      <td>Galeriden</td>\n",
              "      <td>0 km</td>\n",
              "      <td>0</td>\n",
              "      <td>2680000</td>\n",
              "    </tr>\n",
              "  </tbody>\n",
              "</table>\n",
              "</div>"
            ],
            "text/plain": [
              "      Year  Month       Date  ... Seller_Status Kilometers    Price\n",
              "3478  2020     12 2020-12-05  ...         2. El     140000  5086500\n",
              "4704  2020      4 2020-04-18  ...          0 km          0  3360000\n",
              "4410  2020     12 2020-12-05  ...          0 km          0  3360000\n",
              "4588  2020      4 2020-04-18  ...          0 km          0  3310000\n",
              "4589  2020      4 2020-04-18  ...          0 km          0  3300000\n",
              "4826  2020      4 2020-04-17  ...          0 km          0  3250000\n",
              "4824  2020      4 2020-04-17  ...         2. El        900  3250000\n",
              "4571  2020      4 2020-04-18  ...          0 km          0  2720000\n",
              "391   2020      4 2020-04-17  ...          0 km          0  2720000\n",
              "422   2020      4 2020-04-17  ...          0 km          0  2680000\n",
              "\n",
              "[10 rows x 16 columns]"
            ]
          },
          "metadata": {
            "tags": []
          },
          "execution_count": 33
        }
      ]
    },
    {
      "cell_type": "code",
      "metadata": {
        "colab": {
          "base_uri": "https://localhost:8080/",
          "height": 111
        },
        "id": "6Aku2UufJ9LA",
        "outputId": "74f82107-929d-4ae7-fae4-3a3a702e9047"
      },
      "source": [
        "data.loc[(data['Brand'] == 'Hyundai') & (data['Kilometers'] == 0)]"
      ],
      "execution_count": null,
      "outputs": [
        {
          "output_type": "execute_result",
          "data": {
            "text/html": [
              "<div>\n",
              "<style scoped>\n",
              "    .dataframe tbody tr th:only-of-type {\n",
              "        vertical-align: middle;\n",
              "    }\n",
              "\n",
              "    .dataframe tbody tr th {\n",
              "        vertical-align: top;\n",
              "    }\n",
              "\n",
              "    .dataframe thead th {\n",
              "        text-align: right;\n",
              "    }\n",
              "</style>\n",
              "<table border=\"1\" class=\"dataframe\">\n",
              "  <thead>\n",
              "    <tr style=\"text-align: right;\">\n",
              "      <th></th>\n",
              "      <th>Year</th>\n",
              "      <th>Month</th>\n",
              "      <th>Date</th>\n",
              "      <th>Brand</th>\n",
              "      <th>Vehicle_Type_Group</th>\n",
              "      <th>Vehicle_Type</th>\n",
              "      <th>Model_Year</th>\n",
              "      <th>Fuel_Type</th>\n",
              "      <th>Gear</th>\n",
              "      <th>CCM</th>\n",
              "      <th>Color</th>\n",
              "      <th>Body_Type</th>\n",
              "      <th>Seller</th>\n",
              "      <th>Seller_Status</th>\n",
              "      <th>Kilometers</th>\n",
              "      <th>Price</th>\n",
              "    </tr>\n",
              "  </thead>\n",
              "  <tbody>\n",
              "    <tr>\n",
              "      <th>3723</th>\n",
              "      <td>2020</td>\n",
              "      <td>4</td>\n",
              "      <td>2020-04-17</td>\n",
              "      <td>Hyundai</td>\n",
              "      <td>Tucson</td>\n",
              "      <td>Diğer</td>\n",
              "      <td>2020</td>\n",
              "      <td>Dizel</td>\n",
              "      <td>Yarı Otomatik Vites</td>\n",
              "      <td>1301-1600 cc</td>\n",
              "      <td>Gri</td>\n",
              "      <td>Arazi Aracı</td>\n",
              "      <td>Galeriden</td>\n",
              "      <td>0 km</td>\n",
              "      <td>0</td>\n",
              "      <td>318000</td>\n",
              "    </tr>\n",
              "    <tr>\n",
              "      <th>3824</th>\n",
              "      <td>2020</td>\n",
              "      <td>7</td>\n",
              "      <td>2020-07-04</td>\n",
              "      <td>Hyundai</td>\n",
              "      <td>Tucson</td>\n",
              "      <td>1.6 CRDI Style</td>\n",
              "      <td>2018</td>\n",
              "      <td>Dizel</td>\n",
              "      <td>Düz Vites</td>\n",
              "      <td>1301-1600 cc</td>\n",
              "      <td>Bej</td>\n",
              "      <td>Arazi Aracı</td>\n",
              "      <td>Sahibinden</td>\n",
              "      <td>0 km</td>\n",
              "      <td>0</td>\n",
              "      <td>222000</td>\n",
              "    </tr>\n",
              "  </tbody>\n",
              "</table>\n",
              "</div>"
            ],
            "text/plain": [
              "      Year  Month       Date  ... Seller_Status Kilometers   Price\n",
              "3723  2020      4 2020-04-17  ...          0 km          0  318000\n",
              "3824  2020      7 2020-07-04  ...          0 km          0  222000\n",
              "\n",
              "[2 rows x 16 columns]"
            ]
          },
          "metadata": {
            "tags": []
          },
          "execution_count": 34
        }
      ]
    },
    {
      "cell_type": "markdown",
      "metadata": {
        "id": "4-kX6pp8J6SQ"
      },
      "source": [
        "When we look at the first row, we see a car whose horse power is 100 HP or below, CCM is 1300 CC or below, secondhand, kilometer is 140000 and brand is Hyundai i20. Its price is more than 5m Turkish Liras. When we search for some advertisements about the model, we come up with prices at most 100000 Turkish Liras. In reality this row is not possible since the Seller does not want to show-off with his/her car. So, we will remove that row from the data."
      ]
    },
    {
      "cell_type": "code",
      "metadata": {
        "id": "OyPqTg1YKJGt"
      },
      "source": [
        "data = data.loc[data['Price'] != 5086500]"
      ],
      "execution_count": null,
      "outputs": []
    },
    {
      "cell_type": "code",
      "metadata": {
        "colab": {
          "base_uri": "https://localhost:8080/",
          "height": 419
        },
        "id": "F0x9cWFJKXZq",
        "outputId": "cbe1cbef-cac1-4a7d-d648-066de5ed49c1"
      },
      "source": [
        "data"
      ],
      "execution_count": null,
      "outputs": [
        {
          "output_type": "execute_result",
          "data": {
            "text/html": [
              "<div>\n",
              "<style scoped>\n",
              "    .dataframe tbody tr th:only-of-type {\n",
              "        vertical-align: middle;\n",
              "    }\n",
              "\n",
              "    .dataframe tbody tr th {\n",
              "        vertical-align: top;\n",
              "    }\n",
              "\n",
              "    .dataframe thead th {\n",
              "        text-align: right;\n",
              "    }\n",
              "</style>\n",
              "<table border=\"1\" class=\"dataframe\">\n",
              "  <thead>\n",
              "    <tr style=\"text-align: right;\">\n",
              "      <th></th>\n",
              "      <th>Year</th>\n",
              "      <th>Month</th>\n",
              "      <th>Date</th>\n",
              "      <th>Brand</th>\n",
              "      <th>Vehicle_Type_Group</th>\n",
              "      <th>Vehicle_Type</th>\n",
              "      <th>Model_Year</th>\n",
              "      <th>Fuel_Type</th>\n",
              "      <th>Gear</th>\n",
              "      <th>CCM</th>\n",
              "      <th>Color</th>\n",
              "      <th>Body_Type</th>\n",
              "      <th>Seller</th>\n",
              "      <th>Seller_Status</th>\n",
              "      <th>Kilometers</th>\n",
              "      <th>Price</th>\n",
              "    </tr>\n",
              "  </thead>\n",
              "  <tbody>\n",
              "    <tr>\n",
              "      <th>0</th>\n",
              "      <td>2020</td>\n",
              "      <td>5</td>\n",
              "      <td>2020-05-27</td>\n",
              "      <td>Jaguar</td>\n",
              "      <td>XF</td>\n",
              "      <td>2.0 D Prestige Plus</td>\n",
              "      <td>2017</td>\n",
              "      <td>Dizel</td>\n",
              "      <td>Otomatik Vites</td>\n",
              "      <td>1801-2000 cc</td>\n",
              "      <td>Lacivert</td>\n",
              "      <td>Hatchback 5 Kapı</td>\n",
              "      <td>Galeriden</td>\n",
              "      <td>2. El</td>\n",
              "      <td>26100</td>\n",
              "      <td>634500</td>\n",
              "    </tr>\n",
              "    <tr>\n",
              "      <th>1</th>\n",
              "      <td>2020</td>\n",
              "      <td>6</td>\n",
              "      <td>2020-06-16</td>\n",
              "      <td>Acura</td>\n",
              "      <td>CL</td>\n",
              "      <td>-</td>\n",
              "      <td>2015</td>\n",
              "      <td>Dizel</td>\n",
              "      <td>Yarı Otomatik Vites</td>\n",
              "      <td>1301-1600 cc</td>\n",
              "      <td>Mavi</td>\n",
              "      <td>Sedan</td>\n",
              "      <td>Sahibinden</td>\n",
              "      <td>2. El</td>\n",
              "      <td>127000</td>\n",
              "      <td>151500</td>\n",
              "    </tr>\n",
              "    <tr>\n",
              "      <th>2</th>\n",
              "      <td>2020</td>\n",
              "      <td>6</td>\n",
              "      <td>2020-06-14</td>\n",
              "      <td>Acura</td>\n",
              "      <td>CL</td>\n",
              "      <td>2.2</td>\n",
              "      <td>1994</td>\n",
              "      <td>Benzin/LPG</td>\n",
              "      <td>Düz Vites</td>\n",
              "      <td>1301-1600 cc</td>\n",
              "      <td>Turkuaz</td>\n",
              "      <td>Sedan</td>\n",
              "      <td>Sahibinden</td>\n",
              "      <td>2. El</td>\n",
              "      <td>175000</td>\n",
              "      <td>19750</td>\n",
              "    </tr>\n",
              "    <tr>\n",
              "      <th>3</th>\n",
              "      <td>2020</td>\n",
              "      <td>11</td>\n",
              "      <td>2020-11-06</td>\n",
              "      <td>Acura</td>\n",
              "      <td>CL</td>\n",
              "      <td>-</td>\n",
              "      <td>2013</td>\n",
              "      <td>Dizel</td>\n",
              "      <td>Düz Vites</td>\n",
              "      <td>1301-1600 cc</td>\n",
              "      <td>Kahverengi</td>\n",
              "      <td>Sedan</td>\n",
              "      <td>Sahibinden</td>\n",
              "      <td>2. El</td>\n",
              "      <td>325</td>\n",
              "      <td>52000</td>\n",
              "    </tr>\n",
              "    <tr>\n",
              "      <th>4</th>\n",
              "      <td>2020</td>\n",
              "      <td>11</td>\n",
              "      <td>2020-11-06</td>\n",
              "      <td>Acura</td>\n",
              "      <td>CL</td>\n",
              "      <td>2.2</td>\n",
              "      <td>2010</td>\n",
              "      <td>Dizel</td>\n",
              "      <td>Otomatik Vites</td>\n",
              "      <td>1801-2000 cc</td>\n",
              "      <td>Beyaz</td>\n",
              "      <td>Sedan</td>\n",
              "      <td>Sahibinden</td>\n",
              "      <td>2. El</td>\n",
              "      <td>207000</td>\n",
              "      <td>148750</td>\n",
              "    </tr>\n",
              "    <tr>\n",
              "      <th>...</th>\n",
              "      <td>...</td>\n",
              "      <td>...</td>\n",
              "      <td>...</td>\n",
              "      <td>...</td>\n",
              "      <td>...</td>\n",
              "      <td>...</td>\n",
              "      <td>...</td>\n",
              "      <td>...</td>\n",
              "      <td>...</td>\n",
              "      <td>...</td>\n",
              "      <td>...</td>\n",
              "      <td>...</td>\n",
              "      <td>...</td>\n",
              "      <td>...</td>\n",
              "      <td>...</td>\n",
              "      <td>...</td>\n",
              "    </tr>\n",
              "    <tr>\n",
              "      <th>9039</th>\n",
              "      <td>2020</td>\n",
              "      <td>6</td>\n",
              "      <td>2020-06-06</td>\n",
              "      <td>Tofaş</td>\n",
              "      <td>Şahin</td>\n",
              "      <td>1.6</td>\n",
              "      <td>1994</td>\n",
              "      <td>Benzin/LPG</td>\n",
              "      <td>Düz Vites</td>\n",
              "      <td>1301-1600 cc</td>\n",
              "      <td>Beyaz</td>\n",
              "      <td>Sedan</td>\n",
              "      <td>Galeriden</td>\n",
              "      <td>2. El</td>\n",
              "      <td>121212</td>\n",
              "      <td>12250</td>\n",
              "    </tr>\n",
              "    <tr>\n",
              "      <th>9040</th>\n",
              "      <td>2020</td>\n",
              "      <td>5</td>\n",
              "      <td>2020-05-06</td>\n",
              "      <td>Tofaş</td>\n",
              "      <td>Şahin</td>\n",
              "      <td>Şahin 5 vites</td>\n",
              "      <td>1992</td>\n",
              "      <td>Benzin/LPG</td>\n",
              "      <td>Düz Vites</td>\n",
              "      <td>1301-1600 cc</td>\n",
              "      <td>Bej</td>\n",
              "      <td>Sedan</td>\n",
              "      <td>Sahibinden</td>\n",
              "      <td>2. El</td>\n",
              "      <td>54000</td>\n",
              "      <td>16300</td>\n",
              "    </tr>\n",
              "    <tr>\n",
              "      <th>9041</th>\n",
              "      <td>2020</td>\n",
              "      <td>5</td>\n",
              "      <td>2020-05-06</td>\n",
              "      <td>Tofaş</td>\n",
              "      <td>Doğan</td>\n",
              "      <td>SLX</td>\n",
              "      <td>1993</td>\n",
              "      <td>Benzin/LPG</td>\n",
              "      <td>Düz Vites</td>\n",
              "      <td>1301-1600 cc</td>\n",
              "      <td>Yeşil</td>\n",
              "      <td>Sedan</td>\n",
              "      <td>Sahibinden</td>\n",
              "      <td>2. El</td>\n",
              "      <td>135000</td>\n",
              "      <td>19000</td>\n",
              "    </tr>\n",
              "    <tr>\n",
              "      <th>9042</th>\n",
              "      <td>2020</td>\n",
              "      <td>4</td>\n",
              "      <td>2020-04-06</td>\n",
              "      <td>Tofaş</td>\n",
              "      <td>Kartal</td>\n",
              "      <td>Kartal 5 Vites</td>\n",
              "      <td>1991</td>\n",
              "      <td>Benzin/LPG</td>\n",
              "      <td>Düz Vites</td>\n",
              "      <td>1601-1800 cc</td>\n",
              "      <td>Kırmızı</td>\n",
              "      <td>Hatchback 5 Kapı</td>\n",
              "      <td>Galeriden</td>\n",
              "      <td>2. El</td>\n",
              "      <td>250000</td>\n",
              "      <td>11000</td>\n",
              "    </tr>\n",
              "    <tr>\n",
              "      <th>9043</th>\n",
              "      <td>2020</td>\n",
              "      <td>4</td>\n",
              "      <td>2020-04-06</td>\n",
              "      <td>Tofaş</td>\n",
              "      <td>Kartal</td>\n",
              "      <td>Kartal 5 Vites</td>\n",
              "      <td>1996</td>\n",
              "      <td>Benzin/LPG</td>\n",
              "      <td>Düz Vites</td>\n",
              "      <td>1301-1600 cc</td>\n",
              "      <td>Beyaz</td>\n",
              "      <td>Sedan</td>\n",
              "      <td>Galeriden</td>\n",
              "      <td>2. El</td>\n",
              "      <td>11</td>\n",
              "      <td>15750</td>\n",
              "    </tr>\n",
              "  </tbody>\n",
              "</table>\n",
              "<p>9043 rows × 16 columns</p>\n",
              "</div>"
            ],
            "text/plain": [
              "      Year  Month       Date  ... Seller_Status Kilometers   Price\n",
              "0     2020      5 2020-05-27  ...         2. El      26100  634500\n",
              "1     2020      6 2020-06-16  ...         2. El     127000  151500\n",
              "2     2020      6 2020-06-14  ...         2. El     175000   19750\n",
              "3     2020     11 2020-11-06  ...         2. El        325   52000\n",
              "4     2020     11 2020-11-06  ...         2. El     207000  148750\n",
              "...    ...    ...        ...  ...           ...        ...     ...\n",
              "9039  2020      6 2020-06-06  ...         2. El     121212   12250\n",
              "9040  2020      5 2020-05-06  ...         2. El      54000   16300\n",
              "9041  2020      5 2020-05-06  ...         2. El     135000   19000\n",
              "9042  2020      4 2020-04-06  ...         2. El     250000   11000\n",
              "9043  2020      4 2020-04-06  ...         2. El         11   15750\n",
              "\n",
              "[9043 rows x 16 columns]"
            ]
          },
          "metadata": {
            "tags": []
          },
          "execution_count": 36
        }
      ]
    },
    {
      "cell_type": "code",
      "metadata": {
        "colab": {
          "base_uri": "https://localhost:8080/",
          "height": 49
        },
        "id": "LQuan62EK-4q",
        "outputId": "19033789-893e-43bc-c2b0-9951263a6198"
      },
      "source": [
        "data.loc[(data['Brand'] == 'Hyundai') & (data['Price'] == 5086500 )]"
      ],
      "execution_count": null,
      "outputs": [
        {
          "output_type": "execute_result",
          "data": {
            "text/html": [
              "<div>\n",
              "<style scoped>\n",
              "    .dataframe tbody tr th:only-of-type {\n",
              "        vertical-align: middle;\n",
              "    }\n",
              "\n",
              "    .dataframe tbody tr th {\n",
              "        vertical-align: top;\n",
              "    }\n",
              "\n",
              "    .dataframe thead th {\n",
              "        text-align: right;\n",
              "    }\n",
              "</style>\n",
              "<table border=\"1\" class=\"dataframe\">\n",
              "  <thead>\n",
              "    <tr style=\"text-align: right;\">\n",
              "      <th></th>\n",
              "      <th>Year</th>\n",
              "      <th>Month</th>\n",
              "      <th>Date</th>\n",
              "      <th>Brand</th>\n",
              "      <th>Vehicle_Type_Group</th>\n",
              "      <th>Vehicle_Type</th>\n",
              "      <th>Model_Year</th>\n",
              "      <th>Fuel_Type</th>\n",
              "      <th>Gear</th>\n",
              "      <th>CCM</th>\n",
              "      <th>Color</th>\n",
              "      <th>Body_Type</th>\n",
              "      <th>Seller</th>\n",
              "      <th>Seller_Status</th>\n",
              "      <th>Kilometers</th>\n",
              "      <th>Price</th>\n",
              "    </tr>\n",
              "  </thead>\n",
              "  <tbody>\n",
              "  </tbody>\n",
              "</table>\n",
              "</div>"
            ],
            "text/plain": [
              "Empty DataFrame\n",
              "Columns: [Year, Month, Date, Brand, Vehicle_Type_Group, Vehicle_Type, Model_Year, Fuel_Type, Gear, CCM, Color, Body_Type, Seller, Seller_Status, Kilometers, Price]\n",
              "Index: []"
            ]
          },
          "metadata": {
            "tags": []
          },
          "execution_count": 37
        }
      ]
    },
    {
      "cell_type": "markdown",
      "metadata": {
        "id": "j7mZYrlELM0Y"
      },
      "source": [
        "Another control in the data is to check for **outliers**."
      ]
    },
    {
      "cell_type": "code",
      "metadata": {
        "colab": {
          "base_uri": "https://localhost:8080/",
          "height": 419
        },
        "id": "uBmA2NgzLLAz",
        "outputId": "fd3d25c8-443f-4d42-cc04-8089b9cc4438"
      },
      "source": [
        "qtl1 = data[\"Price\"].quantile(0.25)\r\n",
        "qtl3 = data[\"Price\"].quantile(0.75)\r\n",
        "\r\n",
        "IQR = qtl3 - qtl1\r\n",
        "\r\n",
        "lower_bound = qtl1 - 1.5 * IQR\r\n",
        "upper_bound = qtl3 + 1.5 * IQR\r\n",
        "\r\n",
        "data.loc[(data['Price'] < lower_bound) | (data['Price'] > upper_bound)]"
      ],
      "execution_count": null,
      "outputs": [
        {
          "output_type": "execute_result",
          "data": {
            "text/html": [
              "<div>\n",
              "<style scoped>\n",
              "    .dataframe tbody tr th:only-of-type {\n",
              "        vertical-align: middle;\n",
              "    }\n",
              "\n",
              "    .dataframe tbody tr th {\n",
              "        vertical-align: top;\n",
              "    }\n",
              "\n",
              "    .dataframe thead th {\n",
              "        text-align: right;\n",
              "    }\n",
              "</style>\n",
              "<table border=\"1\" class=\"dataframe\">\n",
              "  <thead>\n",
              "    <tr style=\"text-align: right;\">\n",
              "      <th></th>\n",
              "      <th>Year</th>\n",
              "      <th>Month</th>\n",
              "      <th>Date</th>\n",
              "      <th>Brand</th>\n",
              "      <th>Vehicle_Type_Group</th>\n",
              "      <th>Vehicle_Type</th>\n",
              "      <th>Model_Year</th>\n",
              "      <th>Fuel_Type</th>\n",
              "      <th>Gear</th>\n",
              "      <th>CCM</th>\n",
              "      <th>Color</th>\n",
              "      <th>Body_Type</th>\n",
              "      <th>Seller</th>\n",
              "      <th>Seller_Status</th>\n",
              "      <th>Kilometers</th>\n",
              "      <th>Price</th>\n",
              "    </tr>\n",
              "  </thead>\n",
              "  <tbody>\n",
              "    <tr>\n",
              "      <th>0</th>\n",
              "      <td>2020</td>\n",
              "      <td>5</td>\n",
              "      <td>2020-05-27</td>\n",
              "      <td>Jaguar</td>\n",
              "      <td>XF</td>\n",
              "      <td>2.0 D Prestige Plus</td>\n",
              "      <td>2017</td>\n",
              "      <td>Dizel</td>\n",
              "      <td>Otomatik Vites</td>\n",
              "      <td>1801-2000 cc</td>\n",
              "      <td>Lacivert</td>\n",
              "      <td>Hatchback 5 Kapı</td>\n",
              "      <td>Galeriden</td>\n",
              "      <td>2. El</td>\n",
              "      <td>26100</td>\n",
              "      <td>634500</td>\n",
              "    </tr>\n",
              "    <tr>\n",
              "      <th>19</th>\n",
              "      <td>2020</td>\n",
              "      <td>8</td>\n",
              "      <td>2020-08-04</td>\n",
              "      <td>Jeep</td>\n",
              "      <td>Wrangler</td>\n",
              "      <td>2.8 CRD</td>\n",
              "      <td>2014</td>\n",
              "      <td>Dizel</td>\n",
              "      <td>Otomatik Vites</td>\n",
              "      <td>2501-3000 cc</td>\n",
              "      <td>Siyah</td>\n",
              "      <td>Arazi Aracı</td>\n",
              "      <td>Galeriden</td>\n",
              "      <td>2. El</td>\n",
              "      <td>54000</td>\n",
              "      <td>457500</td>\n",
              "    </tr>\n",
              "    <tr>\n",
              "      <th>43</th>\n",
              "      <td>2020</td>\n",
              "      <td>3</td>\n",
              "      <td>2020-03-22</td>\n",
              "      <td>Acura</td>\n",
              "      <td>CL</td>\n",
              "      <td>-</td>\n",
              "      <td>2014</td>\n",
              "      <td>Dizel</td>\n",
              "      <td>Otomatik Vites</td>\n",
              "      <td>1801-2000 cc</td>\n",
              "      <td>Beyaz</td>\n",
              "      <td>Sedan</td>\n",
              "      <td>Sahibinden</td>\n",
              "      <td>2. El</td>\n",
              "      <td>89000</td>\n",
              "      <td>345000</td>\n",
              "    </tr>\n",
              "    <tr>\n",
              "      <th>62</th>\n",
              "      <td>2020</td>\n",
              "      <td>3</td>\n",
              "      <td>2020-03-24</td>\n",
              "      <td>Alfa Romeo</td>\n",
              "      <td>145</td>\n",
              "      <td>1.6 L</td>\n",
              "      <td>2015</td>\n",
              "      <td>Benzin</td>\n",
              "      <td>Otomatik Vites</td>\n",
              "      <td>1301-1600 cc</td>\n",
              "      <td>Siyah</td>\n",
              "      <td>Diğer</td>\n",
              "      <td>Yetkili</td>\n",
              "      <td>0 km</td>\n",
              "      <td>104860</td>\n",
              "      <td>343250</td>\n",
              "    </tr>\n",
              "    <tr>\n",
              "      <th>80</th>\n",
              "      <td>2020</td>\n",
              "      <td>10</td>\n",
              "      <td>2020-10-06</td>\n",
              "      <td>Audi</td>\n",
              "      <td>Q5</td>\n",
              "      <td>2.0 TDI Quattro Sport</td>\n",
              "      <td>2017</td>\n",
              "      <td>Dizel</td>\n",
              "      <td>Otomatik Vites</td>\n",
              "      <td>1801-2000 cc</td>\n",
              "      <td>Mavi</td>\n",
              "      <td>Arazi Aracı</td>\n",
              "      <td>Galeriden</td>\n",
              "      <td>2. El</td>\n",
              "      <td>47800</td>\n",
              "      <td>669900</td>\n",
              "    </tr>\n",
              "    <tr>\n",
              "      <th>...</th>\n",
              "      <td>...</td>\n",
              "      <td>...</td>\n",
              "      <td>...</td>\n",
              "      <td>...</td>\n",
              "      <td>...</td>\n",
              "      <td>...</td>\n",
              "      <td>...</td>\n",
              "      <td>...</td>\n",
              "      <td>...</td>\n",
              "      <td>...</td>\n",
              "      <td>...</td>\n",
              "      <td>...</td>\n",
              "      <td>...</td>\n",
              "      <td>...</td>\n",
              "      <td>...</td>\n",
              "      <td>...</td>\n",
              "    </tr>\n",
              "    <tr>\n",
              "      <th>8861</th>\n",
              "      <td>2020</td>\n",
              "      <td>5</td>\n",
              "      <td>2020-05-20</td>\n",
              "      <td>BMW</td>\n",
              "      <td>7 Serisi</td>\n",
              "      <td>740d xDrive Exclusive</td>\n",
              "      <td>2012</td>\n",
              "      <td>Dizel</td>\n",
              "      <td>Otomatik Vites</td>\n",
              "      <td>3501-4000 cc</td>\n",
              "      <td>Beyaz</td>\n",
              "      <td>Sedan</td>\n",
              "      <td>Galeriden</td>\n",
              "      <td>2. El</td>\n",
              "      <td>128707</td>\n",
              "      <td>597500</td>\n",
              "    </tr>\n",
              "    <tr>\n",
              "      <th>8956</th>\n",
              "      <td>2020</td>\n",
              "      <td>5</td>\n",
              "      <td>2020-05-27</td>\n",
              "      <td>Jaguar</td>\n",
              "      <td>XF</td>\n",
              "      <td>2.0 D Prestige Plus</td>\n",
              "      <td>2017</td>\n",
              "      <td>Dizel</td>\n",
              "      <td>Otomatik Vites</td>\n",
              "      <td>1801-2000 cc</td>\n",
              "      <td>Lacivert</td>\n",
              "      <td>Hatchback 5 Kapı</td>\n",
              "      <td>Galeriden</td>\n",
              "      <td>2. El</td>\n",
              "      <td>26100</td>\n",
              "      <td>634500</td>\n",
              "    </tr>\n",
              "    <tr>\n",
              "      <th>8963</th>\n",
              "      <td>2020</td>\n",
              "      <td>4</td>\n",
              "      <td>2020-04-17</td>\n",
              "      <td>Skoda</td>\n",
              "      <td>Kodiaq</td>\n",
              "      <td>1.5 TSI Elite</td>\n",
              "      <td>2019</td>\n",
              "      <td>Benzin</td>\n",
              "      <td>Yarı Otomatik Vites</td>\n",
              "      <td>1301-1600 cc</td>\n",
              "      <td>Gri</td>\n",
              "      <td>Arazi Aracı</td>\n",
              "      <td>Galeriden</td>\n",
              "      <td>2. El</td>\n",
              "      <td>5407</td>\n",
              "      <td>292500</td>\n",
              "    </tr>\n",
              "    <tr>\n",
              "      <th>8976</th>\n",
              "      <td>2020</td>\n",
              "      <td>5</td>\n",
              "      <td>2020-05-27</td>\n",
              "      <td>BMW</td>\n",
              "      <td>5 Serisi</td>\n",
              "      <td>520d xDrive Pure</td>\n",
              "      <td>2018</td>\n",
              "      <td>Dizel</td>\n",
              "      <td>Otomatik Vites</td>\n",
              "      <td>1801-2000 cc</td>\n",
              "      <td>Siyah</td>\n",
              "      <td>Sedan</td>\n",
              "      <td>Galeriden</td>\n",
              "      <td>2. El</td>\n",
              "      <td>59854</td>\n",
              "      <td>594500</td>\n",
              "    </tr>\n",
              "    <tr>\n",
              "      <th>9013</th>\n",
              "      <td>2020</td>\n",
              "      <td>5</td>\n",
              "      <td>2020-05-27</td>\n",
              "      <td>BMW</td>\n",
              "      <td>5 Serisi</td>\n",
              "      <td>520d xDrive Pure</td>\n",
              "      <td>2018</td>\n",
              "      <td>Dizel</td>\n",
              "      <td>Otomatik Vites</td>\n",
              "      <td>1801-2000 cc</td>\n",
              "      <td>Siyah</td>\n",
              "      <td>Sedan</td>\n",
              "      <td>Galeriden</td>\n",
              "      <td>2. El</td>\n",
              "      <td>59854</td>\n",
              "      <td>594500</td>\n",
              "    </tr>\n",
              "  </tbody>\n",
              "</table>\n",
              "<p>761 rows × 16 columns</p>\n",
              "</div>"
            ],
            "text/plain": [
              "      Year  Month       Date  ... Seller_Status Kilometers   Price\n",
              "0     2020      5 2020-05-27  ...         2. El      26100  634500\n",
              "19    2020      8 2020-08-04  ...         2. El      54000  457500\n",
              "43    2020      3 2020-03-22  ...         2. El      89000  345000\n",
              "62    2020      3 2020-03-24  ...          0 km     104860  343250\n",
              "80    2020     10 2020-10-06  ...         2. El      47800  669900\n",
              "...    ...    ...        ...  ...           ...        ...     ...\n",
              "8861  2020      5 2020-05-20  ...         2. El     128707  597500\n",
              "8956  2020      5 2020-05-27  ...         2. El      26100  634500\n",
              "8963  2020      4 2020-04-17  ...         2. El       5407  292500\n",
              "8976  2020      5 2020-05-27  ...         2. El      59854  594500\n",
              "9013  2020      5 2020-05-27  ...         2. El      59854  594500\n",
              "\n",
              "[761 rows x 16 columns]"
            ]
          },
          "metadata": {
            "tags": []
          },
          "execution_count": 38
        }
      ]
    },
    {
      "cell_type": "markdown",
      "metadata": {
        "id": "Lu0XzoXKM2lF"
      },
      "source": [
        "There are 761 outliers in the data with respect to Price values. This is normal, because there are many low-segment or mid-segment cars in the advertisements and these outliers are some of the high-segment car companies. There is nothing wrong with this data.\r\n",
        "\r\n",
        "We can check for the combination Vehicle_Type and Vehicle_Type_Group columns whether both of them are matching with each other. But, it will take more time than the value it would add."
      ]
    },
    {
      "cell_type": "code",
      "metadata": {
        "colab": {
          "base_uri": "https://localhost:8080/"
        },
        "id": "riIYbBGFP5kh",
        "outputId": "8a5d7906-4a89-4824-db34-e961e94beaf2"
      },
      "source": [
        "data.info()"
      ],
      "execution_count": null,
      "outputs": [
        {
          "output_type": "stream",
          "text": [
            "<class 'pandas.core.frame.DataFrame'>\n",
            "Int64Index: 9043 entries, 0 to 9043\n",
            "Data columns (total 16 columns):\n",
            " #   Column              Non-Null Count  Dtype         \n",
            "---  ------              --------------  -----         \n",
            " 0   Year                9043 non-null   int64         \n",
            " 1   Month               9043 non-null   int64         \n",
            " 2   Date                9043 non-null   datetime64[ns]\n",
            " 3   Brand               9043 non-null   object        \n",
            " 4   Vehicle_Type_Group  9043 non-null   object        \n",
            " 5   Vehicle_Type        9043 non-null   object        \n",
            " 6   Model_Year          9043 non-null   int64         \n",
            " 7   Fuel_Type           9043 non-null   object        \n",
            " 8   Gear                9043 non-null   object        \n",
            " 9   CCM                 9043 non-null   object        \n",
            " 10  Color               9043 non-null   object        \n",
            " 11  Body_Type           9043 non-null   object        \n",
            " 12  Seller              9043 non-null   object        \n",
            " 13  Seller_Status       9043 non-null   object        \n",
            " 14  Kilometers          9043 non-null   int64         \n",
            " 15  Price               9043 non-null   int64         \n",
            "dtypes: datetime64[ns](1), int64(5), object(10)\n",
            "memory usage: 1.2+ MB\n"
          ],
          "name": "stdout"
        }
      ]
    },
    {
      "cell_type": "markdown",
      "metadata": {
        "id": "8Z4u4AF7Mz7A"
      },
      "source": [
        "Now, our data is ready for making further analysis."
      ]
    },
    {
      "cell_type": "markdown",
      "metadata": {
        "id": "B7OnhAQGBqVj"
      },
      "source": [
        "### 5. Data Visualizations:"
      ]
    },
    {
      "cell_type": "markdown",
      "metadata": {
        "id": "W7uIyVLfE7m8"
      },
      "source": [
        "**5.1 Time Series Analyses**"
      ]
    },
    {
      "cell_type": "markdown",
      "metadata": {
        "id": "Lprv5mO2TkAl"
      },
      "source": [
        "In this dataset, there are two variables which are related to time, i.e., Model Year and Advertisement Date. To analyze of the variable relationships, we first present time variables analyses as time series analyses. In the description of the dataset, it is told that this dataset contains the advertisements in 2020 but there are two rows which are from 2019. We will consider that it is not a problem."
      ]
    },
    {
      "cell_type": "code",
      "metadata": {
        "colab": {
          "base_uri": "https://localhost:8080/",
          "height": 142
        },
        "id": "tEalmGKSTmUt",
        "outputId": "e2d8d3ce-c14d-4eae-dce9-a2b07acdcc13"
      },
      "source": [
        "grouped_y = data.groupby(\"Year\", sort=True).count()\r\n",
        "grouped_y = grouped_y[[\"Brand\"]]\r\n",
        "grouped_y=grouped_y.rename(columns={\"Brand\":\"Count\"})\r\n",
        "grouped_y"
      ],
      "execution_count": null,
      "outputs": [
        {
          "output_type": "execute_result",
          "data": {
            "text/html": [
              "<div>\n",
              "<style scoped>\n",
              "    .dataframe tbody tr th:only-of-type {\n",
              "        vertical-align: middle;\n",
              "    }\n",
              "\n",
              "    .dataframe tbody tr th {\n",
              "        vertical-align: top;\n",
              "    }\n",
              "\n",
              "    .dataframe thead th {\n",
              "        text-align: right;\n",
              "    }\n",
              "</style>\n",
              "<table border=\"1\" class=\"dataframe\">\n",
              "  <thead>\n",
              "    <tr style=\"text-align: right;\">\n",
              "      <th></th>\n",
              "      <th>Count</th>\n",
              "    </tr>\n",
              "    <tr>\n",
              "      <th>Year</th>\n",
              "      <th></th>\n",
              "    </tr>\n",
              "  </thead>\n",
              "  <tbody>\n",
              "    <tr>\n",
              "      <th>2019</th>\n",
              "      <td>2</td>\n",
              "    </tr>\n",
              "    <tr>\n",
              "      <th>2020</th>\n",
              "      <td>9041</td>\n",
              "    </tr>\n",
              "  </tbody>\n",
              "</table>\n",
              "</div>"
            ],
            "text/plain": [
              "      Count\n",
              "Year       \n",
              "2019      2\n",
              "2020   9041"
            ]
          },
          "metadata": {
            "tags": []
          },
          "execution_count": 40
        }
      ]
    },
    {
      "cell_type": "markdown",
      "metadata": {
        "id": "mfWsTDCdTs5t"
      },
      "source": [
        "When we look at the bar plot, there are advertisement whose month is changing from january to December and also there are two advertisements from December of 2019. There are more advertisements in April respect to other months. We can look for the daily count of these advertisements."
      ]
    },
    {
      "cell_type": "code",
      "metadata": {
        "colab": {
          "base_uri": "https://localhost:8080/",
          "height": 355
        },
        "id": "KHOka1RQDin8",
        "outputId": "dd0e5d4c-2a25-4469-d39d-24545bb8c094"
      },
      "source": [
        "n = data.groupby(\"Month\")[[\"Month\"]].count()\r\n",
        "n = n.rename(columns={\"Month\":\"Count\"})\r\n",
        "\r\n",
        "plt.figure(figsize=(10,5))\r\n",
        "plt.plot(n.index, n.Count, color='red', marker='o')\r\n",
        "plt.title('Number of Advertisements Over Months', fontsize=14)\r\n",
        "plt.xlabel('Month', fontsize=14)\r\n",
        "plt.ylabel('Number of Advertisement', fontsize=14)\r\n",
        "plt.grid(True)\r\n",
        "plt.show()"
      ],
      "execution_count": null,
      "outputs": [
        {
          "output_type": "display_data",
          "data": {
            "image/png": "[encoded data removed]",
            "text/plain": [
              "<Figure size 720x360 with 1 Axes>"
            ]
          },
          "metadata": {
            "tags": [],
            "needs_background": "light"
          }
        }
      ]
    },
    {
      "cell_type": "markdown",
      "metadata": {
        "id": "im28EoMcX6xp"
      },
      "source": [
        "There is a big jump in two days of April. So, we can get that with these commands:"
      ]
    },
    {
      "cell_type": "markdown",
      "metadata": {
        "id": "5KffaUdBYEhI"
      },
      "source": [
        "When we search for that increase in 17 - 18.04.2020 dates, there was an information about the sales that march, april and may have most of sales in a year (You can find this information from this [link](https://www.ikinciyeni.com/blog/iyi-surucu-rehberi-detay/araba-almak-icin-en-iyi-zaman). So, this pick is an expected pick."
      ]
    },
    {
      "cell_type": "markdown",
      "metadata": {
        "id": "LkjKjoAzYXhS"
      },
      "source": [
        "We can make a plot of sales respect to Brand."
      ]
    },
    {
      "cell_type": "code",
      "metadata": {
        "colab": {
          "base_uri": "https://localhost:8080/",
          "height": 416
        },
        "id": "W6TO_53O6eQY",
        "outputId": "d3c211f4-8e11-4b71-930a-b6235c752d05"
      },
      "source": [
        "grouped_b = data.groupby(\"Brand\").count()\r\n",
        "grouped_b = grouped_b[[\"Year\"]]\r\n",
        "grouped_b = grouped_b.rename(columns={\"Year\":\"Count\"})\r\n",
        "grouped_b = grouped_b.sort_values(\"Count\", ascending=False)\r\n",
        "\r\n",
        "plt.figure(figsize=(20,15))\r\n",
        "sns.catplot(x=grouped_b.Count, y=grouped_b.index, kind=\"bar\", data=grouped_b, palette=\"ch:.25\",  dodge=False)\r\n",
        "plt.title(\"Spread of Advertisement According to Brands\")\r\n",
        "plt.show();"
      ],
      "execution_count": null,
      "outputs": [
        {
          "output_type": "display_data",
          "data": {
            "text/plain": [
              "<Figure size 1440x1080 with 0 Axes>"
            ]
          },
          "metadata": {
            "tags": []
          }
        },
        {
          "output_type": "display_data",
          "data": {
            "image/png": "[encoded data removed]",
            "text/plain": [
              "<Figure size 360x360 with 1 Axes>"
            ]
          },
          "metadata": {
            "tags": [],
            "needs_background": "light"
          }
        }
      ]
    },
    {
      "cell_type": "markdown",
      "metadata": {
        "id": "ISB3enUOl_jF"
      },
      "source": [
        "In the pick period we see that there is a type of brand that is mostly in the advertisement. We can inspect which brand it is. Note that, almost all advertisements accumulate between March and July.\r\n",
        "\r\n",
        "Renault is been in advertisements more than 6 times of the next brand. The reasons of this situation can be listed like below:\r\n",
        "\r\n",
        "- The data may not be collected randomly. \r\n",
        "- In the internet advertisements, Renault is the most appealing brand among others due to strategies of companies of brands (which also we should assume that there is no possibility like that)\r\n",
        "- Prices of Renault’s car can be affordable respect to other cars of brands because of high price increase in taxes.\r\n",
        "- Renault is the most popular Brand in online Turkey market because the company produces cars for diverse segments of consumers which helps to reach higher number of sales."
      ]
    },
    {
      "cell_type": "markdown",
      "metadata": {
        "id": "ZeLnFVJCnMar"
      },
      "source": [
        "We can assume that Renault is one of the online market leaders in the Turkey market. For the diversity of segments, we need too plot the prices of Renault."
      ]
    },
    {
      "cell_type": "code",
      "metadata": {
        "colab": {
          "base_uri": "https://localhost:8080/",
          "height": 453
        },
        "id": "2amBqV8snPYZ",
        "outputId": "29a30b69-e7c4-4e83-d1a6-d17647e2cb41"
      },
      "source": [
        "div = data[['Brand','Price']] \r\n",
        "div = div.loc[div['Brand'] == \"Renault\"]\r\n",
        "#div\r\n",
        "\r\n",
        "sns.factorplot(x = \"Brand\", y = \"Price\", data = div, kind = \"box\")\r\n",
        "plt.title(\"Price Diversity of Renault\")\r\n",
        "plt.show();"
      ],
      "execution_count": null,
      "outputs": [
        {
          "output_type": "stream",
          "text": [
            "/usr/local/lib/python3.6/dist-packages/seaborn/categorical.py:3714: UserWarning: The `factorplot` function has been renamed to `catplot`. The original name will be removed in a future release. Please update your code. Note that the default `kind` in `factorplot` (`'point'`) has changed `'strip'` in `catplot`.\n",
            "  warnings.warn(msg)\n"
          ],
          "name": "stderr"
        },
        {
          "output_type": "display_data",
          "data": {
            "image/png": "[encoded data removed]",
            "text/plain": [
              "<Figure size 360x360 with 1 Axes>"
            ]
          },
          "metadata": {
            "tags": [],
            "needs_background": "light"
          }
        }
      ]
    },
    {
      "cell_type": "markdown",
      "metadata": {
        "id": "yvzZrOYcqTYY"
      },
      "source": [
        "We can see from the plot that Renault has cars for every segment in Turkey market. This could make them to be very popular in the market."
      ]
    },
    {
      "cell_type": "markdown",
      "metadata": {
        "id": "rDqXoxrqE2k7"
      },
      "source": [
        "**5.2 The Most/Least Popular Brands**"
      ]
    },
    {
      "cell_type": "code",
      "metadata": {
        "colab": {
          "base_uri": "https://localhost:8080/",
          "height": 404
        },
        "id": "ltta19aCEt3G",
        "outputId": "44a937af-ccce-4543-9b1d-e6dd47ed67cb"
      },
      "source": [
        "b = data.loc[:,'Brand'].value_counts()\r\n",
        "b = b.sort_values(ascending=True).tail(15)\r\n",
        "\r\n",
        "plt.figure(figsize=(8,6))\r\n",
        "b.plot.barh(x='count', y='Number of Brand', \r\n",
        "             title='Most Popular Brands', color='green') \r\n",
        "plt.xlabel(\"Count\")  \r\n",
        "plt.ylabel(\"Brand Name\")\r\n",
        "plt.show();"
      ],
      "execution_count": null,
      "outputs": [
        {
          "output_type": "display_data",
          "data": {
            "image/png": "[encoded data removed]",
            "text/plain": [
              "<Figure size 576x432 with 1 Axes>"
            ]
          },
          "metadata": {
            "tags": [],
            "needs_background": "light"
          }
        }
      ]
    },
    {
      "cell_type": "markdown",
      "metadata": {
        "id": "PzQbXtoBKaP_"
      },
      "source": [
        "The result shows that, the most popular brands according to the number of advertisement in the online car market is Renault. This result also shows that Renault is one of the most preferable car brand in Turkey."
      ]
    },
    {
      "cell_type": "code",
      "metadata": {
        "colab": {
          "base_uri": "https://localhost:8080/",
          "height": 404
        },
        "id": "9gI3Kgt0NYct",
        "outputId": "f830836b-7218-4ebf-c6d0-c82fd9e732ea"
      },
      "source": [
        "b = data.loc[:,'Brand'].value_counts()\r\n",
        "b = b.sort_values(ascending=True).head(15)\r\n",
        "\r\n",
        "plt.figure(figsize=(8,6))\r\n",
        "b.plot.barh(x='count', y='Number of Brand', \r\n",
        "             title='Less Popular Brands', color='red') \r\n",
        "plt.xlabel(\"Count\")  \r\n",
        "plt.ylabel(\"Brand Name\")\r\n",
        "plt.show();"
      ],
      "execution_count": null,
      "outputs": [
        {
          "output_type": "display_data",
          "data": {
            "image/png": "[encoded data removed]",
            "text/plain": [
              "<Figure size 576x432 with 1 Axes>"
            ]
          },
          "metadata": {
            "tags": [],
            "needs_background": "light"
          }
        }
      ]
    },
    {
      "cell_type": "markdown",
      "metadata": {
        "id": "Laq841tXaBYw"
      },
      "source": [
        " The brands in this result indicates that the most expensive car brands like Maserati, Jaguar have smaller count because they are expensive car brands, for this reason there are few owner of this car, less advertisements."
      ]
    },
    {
      "cell_type": "markdown",
      "metadata": {
        "id": "-6_cGgDIOEX8"
      },
      "source": [
        "**5.3 Price Analysis of Car Brands**"
      ]
    },
    {
      "cell_type": "code",
      "metadata": {
        "id": "Upp7MbyljhU8",
        "colab": {
          "base_uri": "https://localhost:8080/",
          "height": 241
        },
        "outputId": "b7ec2c10-395c-432f-8b0c-335cf1d72a3a"
      },
      "source": [
        "plt.figure(figsize = (9,3))\r\n",
        "plt.hist(data[\"Price\"], bins = 50)\r\n",
        "plt.xlabel(\"Price\")\r\n",
        "plt.ylabel(\"Frequency\")\r\n",
        "plt.title(\"Price distribution with histogram\")\r\n",
        "plt.show();"
      ],
      "execution_count": null,
      "outputs": [
        {
          "output_type": "display_data",
          "data": {
            "image/png": "[encoded data removed]",
            "text/plain": [
              "<Figure size 648x216 with 1 Axes>"
            ]
          },
          "metadata": {
            "tags": [],
            "needs_background": "light"
          }
        }
      ]
    },
    {
      "cell_type": "code",
      "metadata": {
        "colab": {
          "base_uri": "https://localhost:8080/",
          "height": 456
        },
        "id": "PlBySxsEKQzz",
        "outputId": "8a39e146-d4db-42cd-9d3d-3308cf4b75e8"
      },
      "source": [
        "p = data.groupby([\"Brand\"],as_index=False)[[\"Price\"]].mean()\r\n",
        "p = p.sort_values(\"Price\", ascending=False)\r\n",
        "\r\n",
        "plt.figure(figsize=(10,5))\r\n",
        "sns.barplot(p.Brand, p.Price, palette='RdPu' ,alpha=0.8)\r\n",
        "plt.title(\"Average Price According to the Brands\")\r\n",
        "plt.ylabel(\"Average Price\", fontsize=12)\r\n",
        "plt.xlabel(\"Brand\", fontsize=12)\r\n",
        "plt.xticks(rotation=90, horizontalalignment=\"center\")\r\n",
        "plt.show();"
      ],
      "execution_count": null,
      "outputs": [
        {
          "output_type": "stream",
          "text": [
            "/usr/local/lib/python3.6/dist-packages/seaborn/_decorators.py:43: FutureWarning: Pass the following variables as keyword args: x, y. From version 0.12, the only valid positional argument will be `data`, and passing other arguments without an explicit keyword will result in an error or misinterpretation.\n",
            "  FutureWarning\n"
          ],
          "name": "stderr"
        },
        {
          "output_type": "display_data",
          "data": {
            "image/png": "[encoded data removed]",
            "text/plain": [
              "<Figure size 720x360 with 1 Axes>"
            ]
          },
          "metadata": {
            "tags": [],
            "needs_background": "light"
          }
        }
      ]
    },
    {
      "cell_type": "markdown",
      "metadata": {
        "id": "swZ9tBRsWcUI"
      },
      "source": [
        "The Brands are sorted according to the average price. In the first place, there is Porsche. "
      ]
    },
    {
      "cell_type": "markdown",
      "metadata": {
        "id": "eUmWv-bgjgW2"
      },
      "source": [
        "**5.4 Price Analysis By Body Type**"
      ]
    },
    {
      "cell_type": "markdown",
      "metadata": {
        "id": "yR82BURgBbuo"
      },
      "source": [
        "In the previous section, we analyze the car brands and their features like Price. In this section we present the body type of the cars. One important factor that impacts this decision is the type of car body which refers to the shape and the model."
      ]
    },
    {
      "cell_type": "code",
      "metadata": {
        "colab": {
          "base_uri": "https://localhost:8080/",
          "height": 452
        },
        "id": "s3O9obKnXpy9",
        "outputId": "937b077a-0fb3-42e7-aa0b-423d82c40b40"
      },
      "source": [
        "p=data.groupby([\"Body_Type\"],as_index = False)[[\"Price\"]].mean().sort_values(by=\"Price\",ascending = False)\r\n",
        "p\r\n"
      ],
      "execution_count": null,
      "outputs": [
        {
          "output_type": "execute_result",
          "data": {
            "text/html": [
              "<div>\n",
              "<style scoped>\n",
              "    .dataframe tbody tr th:only-of-type {\n",
              "        vertical-align: middle;\n",
              "    }\n",
              "\n",
              "    .dataframe tbody tr th {\n",
              "        vertical-align: top;\n",
              "    }\n",
              "\n",
              "    .dataframe thead th {\n",
              "        text-align: right;\n",
              "    }\n",
              "</style>\n",
              "<table border=\"1\" class=\"dataframe\">\n",
              "  <thead>\n",
              "    <tr style=\"text-align: right;\">\n",
              "      <th></th>\n",
              "      <th>Body_Type</th>\n",
              "      <th>Price</th>\n",
              "    </tr>\n",
              "  </thead>\n",
              "  <tbody>\n",
              "    <tr>\n",
              "      <th>10</th>\n",
              "      <td>Spor / Coupe</td>\n",
              "      <td>376182.608108</td>\n",
              "    </tr>\n",
              "    <tr>\n",
              "      <th>12</th>\n",
              "      <td>Üstü Açık / Cabriolet</td>\n",
              "      <td>349437.821429</td>\n",
              "    </tr>\n",
              "    <tr>\n",
              "      <th>0</th>\n",
              "      <td>Arazi Aracı</td>\n",
              "      <td>296781.724364</td>\n",
              "    </tr>\n",
              "    <tr>\n",
              "      <th>8</th>\n",
              "      <td>Roadster</td>\n",
              "      <td>276350.000000</td>\n",
              "    </tr>\n",
              "    <tr>\n",
              "      <th>2</th>\n",
              "      <td>Crossover</td>\n",
              "      <td>167450.000000</td>\n",
              "    </tr>\n",
              "    <tr>\n",
              "      <th>3</th>\n",
              "      <td>Diğer</td>\n",
              "      <td>134358.844660</td>\n",
              "    </tr>\n",
              "    <tr>\n",
              "      <th>9</th>\n",
              "      <td>Sedan</td>\n",
              "      <td>128368.567848</td>\n",
              "    </tr>\n",
              "    <tr>\n",
              "      <th>11</th>\n",
              "      <td>Station Wagon</td>\n",
              "      <td>111748.543568</td>\n",
              "    </tr>\n",
              "    <tr>\n",
              "      <th>6</th>\n",
              "      <td>MPV</td>\n",
              "      <td>104485.393258</td>\n",
              "    </tr>\n",
              "    <tr>\n",
              "      <th>5</th>\n",
              "      <td>Hatchback 5 Kapı</td>\n",
              "      <td>103936.082287</td>\n",
              "    </tr>\n",
              "    <tr>\n",
              "      <th>4</th>\n",
              "      <td>Hatchback 3 Kapı</td>\n",
              "      <td>72062.929412</td>\n",
              "    </tr>\n",
              "    <tr>\n",
              "      <th>7</th>\n",
              "      <td>Minivan</td>\n",
              "      <td>66400.000000</td>\n",
              "    </tr>\n",
              "    <tr>\n",
              "      <th>1</th>\n",
              "      <td>Camlı Van</td>\n",
              "      <td>61072.147651</td>\n",
              "    </tr>\n",
              "  </tbody>\n",
              "</table>\n",
              "</div>"
            ],
            "text/plain": [
              "                Body_Type          Price\n",
              "10           Spor / Coupe  376182.608108\n",
              "12  Üstü Açık / Cabriolet  349437.821429\n",
              "0             Arazi Aracı  296781.724364\n",
              "8                Roadster  276350.000000\n",
              "2               Crossover  167450.000000\n",
              "3                   Diğer  134358.844660\n",
              "9                   Sedan  128368.567848\n",
              "11          Station Wagon  111748.543568\n",
              "6                     MPV  104485.393258\n",
              "5        Hatchback 5 Kapı  103936.082287\n",
              "4        Hatchback 3 Kapı   72062.929412\n",
              "7                 Minivan   66400.000000\n",
              "1               Camlı Van   61072.147651"
            ]
          },
          "metadata": {
            "tags": []
          },
          "execution_count": 48
        }
      ]
    },
    {
      "cell_type": "markdown",
      "metadata": {
        "id": "Wy-X6mmwBnLe"
      },
      "source": [
        "In the first place, there is sport/coupe body type because of the high average price of these cars. The reason behind this idea is that, the most of luxury cars with high price are sport cars such as Porsche."
      ]
    },
    {
      "cell_type": "code",
      "metadata": {
        "colab": {
          "base_uri": "https://localhost:8080/",
          "height": 496
        },
        "id": "U60QLahH372a",
        "outputId": "5f1cc966-da53-421e-90dc-78031f0112c7"
      },
      "source": [
        "fig, ax = plt.subplots(figsize = (8, 6))\r\n",
        "sns.barplot(x = \"Body_Type\", y = \"Price\", data = p)\r\n",
        "plt.xticks(rotation=90, horizontalalignment=\"center\")\r\n",
        "plt.title(\"Average Price According to the Body Type\");"
      ],
      "execution_count": null,
      "outputs": [
        {
          "output_type": "display_data",
          "data": {
            "image/png": "[encoded data removed]",
            "text/plain": [
              "<Figure size 576x432 with 1 Axes>"
            ]
          },
          "metadata": {
            "tags": [],
            "needs_background": "light"
          }
        }
      ]
    },
    {
      "cell_type": "markdown",
      "metadata": {
        "id": "cZxT02WcmxvF"
      },
      "source": [
        "**5.5 Price Analysis By Fuel Type**"
      ]
    },
    {
      "cell_type": "code",
      "metadata": {
        "colab": {
          "base_uri": "https://localhost:8080/",
          "height": 235
        },
        "id": "v2WvH6-Qmz_v",
        "outputId": "8bfe55ad-c976-4f8a-bcd2-7d92106b2d01"
      },
      "source": [
        "f=data.groupby(\"Fuel_Type\")[[\"Fuel_Type\"]].count()\r\n",
        "f=f.rename(columns={\"Fuel_Type\" : \"Count\"})\r\n",
        "f[\"percentage\"] = f[\"Count\"] / f[\"Count\"].sum()\r\n",
        "f"
      ],
      "execution_count": null,
      "outputs": [
        {
          "output_type": "execute_result",
          "data": {
            "text/html": [
              "<div>\n",
              "<style scoped>\n",
              "    .dataframe tbody tr th:only-of-type {\n",
              "        vertical-align: middle;\n",
              "    }\n",
              "\n",
              "    .dataframe tbody tr th {\n",
              "        vertical-align: top;\n",
              "    }\n",
              "\n",
              "    .dataframe thead th {\n",
              "        text-align: right;\n",
              "    }\n",
              "</style>\n",
              "<table border=\"1\" class=\"dataframe\">\n",
              "  <thead>\n",
              "    <tr style=\"text-align: right;\">\n",
              "      <th></th>\n",
              "      <th>Count</th>\n",
              "      <th>percentage</th>\n",
              "    </tr>\n",
              "    <tr>\n",
              "      <th>Fuel_Type</th>\n",
              "      <th></th>\n",
              "      <th></th>\n",
              "    </tr>\n",
              "  </thead>\n",
              "  <tbody>\n",
              "    <tr>\n",
              "      <th>Benzin</th>\n",
              "      <td>1443</td>\n",
              "      <td>0.159571</td>\n",
              "    </tr>\n",
              "    <tr>\n",
              "      <th>Benzin/LPG</th>\n",
              "      <td>1689</td>\n",
              "      <td>0.186774</td>\n",
              "    </tr>\n",
              "    <tr>\n",
              "      <th>Dizel</th>\n",
              "      <td>5880</td>\n",
              "      <td>0.650227</td>\n",
              "    </tr>\n",
              "    <tr>\n",
              "      <th>Elektrik</th>\n",
              "      <td>4</td>\n",
              "      <td>0.000442</td>\n",
              "    </tr>\n",
              "    <tr>\n",
              "      <th>Hibrit</th>\n",
              "      <td>27</td>\n",
              "      <td>0.002986</td>\n",
              "    </tr>\n",
              "  </tbody>\n",
              "</table>\n",
              "</div>"
            ],
            "text/plain": [
              "            Count  percentage\n",
              "Fuel_Type                    \n",
              "Benzin       1443    0.159571\n",
              "Benzin/LPG   1689    0.186774\n",
              "Dizel        5880    0.650227\n",
              "Elektrik        4    0.000442\n",
              "Hibrit         27    0.002986"
            ]
          },
          "metadata": {
            "tags": []
          },
          "execution_count": 50
        }
      ]
    },
    {
      "cell_type": "markdown",
      "metadata": {
        "id": "4CXIGfa1rG1-"
      },
      "source": [
        "The pie chart shows that, the most of the cars in this dataset use Diesel, whereas the Hybrid usage is very low. These different fuel types can affect the price of the cars. "
      ]
    },
    {
      "cell_type": "code",
      "metadata": {
        "colab": {
          "base_uri": "https://localhost:8080/",
          "height": 300
        },
        "id": "hbcw1TuToEO4",
        "outputId": "42b1f3d9-af1e-4a67-fab3-3ba2fab5f80b"
      },
      "source": [
        "f = f.loc[f.index != 'Elektrik']\r\n",
        "fig1, ax1 = plt.subplots()\r\n",
        "ax1.pie(f.percentage, labels=f.index, autopct='%1.2f%%', startangle=90)\r\n",
        "ax1.axis('equal')\r\n",
        "plt.legend(f.index, title='Fuel Types' ,loc=\"upper right\")\r\n",
        "plt.tight_layout();\r\n"
      ],
      "execution_count": null,
      "outputs": [
        {
          "output_type": "display_data",
          "data": {
            "image/png": "[encoded data removed]",
            "text/plain": [
              "<Figure size 432x288 with 1 Axes>"
            ]
          },
          "metadata": {
            "tags": []
          }
        }
      ]
    },
    {
      "cell_type": "markdown",
      "metadata": {
        "id": "AwYtS6Yqsgtx"
      },
      "source": [
        "**5.6 Price Analysis By Gear**"
      ]
    },
    {
      "cell_type": "code",
      "metadata": {
        "colab": {
          "base_uri": "https://localhost:8080/",
          "height": 399
        },
        "id": "0B0rwKfvsjAi",
        "outputId": "d1ed01fd-e3e9-419e-cfc4-ef9053df3f0d"
      },
      "source": [
        "sns.catplot(x=\"Gear\", y=\"Price\", kind=\"bar\", data=data, palette=\"ch:.25\")\r\n",
        "plt.legend(data[\"Gear\"].unique(), title='Gear Types' ,loc=\"upper right\")\r\n",
        "plt.title(\"Price According to the Gear Type\")\r\n",
        "plt.show()"
      ],
      "execution_count": null,
      "outputs": [
        {
          "output_type": "display_data",
          "data": {
            "image/png": "[encoded data removed]",
            "text/plain": [
              "<Figure size 360x360 with 1 Axes>"
            ]
          },
          "metadata": {
            "tags": [],
            "needs_background": "light"
          }
        }
      ]
    },
    {
      "cell_type": "markdown",
      "metadata": {
        "id": "CXyHPlMe2ZtI"
      },
      "source": [
        "The half of the cars in this data set belongs to the Manual Gear Type. However, price distribution in manual gear type concentrates in a narrow area. Semi automatic and automatic, on the other hand, have a wider area with possible outliers."
      ]
    },
    {
      "cell_type": "markdown",
      "metadata": {
        "id": "OE_tdkW83PyS"
      },
      "source": [
        "**5.7 Price Analysis By Kilometers**\r\n"
      ]
    },
    {
      "cell_type": "code",
      "metadata": {
        "colab": {
          "base_uri": "https://localhost:8080/",
          "height": 648
        },
        "id": "ukI4jpt03VNx",
        "outputId": "bf1ffb6b-ff59-4fba-cf90-fdf5fb7e5fe9"
      },
      "source": [
        "sns.scatterplot(x = \"Price\", y = \"Kilometers\", data = data);\r\n",
        "plt.title('Price and Kilometers Relationship');\r\n",
        "sns.lmplot( x = \"Price\", y = \"Kilometers\", data = data);\r\n"
      ],
      "execution_count": null,
      "outputs": [
        {
          "output_type": "display_data",
          "data": {
            "image/png": "[encoded data removed]",
            "text/plain": [
              "<Figure size 432x288 with 1 Axes>"
            ]
          },
          "metadata": {
            "tags": [],
            "needs_background": "light"
          }
        },
        {
          "output_type": "display_data",
          "data": {
            "image/png": "[encoded data removed]",
            "text/plain": [
              "<Figure size 360x360 with 1 Axes>"
            ]
          },
          "metadata": {
            "tags": [],
            "needs_background": "light"
          }
        }
      ]
    },
    {
      "cell_type": "markdown",
      "metadata": {
        "id": "XJ3ZjIHR9z56"
      },
      "source": [
        "**5.8 Price Analysis By CCM**"
      ]
    },
    {
      "cell_type": "markdown",
      "metadata": {
        "id": "nebdPCQO94Ob"
      },
      "source": [
        "The CCM is also important to predict car price, for this reason before to create linear regression model, we want to analyze relationship between Price and CCM."
      ]
    },
    {
      "cell_type": "code",
      "metadata": {
        "colab": {
          "base_uri": "https://localhost:8080/",
          "height": 452
        },
        "id": "sP87khIh9zn6",
        "outputId": "c9bafa61-a7a2-4ce3-8a7b-52a31cce9080"
      },
      "source": [
        "c = data.groupby([\"CCM\"],as_index = False)[[\"Price\"]].mean()\r\n",
        "c = c.loc[c.Price != 66500.000000]\r\n",
        "c"
      ],
      "execution_count": null,
      "outputs": [
        {
          "output_type": "execute_result",
          "data": {
            "text/html": [
              "<div>\n",
              "<style scoped>\n",
              "    .dataframe tbody tr th:only-of-type {\n",
              "        vertical-align: middle;\n",
              "    }\n",
              "\n",
              "    .dataframe tbody tr th {\n",
              "        vertical-align: top;\n",
              "    }\n",
              "\n",
              "    .dataframe thead th {\n",
              "        text-align: right;\n",
              "    }\n",
              "</style>\n",
              "<table border=\"1\" class=\"dataframe\">\n",
              "  <thead>\n",
              "    <tr style=\"text-align: right;\">\n",
              "      <th></th>\n",
              "      <th>CCM</th>\n",
              "      <th>Price</th>\n",
              "    </tr>\n",
              "  </thead>\n",
              "  <tbody>\n",
              "    <tr>\n",
              "      <th>1</th>\n",
              "      <td>1300 cc ve altı</td>\n",
              "      <td>107142.457407</td>\n",
              "    </tr>\n",
              "    <tr>\n",
              "      <th>2</th>\n",
              "      <td>1301-1600 cc</td>\n",
              "      <td>112286.095906</td>\n",
              "    </tr>\n",
              "    <tr>\n",
              "      <th>3</th>\n",
              "      <td>1601-1800 cc</td>\n",
              "      <td>92555.553444</td>\n",
              "    </tr>\n",
              "    <tr>\n",
              "      <th>4</th>\n",
              "      <td>1801-2000 cc</td>\n",
              "      <td>272859.559803</td>\n",
              "    </tr>\n",
              "    <tr>\n",
              "      <th>5</th>\n",
              "      <td>2001-2500 cc</td>\n",
              "      <td>147145.860577</td>\n",
              "    </tr>\n",
              "    <tr>\n",
              "      <th>6</th>\n",
              "      <td>2501-3000 cc</td>\n",
              "      <td>530122.826220</td>\n",
              "    </tr>\n",
              "    <tr>\n",
              "      <th>7</th>\n",
              "      <td>3001-3500 cc</td>\n",
              "      <td>152777.142857</td>\n",
              "    </tr>\n",
              "    <tr>\n",
              "      <th>8</th>\n",
              "      <td>3501-4000 cc</td>\n",
              "      <td>848078.906250</td>\n",
              "    </tr>\n",
              "    <tr>\n",
              "      <th>9</th>\n",
              "      <td>4001-4500 cc</td>\n",
              "      <td>219092.000000</td>\n",
              "    </tr>\n",
              "    <tr>\n",
              "      <th>10</th>\n",
              "      <td>4501-5000 cc</td>\n",
              "      <td>627062.500000</td>\n",
              "    </tr>\n",
              "    <tr>\n",
              "      <th>11</th>\n",
              "      <td>5001-5500 cc</td>\n",
              "      <td>400077.777778</td>\n",
              "    </tr>\n",
              "    <tr>\n",
              "      <th>12</th>\n",
              "      <td>5501-6000 cc</td>\n",
              "      <td>145625.000000</td>\n",
              "    </tr>\n",
              "    <tr>\n",
              "      <th>13</th>\n",
              "      <td>6001 cc ve üzeri</td>\n",
              "      <td>633000.000000</td>\n",
              "    </tr>\n",
              "  </tbody>\n",
              "</table>\n",
              "</div>"
            ],
            "text/plain": [
              "                 CCM          Price\n",
              "1    1300 cc ve altı  107142.457407\n",
              "2       1301-1600 cc  112286.095906\n",
              "3       1601-1800 cc   92555.553444\n",
              "4       1801-2000 cc  272859.559803\n",
              "5       2001-2500 cc  147145.860577\n",
              "6       2501-3000 cc  530122.826220\n",
              "7       3001-3500 cc  152777.142857\n",
              "8       3501-4000 cc  848078.906250\n",
              "9       4001-4500 cc  219092.000000\n",
              "10      4501-5000 cc  627062.500000\n",
              "11      5001-5500 cc  400077.777778\n",
              "12      5501-6000 cc  145625.000000\n",
              "13  6001 cc ve üzeri  633000.000000"
            ]
          },
          "metadata": {
            "tags": []
          },
          "execution_count": 54
        }
      ]
    },
    {
      "cell_type": "code",
      "metadata": {
        "colab": {
          "base_uri": "https://localhost:8080/",
          "height": 456
        },
        "id": "ExY-MGJlCJNK",
        "outputId": "434bb782-420e-4fa4-ce5d-f373c93d8676"
      },
      "source": [
        "plt.stem(c.CCM, c.Price, markerfmt=' ')\r\n",
        "(markers, stemlines, baseline) = plt.stem(c.Price)\r\n",
        "plt.setp(markers, marker='D', markersize=10, markeredgecolor=\"orange\", markeredgewidth=6)\r\n",
        "plt.xticks(rotation=90, horizontalalignment=\"center\")\r\n",
        "plt.title(\"Average Price According to CCM\")\r\n",
        "plt.xlabel(\"CCM\")\r\n",
        "plt.ylabel(\"Price\")\r\n",
        "plt.show();\r\n"
      ],
      "execution_count": null,
      "outputs": [
        {
          "output_type": "stream",
          "text": [
            "/usr/local/lib/python3.6/dist-packages/ipykernel_launcher.py:1: UserWarning: In Matplotlib 3.3 individual lines on a stem plot will be added as a LineCollection instead of individual lines. This significantly improves the performance of a stem plot. To remove this warning and switch to the new behaviour, set the \"use_line_collection\" keyword argument to True.\n",
            "  \"\"\"Entry point for launching an IPython kernel.\n",
            "/usr/local/lib/python3.6/dist-packages/ipykernel_launcher.py:2: UserWarning: In Matplotlib 3.3 individual lines on a stem plot will be added as a LineCollection instead of individual lines. This significantly improves the performance of a stem plot. To remove this warning and switch to the new behaviour, set the \"use_line_collection\" keyword argument to True.\n",
            "  \n"
          ],
          "name": "stderr"
        },
        {
          "output_type": "display_data",
          "data": {
            "image/png": "[encoded data removed]",
            "text/plain": [
              "<Figure size 432x288 with 1 Axes>"
            ]
          },
          "metadata": {
            "tags": [],
            "needs_background": "light"
          }
        }
      ]
    },
    {
      "cell_type": "markdown",
      "metadata": {
        "id": "n0xONW3Mv1ps"
      },
      "source": [
        "**5.9 The Most Popular Car Colors**"
      ]
    },
    {
      "cell_type": "code",
      "metadata": {
        "colab": {
          "base_uri": "https://localhost:8080/",
          "height": 390
        },
        "id": "RRBr0px2v33h",
        "outputId": "8eb538f2-9f37-4b3c-ed7c-21cc38bc3071"
      },
      "source": [
        "co = data.groupby(\"Color\")[[\"Color\"]].count()\r\n",
        "co = co.rename(columns={\"Color\":\"Count\"})\r\n",
        "co[\"percentage\"] = co[\"Count\"] / co[\"Count\"].sum()\r\n",
        "co = co.sort_values(\"percentage\", ascending=False).head(10)\r\n",
        "co\r\n"
      ],
      "execution_count": null,
      "outputs": [
        {
          "output_type": "execute_result",
          "data": {
            "text/html": [
              "<div>\n",
              "<style scoped>\n",
              "    .dataframe tbody tr th:only-of-type {\n",
              "        vertical-align: middle;\n",
              "    }\n",
              "\n",
              "    .dataframe tbody tr th {\n",
              "        vertical-align: top;\n",
              "    }\n",
              "\n",
              "    .dataframe thead th {\n",
              "        text-align: right;\n",
              "    }\n",
              "</style>\n",
              "<table border=\"1\" class=\"dataframe\">\n",
              "  <thead>\n",
              "    <tr style=\"text-align: right;\">\n",
              "      <th></th>\n",
              "      <th>Count</th>\n",
              "      <th>percentage</th>\n",
              "    </tr>\n",
              "    <tr>\n",
              "      <th>Color</th>\n",
              "      <th></th>\n",
              "      <th></th>\n",
              "    </tr>\n",
              "  </thead>\n",
              "  <tbody>\n",
              "    <tr>\n",
              "      <th>Beyaz</th>\n",
              "      <td>4283</td>\n",
              "      <td>0.473626</td>\n",
              "    </tr>\n",
              "    <tr>\n",
              "      <th>Siyah</th>\n",
              "      <td>1221</td>\n",
              "      <td>0.135022</td>\n",
              "    </tr>\n",
              "    <tr>\n",
              "      <th>Gri</th>\n",
              "      <td>1021</td>\n",
              "      <td>0.112905</td>\n",
              "    </tr>\n",
              "    <tr>\n",
              "      <th>Gümüş Gri</th>\n",
              "      <td>649</td>\n",
              "      <td>0.071768</td>\n",
              "    </tr>\n",
              "    <tr>\n",
              "      <th>Füme</th>\n",
              "      <td>434</td>\n",
              "      <td>0.047993</td>\n",
              "    </tr>\n",
              "    <tr>\n",
              "      <th>Kırmızı</th>\n",
              "      <td>387</td>\n",
              "      <td>0.042796</td>\n",
              "    </tr>\n",
              "    <tr>\n",
              "      <th>Mavi</th>\n",
              "      <td>332</td>\n",
              "      <td>0.036713</td>\n",
              "    </tr>\n",
              "    <tr>\n",
              "      <th>Lacivert</th>\n",
              "      <td>170</td>\n",
              "      <td>0.018799</td>\n",
              "    </tr>\n",
              "    <tr>\n",
              "      <th>Bordo</th>\n",
              "      <td>123</td>\n",
              "      <td>0.013602</td>\n",
              "    </tr>\n",
              "    <tr>\n",
              "      <th>Kahverengi</th>\n",
              "      <td>89</td>\n",
              "      <td>0.009842</td>\n",
              "    </tr>\n",
              "  </tbody>\n",
              "</table>\n",
              "</div>"
            ],
            "text/plain": [
              "             Count  percentage\n",
              "Color                         \n",
              "Beyaz         4283    0.473626\n",
              "Siyah         1221    0.135022\n",
              "Gri           1021    0.112905\n",
              "Gümüş Gri      649    0.071768\n",
              "Füme           434    0.047993\n",
              "Kırmızı        387    0.042796\n",
              "Mavi           332    0.036713\n",
              "Lacivert       170    0.018799\n",
              "Bordo          123    0.013602\n",
              "Kahverengi      89    0.009842"
            ]
          },
          "metadata": {
            "tags": []
          },
          "execution_count": 56
        }
      ]
    },
    {
      "cell_type": "code",
      "metadata": {
        "colab": {
          "base_uri": "https://localhost:8080/",
          "height": 416
        },
        "id": "Y4OS7pHrxJo7",
        "outputId": "c4b5bd40-59b3-436e-ca48-41aff6d7f03f"
      },
      "source": [
        "plt.figure(figsize=(15,15))\r\n",
        "sns.catplot(x=co.percentage, y=co.index, kind=\"bar\", data=co, palette=\"cubehelix\",  dodge=False)\r\n",
        "plt.title(\"The Most Popular Colors\")\r\n",
        "plt.show();"
      ],
      "execution_count": null,
      "outputs": [
        {
          "output_type": "display_data",
          "data": {
            "text/plain": [
              "<Figure size 1080x1080 with 0 Axes>"
            ]
          },
          "metadata": {
            "tags": []
          }
        },
        {
          "output_type": "display_data",
          "data": {
            "image/png": "[encoded data removed]",
            "text/plain": [
              "<Figure size 360x360 with 1 Axes>"
            ]
          },
          "metadata": {
            "tags": [],
            "needs_background": "light"
          }
        }
      ]
    },
    {
      "cell_type": "markdown",
      "metadata": {
        "id": "yxIuD_tzyPz3"
      },
      "source": [
        "According to the result, the most popular color in car is White. The second one is Black. These results are as expected."
      ]
    },
    {
      "cell_type": "markdown",
      "metadata": {
        "id": "0pbcWkN9Bu_f"
      },
      "source": [
        "### 6. Data Analysis:"
      ]
    },
    {
      "cell_type": "markdown",
      "metadata": {
        "id": "kuziDGTUKaUj"
      },
      "source": [
        "**6.1 Descriptive Statistics**"
      ]
    },
    {
      "cell_type": "markdown",
      "metadata": {
        "id": "Lnj9ikPfOIpC"
      },
      "source": [
        "To display summary statistic of dataset , we can use **describe()** function. And we can transpose it for better understanding. It is also called “Five Number Summary” where 5 number represents **minimum**, **Q1 (First Quartile)** , **median**, **Q2 (Second Quartile)** and **maximum**."
      ]
    },
    {
      "cell_type": "code",
      "metadata": {
        "colab": {
          "base_uri": "https://localhost:8080/",
          "height": 204
        },
        "id": "DJmegk75NNNE",
        "outputId": "459769a8-39ca-4d63-c131-530a393620f5"
      },
      "source": [
        "data.describe().T"
      ],
      "execution_count": null,
      "outputs": [
        {
          "output_type": "execute_result",
          "data": {
            "text/html": [
              "<div>\n",
              "<style scoped>\n",
              "    .dataframe tbody tr th:only-of-type {\n",
              "        vertical-align: middle;\n",
              "    }\n",
              "\n",
              "    .dataframe tbody tr th {\n",
              "        vertical-align: top;\n",
              "    }\n",
              "\n",
              "    .dataframe thead th {\n",
              "        text-align: right;\n",
              "    }\n",
              "</style>\n",
              "<table border=\"1\" class=\"dataframe\">\n",
              "  <thead>\n",
              "    <tr style=\"text-align: right;\">\n",
              "      <th></th>\n",
              "      <th>count</th>\n",
              "      <th>mean</th>\n",
              "      <th>std</th>\n",
              "      <th>min</th>\n",
              "      <th>25%</th>\n",
              "      <th>50%</th>\n",
              "      <th>75%</th>\n",
              "      <th>max</th>\n",
              "    </tr>\n",
              "  </thead>\n",
              "  <tbody>\n",
              "    <tr>\n",
              "      <th>Year</th>\n",
              "      <td>9043.0</td>\n",
              "      <td>2019.999779</td>\n",
              "      <td>0.014871</td>\n",
              "      <td>2019.0</td>\n",
              "      <td>2020.0</td>\n",
              "      <td>2020.0</td>\n",
              "      <td>2020.0</td>\n",
              "      <td>2020.0</td>\n",
              "    </tr>\n",
              "    <tr>\n",
              "      <th>Month</th>\n",
              "      <td>9043.0</td>\n",
              "      <td>5.010174</td>\n",
              "      <td>2.419988</td>\n",
              "      <td>1.0</td>\n",
              "      <td>4.0</td>\n",
              "      <td>4.0</td>\n",
              "      <td>5.0</td>\n",
              "      <td>12.0</td>\n",
              "    </tr>\n",
              "    <tr>\n",
              "      <th>Model_Year</th>\n",
              "      <td>9043.0</td>\n",
              "      <td>2011.823952</td>\n",
              "      <td>6.610065</td>\n",
              "      <td>1959.0</td>\n",
              "      <td>2010.0</td>\n",
              "      <td>2014.0</td>\n",
              "      <td>2017.0</td>\n",
              "      <td>2020.0</td>\n",
              "    </tr>\n",
              "    <tr>\n",
              "      <th>Kilometers</th>\n",
              "      <td>9043.0</td>\n",
              "      <td>135812.337830</td>\n",
              "      <td>93426.678269</td>\n",
              "      <td>0.0</td>\n",
              "      <td>68000.0</td>\n",
              "      <td>125000.0</td>\n",
              "      <td>194260.0</td>\n",
              "      <td>1850000.0</td>\n",
              "    </tr>\n",
              "    <tr>\n",
              "      <th>Price</th>\n",
              "      <td>9043.0</td>\n",
              "      <td>147523.533341</td>\n",
              "      <td>215828.911304</td>\n",
              "      <td>5500.0</td>\n",
              "      <td>60925.0</td>\n",
              "      <td>95500.0</td>\n",
              "      <td>153500.0</td>\n",
              "      <td>3360000.0</td>\n",
              "    </tr>\n",
              "  </tbody>\n",
              "</table>\n",
              "</div>"
            ],
            "text/plain": [
              "             count           mean            std  ...       50%       75%        max\n",
              "Year        9043.0    2019.999779       0.014871  ...    2020.0    2020.0     2020.0\n",
              "Month       9043.0       5.010174       2.419988  ...       4.0       5.0       12.0\n",
              "Model_Year  9043.0    2011.823952       6.610065  ...    2014.0    2017.0     2020.0\n",
              "Kilometers  9043.0  135812.337830   93426.678269  ...  125000.0  194260.0  1850000.0\n",
              "Price       9043.0  147523.533341  215828.911304  ...   95500.0  153500.0  3360000.0\n",
              "\n",
              "[5 rows x 8 columns]"
            ]
          },
          "metadata": {
            "tags": []
          },
          "execution_count": 58
        }
      ]
    },
    {
      "cell_type": "code",
      "metadata": {
        "colab": {
          "base_uri": "https://localhost:8080/",
          "height": 204
        },
        "id": "nwyt4JFhPTAg",
        "outputId": "94eaa227-087c-48f6-8b38-5fc91ac9415f"
      },
      "source": [
        "#filtering data with numeric variables\r\n",
        "df = data[[\"Model_Year\", \"Kilometers\", \"Price\"]]\r\n",
        "df.head()"
      ],
      "execution_count": null,
      "outputs": [
        {
          "output_type": "execute_result",
          "data": {
            "text/html": [
              "<div>\n",
              "<style scoped>\n",
              "    .dataframe tbody tr th:only-of-type {\n",
              "        vertical-align: middle;\n",
              "    }\n",
              "\n",
              "    .dataframe tbody tr th {\n",
              "        vertical-align: top;\n",
              "    }\n",
              "\n",
              "    .dataframe thead th {\n",
              "        text-align: right;\n",
              "    }\n",
              "</style>\n",
              "<table border=\"1\" class=\"dataframe\">\n",
              "  <thead>\n",
              "    <tr style=\"text-align: right;\">\n",
              "      <th></th>\n",
              "      <th>Model_Year</th>\n",
              "      <th>Kilometers</th>\n",
              "      <th>Price</th>\n",
              "    </tr>\n",
              "  </thead>\n",
              "  <tbody>\n",
              "    <tr>\n",
              "      <th>0</th>\n",
              "      <td>2017</td>\n",
              "      <td>26100</td>\n",
              "      <td>634500</td>\n",
              "    </tr>\n",
              "    <tr>\n",
              "      <th>1</th>\n",
              "      <td>2015</td>\n",
              "      <td>127000</td>\n",
              "      <td>151500</td>\n",
              "    </tr>\n",
              "    <tr>\n",
              "      <th>2</th>\n",
              "      <td>1994</td>\n",
              "      <td>175000</td>\n",
              "      <td>19750</td>\n",
              "    </tr>\n",
              "    <tr>\n",
              "      <th>3</th>\n",
              "      <td>2013</td>\n",
              "      <td>325</td>\n",
              "      <td>52000</td>\n",
              "    </tr>\n",
              "    <tr>\n",
              "      <th>4</th>\n",
              "      <td>2010</td>\n",
              "      <td>207000</td>\n",
              "      <td>148750</td>\n",
              "    </tr>\n",
              "  </tbody>\n",
              "</table>\n",
              "</div>"
            ],
            "text/plain": [
              "   Model_Year  Kilometers   Price\n",
              "0        2017       26100  634500\n",
              "1        2015      127000  151500\n",
              "2        1994      175000   19750\n",
              "3        2013         325   52000\n",
              "4        2010      207000  148750"
            ]
          },
          "metadata": {
            "tags": []
          },
          "execution_count": 59
        }
      ]
    },
    {
      "cell_type": "markdown",
      "metadata": {
        "id": "lC3GVCzdQ9-d"
      },
      "source": [
        "To visualize relationship of multiple features in a 2-dimensional form we can use heatmap. It provides colored visual summary of information.\r\n",
        "Like this we can eyeball our dataset and draw inferences about data for better understanding. "
      ]
    },
    {
      "cell_type": "code",
      "metadata": {
        "colab": {
          "base_uri": "https://localhost:8080/",
          "height": 379
        },
        "id": "vIkQQJBWRDaM",
        "outputId": "5062156e-8013-438c-cca9-42873aebedbb"
      },
      "source": [
        "cor = df.corr()\r\n",
        "pos=0\r\n",
        "plt.figure(figsize=(10,6))\r\n",
        "sns.heatmap(cor, xticklabels = cor.columns, yticklabels=cor.columns, annot=True, cmap='magma');"
      ],
      "execution_count": null,
      "outputs": [
        {
          "output_type": "display_data",
          "data": {
            "image/png": "[encoded data removed]",
            "text/plain": [
              "<Figure size 720x432 with 2 Axes>"
            ]
          },
          "metadata": {
            "tags": [],
            "needs_background": "light"
          }
        }
      ]
    },
    {
      "cell_type": "markdown",
      "metadata": {
        "id": "dxweMH9ubxCK"
      },
      "source": [
        "According to the heatmap, we can say there is a negative correlation of 0.54 between model year and kilometer , there is a positive correlation 0.3 between model year and price."
      ]
    },
    {
      "cell_type": "markdown",
      "metadata": {
        "id": "n9tMc4n1KgCj"
      },
      "source": [
        "**6.2  Inferential Statistics**"
      ]
    },
    {
      "cell_type": "markdown",
      "metadata": {
        "id": "VoFJ6TZn_yrx"
      },
      "source": [
        "For the model, I will apply Multiple Linear Regression Analysis.\r\n"
      ]
    },
    {
      "cell_type": "markdown",
      "metadata": {
        "id": "Ind5WH27COjY"
      },
      "source": [
        "For categorical variables , ı will apply label encoder method.With this method, we will convert categorical variables to numeric format."
      ]
    },
    {
      "cell_type": "code",
      "metadata": {
        "id": "U2A2nbRl2IK2"
      },
      "source": [
        "from sklearn.preprocessing import LabelEncoder\r\n",
        "l_encoder = LabelEncoder()\r\n",
        "columns = ['Brand', 'Vehicle_Type_Group', 'Vehicle_Type','Fuel_Type', 'Gear', 'CCM', 'Color', 'Body_Type','Seller', 'Seller_Status']\r\n",
        "for i in columns:\r\n",
        "  data[i]=l_encoder.fit_transform(data[i])"
      ],
      "execution_count": null,
      "outputs": []
    },
    {
      "cell_type": "code",
      "metadata": {
        "id": "igcPSbQ12JaN"
      },
      "source": [
        "df= data.drop(columns=['Year', 'Month', 'Date' ])"
      ],
      "execution_count": null,
      "outputs": []
    },
    {
      "cell_type": "markdown",
      "metadata": {
        "id": "12pj399YCcRc"
      },
      "source": [
        "We will divide our data into test and train."
      ]
    },
    {
      "cell_type": "code",
      "metadata": {
        "id": "MzG_9ox6ee8h",
        "colab": {
          "base_uri": "https://localhost:8080/"
        },
        "outputId": "22cd6009-481f-4326-a34c-2dab361ce4d4"
      },
      "source": [
        "from sklearn.model_selection import train_test_split, cross_val_score, cross_val_predict\r\n",
        "from sklearn.linear_model import LinearRegression\r\n",
        "import statsmodels.api as sm\r\n",
        "\r\n",
        "X = df.drop(\"Price\", axis = 1)\r\n",
        "y = df[\"Price\"]\r\n",
        "\r\n",
        "X_train, X_test, y_train, y_test = train_test_split(X, y, test_size = 0.30, random_state= 42)"
      ],
      "execution_count": null,
      "outputs": [
        {
          "output_type": "stream",
          "text": [
            "/usr/local/lib/python3.6/dist-packages/statsmodels/tools/_testing.py:19: FutureWarning: pandas.util.testing is deprecated. Use the functions in the public API at pandas.testing instead.\n",
            "  import pandas.util.testing as tm\n"
          ],
          "name": "stderr"
        }
      ]
    },
    {
      "cell_type": "markdown",
      "metadata": {
        "id": "J61v7DI_Cr4g"
      },
      "source": [
        "We converted our data to digital format, but they all take values in different ranges. We have to give them to our model more regularly. Therefore, we will apply Standard Scaler process to the columns."
      ]
    },
    {
      "cell_type": "code",
      "metadata": {
        "id": "j-AwXqDr2Xoz"
      },
      "source": [
        "from sklearn.preprocessing import StandardScaler\r\n",
        "sc_X = StandardScaler()\r\n",
        "X_train = sc_X.fit_transform(X_train)\r\n",
        "X_test = sc_X.transform(X_test)"
      ],
      "execution_count": null,
      "outputs": []
    },
    {
      "cell_type": "markdown",
      "metadata": {
        "id": "75mi9R4hCtZX"
      },
      "source": [
        "**Training the model**"
      ]
    },
    {
      "cell_type": "code",
      "metadata": {
        "id": "rBj89X-c2a-D"
      },
      "source": [
        "lm = LinearRegression()\r\n",
        "model = lm.fit(X_train, y_train)"
      ],
      "execution_count": null,
      "outputs": []
    },
    {
      "cell_type": "code",
      "metadata": {
        "colab": {
          "base_uri": "https://localhost:8080/"
        },
        "id": "JmrpIrNYC0cJ",
        "outputId": "155d360c-bb79-4df5-bc34-3fc0848d9ced"
      },
      "source": [
        "# intercept value of the model\r\n",
        "model.intercept_"
      ],
      "execution_count": null,
      "outputs": [
        {
          "output_type": "execute_result",
          "data": {
            "text/plain": [
              "147751.74660347498"
            ]
          },
          "metadata": {
            "tags": []
          },
          "execution_count": 66
        }
      ]
    },
    {
      "cell_type": "code",
      "metadata": {
        "colab": {
          "base_uri": "https://localhost:8080/"
        },
        "id": "g9fqewAWkiRc",
        "outputId": "cf42bc19-e59a-4ef8-d015-225d719efb66"
      },
      "source": [
        "#coefficient values of the independent variables\r\n",
        "model.coef_  "
      ],
      "execution_count": null,
      "outputs": [
        {
          "output_type": "execute_result",
          "data": {
            "text/plain": [
              "array([  2716.61554196,   1116.02662044,  27762.49118174,  52119.09752717,\n",
              "       -18894.31356872,   2056.93302192,  90192.7179795 ,  22229.12606285,\n",
              "         -954.87975113, -16054.59939481, -57332.82204271, -37807.02686508])"
            ]
          },
          "metadata": {
            "tags": []
          },
          "execution_count": 67
        }
      ]
    },
    {
      "cell_type": "markdown",
      "metadata": {
        "id": "NiC-IDKXDGIS"
      },
      "source": [
        "**Predicting the model**"
      ]
    },
    {
      "cell_type": "code",
      "metadata": {
        "colab": {
          "base_uri": "https://localhost:8080/"
        },
        "id": "y9_QPYPJh1Y8",
        "outputId": "d44273aa-1071-4be3-b7f5-de0c2f213dfe"
      },
      "source": [
        "pr = lm.predict(X_test) \r\n",
        "pr"
      ],
      "execution_count": null,
      "outputs": [
        {
          "output_type": "execute_result",
          "data": {
            "text/plain": [
              "array([137291.00275627, 551337.35611114,  56975.86546716, ...,\n",
              "       132606.40692584,  37738.27753341, 116423.13180989])"
            ]
          },
          "metadata": {
            "tags": []
          },
          "execution_count": 68
        }
      ]
    },
    {
      "cell_type": "markdown",
      "metadata": {
        "id": "2gopmilSDKWC"
      },
      "source": [
        "**Graph of the Relationship Between Predicted and Actual Prices**"
      ]
    },
    {
      "cell_type": "code",
      "metadata": {
        "colab": {
          "base_uri": "https://localhost:8080/",
          "height": 513
        },
        "id": "2RWx-9j72rzs",
        "outputId": "094b7d28-b015-4959-cb91-8dbd0b19ec08"
      },
      "source": [
        "plt.figure(figsize=(12,8))\r\n",
        "sns.regplot(x=y_test, y=pr).set(xlim=(0,500000),ylim=(0,500000))\r\n",
        "plt.xlabel(\"Real price\")\r\n",
        "plt.ylabel(\"Predicted price\")\r\n",
        "plt.title(\"Predicted Price vs Actual Price\");"
      ],
      "execution_count": null,
      "outputs": [
        {
          "output_type": "display_data",
          "data": {
            "image/png": "[encoded data removed]",
            "text/plain": [
              "<Figure size 864x576 with 1 Axes>"
            ]
          },
          "metadata": {
            "tags": [],
            "needs_background": "light"
          }
        }
      ]
    },
    {
      "cell_type": "code",
      "metadata": {
        "colab": {
          "base_uri": "https://localhost:8080/"
        },
        "id": "Udm8Dd2nsVbp",
        "outputId": "09e54222-ef4d-4fe7-9feb-d83ef5903f17"
      },
      "source": [
        "#R_square value\r\n",
        "from sklearn.metrics import mean_squared_error, r2_score\r\n",
        "\r\n",
        "print(r2_score(y_test, pr))"
      ],
      "execution_count": null,
      "outputs": [
        {
          "output_type": "stream",
          "text": [
            "0.42169793630757557\n"
          ],
          "name": "stdout"
        }
      ]
    },
    {
      "cell_type": "markdown",
      "metadata": {
        "id": "xDLsV2Q-D9Iq"
      },
      "source": [
        "A multiple regression model was established and its predictive power (R square) was found to be 42 percent. The prediction power is getting weaker, especially at the price values above 200,000.\r\n",
        "It can be said that the multiple regression model alone is not a satisfactory prediction model. In the next step, different models can be tried."
      ]
    },
    {
      "cell_type": "markdown",
      "metadata": {
        "id": "Z4PI8sLlE41y"
      },
      "source": [
        "**Table of Differences Between Actual Price and Predicted Price**"
      ]
    },
    {
      "cell_type": "code",
      "metadata": {
        "colab": {
          "base_uri": "https://localhost:8080/",
          "height": 238
        },
        "id": "V6Yd1roo09u1",
        "outputId": "f6a5d959-1d99-4eaf-ece1-e37371b05e33"
      },
      "source": [
        "real_pred = pd.DataFrame({'Actual price': np.array(y_test).flatten(), 'Predicted price': pr.flatten(),'Difference':np.array(y_test).flatten()-pr.flatten()})\r\n",
        "real_pred.Diference=round(real_pred.Difference)\r\n",
        "real_pred.head()"
      ],
      "execution_count": null,
      "outputs": [
        {
          "output_type": "stream",
          "text": [
            "/usr/local/lib/python3.6/dist-packages/ipykernel_launcher.py:2: UserWarning: Pandas doesn't allow columns to be created via a new attribute name - see https://pandas.pydata.org/pandas-docs/stable/indexing.html#attribute-access\n",
            "  \n"
          ],
          "name": "stderr"
        },
        {
          "output_type": "execute_result",
          "data": {
            "text/html": [
              "<div>\n",
              "<style scoped>\n",
              "    .dataframe tbody tr th:only-of-type {\n",
              "        vertical-align: middle;\n",
              "    }\n",
              "\n",
              "    .dataframe tbody tr th {\n",
              "        vertical-align: top;\n",
              "    }\n",
              "\n",
              "    .dataframe thead th {\n",
              "        text-align: right;\n",
              "    }\n",
              "</style>\n",
              "<table border=\"1\" class=\"dataframe\">\n",
              "  <thead>\n",
              "    <tr style=\"text-align: right;\">\n",
              "      <th></th>\n",
              "      <th>Actual price</th>\n",
              "      <th>Predicted price</th>\n",
              "      <th>Difference</th>\n",
              "    </tr>\n",
              "  </thead>\n",
              "  <tbody>\n",
              "    <tr>\n",
              "      <th>0</th>\n",
              "      <td>99950</td>\n",
              "      <td>137291.002756</td>\n",
              "      <td>-37341.002756</td>\n",
              "    </tr>\n",
              "    <tr>\n",
              "      <th>1</th>\n",
              "      <td>320000</td>\n",
              "      <td>551337.356111</td>\n",
              "      <td>-231337.356111</td>\n",
              "    </tr>\n",
              "    <tr>\n",
              "      <th>2</th>\n",
              "      <td>41500</td>\n",
              "      <td>56975.865467</td>\n",
              "      <td>-15475.865467</td>\n",
              "    </tr>\n",
              "    <tr>\n",
              "      <th>3</th>\n",
              "      <td>209000</td>\n",
              "      <td>251658.336456</td>\n",
              "      <td>-42658.336456</td>\n",
              "    </tr>\n",
              "    <tr>\n",
              "      <th>4</th>\n",
              "      <td>54900</td>\n",
              "      <td>77561.489286</td>\n",
              "      <td>-22661.489286</td>\n",
              "    </tr>\n",
              "  </tbody>\n",
              "</table>\n",
              "</div>"
            ],
            "text/plain": [
              "   Actual price  Predicted price     Difference\n",
              "0         99950    137291.002756  -37341.002756\n",
              "1        320000    551337.356111 -231337.356111\n",
              "2         41500     56975.865467  -15475.865467\n",
              "3        209000    251658.336456  -42658.336456\n",
              "4         54900     77561.489286  -22661.489286"
            ]
          },
          "metadata": {
            "tags": []
          },
          "execution_count": 71
        }
      ]
    },
    {
      "cell_type": "markdown",
      "metadata": {
        "id": "h-4MlNuFBzJO"
      },
      "source": [
        "### 7. Discussion and Conclusion:"
      ]
    },
    {
      "cell_type": "markdown",
      "metadata": {
        "id": "c8tOmPwxFXza"
      },
      "source": [
        "- In 2020, April has the highest online advertisement number.\r\n",
        "- Renault is the Turkey online market leader in 2020.\r\n",
        "- The most online advertisements are secondhand cars from the gallery.\r\n",
        "- Hybrid fuel type is the most expensive cars in online advertisement number.\r\n",
        "- Manual gear type has the highest online advertisement number.\r\n",
        "- Diesel fuel type has the 66% of online advertisements.\r\n",
        "- The higher price of a car, the lower number of advertisements they have.\r\n",
        "- Basic colors are more preferable in online advertisements."
      ]
    },
    {
      "cell_type": "markdown",
      "metadata": {
        "id": "Ze7rc_g3B3MB"
      },
      "source": [
        "### 8. References:"
      ]
    },
    {
      "cell_type": "markdown",
      "metadata": {
        "id": "_WQwmpYcL-o3"
      },
      "source": [
        "\r\n",
        "- Celik, O., & Osmanoglu, O. (2019). Prediction of the Prices of Second-Hand Cars. European Journal of\r\n",
        "Science and Technology, (16), 77-83.\r\n",
        "\r\n",
        "- Mehmet Özçalıcı, 2017. \"Predicting Second-Hand Car Sales Price Using Decision Trees and Genetic Algorithms,\" Alphanumeric Journal, Bahadir Fatih Yildirim, vol. 5(1), pages 103-114, June.\r\n",
        "\r\n",
        "- Sameerchand Pudaruth, 2014. \"Predicting the Price of Used Cars using Machine Learning Techniques, International Journal of Information & Computation Technology, ISSN 0974-2239 Volume 4, Number 7 (2014), pp. 753-764.\r\n",
        "\r\n",
        "- [Notebook] (https://www.kaggle.com/alpertemel/turkey-car-market)\r\n",
        "\r\n",
        "- https://python-graph-gallery.com/181-custom-lollipop-plot/\r\n",
        "\r\n",
        "- https://matplotlib.org/3.1.1/api/_as_gen/matplotlib.pyplot.setp.html\r\n",
        "\r\n",
        "- https://www.c-sharpcorner.com/article/a-complete-python-seaborn-tutorial/\r\n",
        "\r\n",
        "- https://pandas.pydata.org/pandas-docs/stable/reference/api/pandas.DataFrame.plot.bar.html"
      ]
    },
    {
      "cell_type": "markdown",
      "metadata": {
        "id": "7WazYkobB7B-"
      },
      "source": [
        "### 9. Appendix:"
      ]
    }
  ]
}